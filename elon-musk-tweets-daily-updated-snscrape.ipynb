{
 "cells": [
  {
   "cell_type": "markdown",
   "id": "e8943a0c",
   "metadata": {
    "execution": {
     "iopub.execute_input": "2023-05-25T07:49:08.727932Z",
     "iopub.status.busy": "2023-05-25T07:49:08.727514Z",
     "iopub.status.idle": "2023-05-25T07:49:08.740204Z",
     "shell.execute_reply": "2023-05-25T07:49:08.738918Z",
     "shell.execute_reply.started": "2023-05-25T07:49:08.727899Z"
    },
    "papermill": {
     "duration": 0.005067,
     "end_time": "2023-06-07T22:26:39.382201",
     "exception": false,
     "start_time": "2023-06-07T22:26:39.377134",
     "status": "completed"
    },
    "tags": []
   },
   "source": [
    "#### This code is used for auto updating the <a href = 'https://www.kaggle.com/datasets/aryansingh0909/elon-musk-tweets-updated-daily?sort=votes'> Elon Musk Tweets (Daily Updated)</a>"
   ]
  },
  {
   "cell_type": "markdown",
   "id": "9f59b090",
   "metadata": {
    "papermill": {
     "duration": 0.004097,
     "end_time": "2023-06-07T22:26:39.390820",
     "exception": false,
     "start_time": "2023-06-07T22:26:39.386723",
     "status": "completed"
    },
    "tags": []
   },
   "source": [
    "## Installing snscrape"
   ]
  },
  {
   "cell_type": "code",
   "execution_count": 1,
   "id": "137995cb",
   "metadata": {
    "execution": {
     "iopub.execute_input": "2023-06-07T22:26:39.401624Z",
     "iopub.status.busy": "2023-06-07T22:26:39.400922Z",
     "iopub.status.idle": "2023-06-07T22:26:39.405685Z",
     "shell.execute_reply": "2023-06-07T22:26:39.404884Z"
    },
    "papermill": {
     "duration": 0.012214,
     "end_time": "2023-06-07T22:26:39.407437",
     "exception": false,
     "start_time": "2023-06-07T22:26:39.395223",
     "status": "completed"
    },
    "tags": []
   },
   "outputs": [],
   "source": [
    "# pip3 install snscrape"
   ]
  },
  {
   "cell_type": "markdown",
   "id": "37c5511f",
   "metadata": {
    "papermill": {
     "duration": 0.004209,
     "end_time": "2023-06-07T22:26:39.416245",
     "exception": false,
     "start_time": "2023-06-07T22:26:39.412036",
     "status": "completed"
    },
    "tags": []
   },
   "source": [
    "However, this will not be the developer version. Instead, I recommend using the below command to download the snscrape dev version:"
   ]
  },
  {
   "cell_type": "code",
   "execution_count": 2,
   "id": "b5ff3552",
   "metadata": {
    "_cell_guid": "b1076dfc-b9ad-4769-8c92-a6c4dae69d19",
    "_uuid": "8f2839f25d086af736a60e9eeb907d3b93b6e0e5",
    "execution": {
     "iopub.execute_input": "2023-06-07T22:26:39.426648Z",
     "iopub.status.busy": "2023-06-07T22:26:39.426188Z",
     "iopub.status.idle": "2023-06-07T22:27:09.762484Z",
     "shell.execute_reply": "2023-06-07T22:27:09.761770Z"
    },
    "papermill": {
     "duration": 30.34417,
     "end_time": "2023-06-07T22:27:09.764744",
     "exception": false,
     "start_time": "2023-06-07T22:26:39.420574",
     "status": "completed"
    },
    "tags": []
   },
   "outputs": [
    {
     "name": "stdout",
     "output_type": "stream",
     "text": [
      "Collecting git+https://github.com/JustAnotherArchivist/snscrape.git\r\n",
      "  Cloning https://github.com/JustAnotherArchivist/snscrape.git to /tmp/pip-req-build-fvjzmz08\r\n",
      "  Running command git clone --filter=blob:none --quiet https://github.com/JustAnotherArchivist/snscrape.git /tmp/pip-req-build-fvjzmz08\r\n",
      "  Resolved https://github.com/JustAnotherArchivist/snscrape.git to commit c3b216c3cb8593513a018eb3ec4fd6f18d3aba5b\r\n",
      "  Installing build dependencies ... \u001b[?25l-\b \b\\\b \b|\b \b/\b \b-\b \b\\\b \b|\b \bdone\r\n",
      "\u001b[?25h  Getting requirements to build wheel ... \u001b[?25l-\b \bdone\r\n",
      "\u001b[?25h  Installing backend dependencies ... \u001b[?25l-\b \b\\\b \b|\b \bdone\r\n",
      "\u001b[?25h  Preparing metadata (pyproject.toml) ... \u001b[?25l-\b \bdone\r\n",
      "\u001b[?25hRequirement already satisfied: requests[socks] in /opt/conda/lib/python3.10/site-packages (from snscrape==0.6.2.20230321.dev39+gc3b216c) (2.28.2)\r\n",
      "Requirement already satisfied: filelock in /opt/conda/lib/python3.10/site-packages (from snscrape==0.6.2.20230321.dev39+gc3b216c) (3.11.0)\r\n",
      "Requirement already satisfied: lxml in /opt/conda/lib/python3.10/site-packages (from snscrape==0.6.2.20230321.dev39+gc3b216c) (4.9.2)\r\n",
      "Requirement already satisfied: beautifulsoup4 in /opt/conda/lib/python3.10/site-packages (from snscrape==0.6.2.20230321.dev39+gc3b216c) (4.12.2)\r\n",
      "Requirement already satisfied: soupsieve>1.2 in /opt/conda/lib/python3.10/site-packages (from beautifulsoup4->snscrape==0.6.2.20230321.dev39+gc3b216c) (2.4)\r\n",
      "Requirement already satisfied: charset-normalizer<4,>=2 in /opt/conda/lib/python3.10/site-packages (from requests[socks]->snscrape==0.6.2.20230321.dev39+gc3b216c) (2.1.1)\r\n",
      "Requirement already satisfied: idna<4,>=2.5 in /opt/conda/lib/python3.10/site-packages (from requests[socks]->snscrape==0.6.2.20230321.dev39+gc3b216c) (3.4)\r\n",
      "Requirement already satisfied: certifi>=2017.4.17 in /opt/conda/lib/python3.10/site-packages (from requests[socks]->snscrape==0.6.2.20230321.dev39+gc3b216c) (2022.12.7)\r\n",
      "Requirement already satisfied: urllib3<1.27,>=1.21.1 in /opt/conda/lib/python3.10/site-packages (from requests[socks]->snscrape==0.6.2.20230321.dev39+gc3b216c) (1.26.15)\r\n",
      "Requirement already satisfied: PySocks!=1.5.7,>=1.5.6 in /opt/conda/lib/python3.10/site-packages (from requests[socks]->snscrape==0.6.2.20230321.dev39+gc3b216c) (1.7.1)\r\n",
      "Building wheels for collected packages: snscrape\r\n",
      "  Building wheel for snscrape (pyproject.toml) ... \u001b[?25l-\b \b\\\b \bdone\r\n",
      "\u001b[?25h  Created wheel for snscrape: filename=snscrape-0.6.2.20230321.dev39+gc3b216c-py3-none-any.whl size=73725 sha256=2f02090d1070840ebad8d789145a17317536fc4636b0b2b5d3ccee899338ee2d\r\n",
      "  Stored in directory: /tmp/pip-ephem-wheel-cache-esg_db4d/wheels/05/e9/f7/57056e7c7e44b1feed932fa49fdec9d706c4f563e37160ab74\r\n",
      "Successfully built snscrape\r\n",
      "Installing collected packages: snscrape\r\n",
      "Successfully installed snscrape-0.6.2.20230321.dev39+gc3b216c\r\n",
      "\u001b[33mWARNING: Running pip as the 'root' user can result in broken permissions and conflicting behaviour with the system package manager. It is recommended to use a virtual environment instead: https://pip.pypa.io/warnings/venv\u001b[0m\u001b[33m\r\n",
      "\u001b[0m"
     ]
    }
   ],
   "source": [
    "!pip3 install git+https://github.com/JustAnotherArchivist/snscrape.git"
   ]
  },
  {
   "cell_type": "markdown",
   "id": "a5dbff4c",
   "metadata": {
    "papermill": {
     "duration": 0.005556,
     "end_time": "2023-06-07T22:27:09.776686",
     "exception": false,
     "start_time": "2023-06-07T22:27:09.771130",
     "status": "completed"
    },
    "tags": []
   },
   "source": [
    "Perfect, now that we’ve set up snscrape and peeripheral requirements, let’s jump right into using snscrape!"
   ]
  },
  {
   "cell_type": "markdown",
   "id": "9b578690",
   "metadata": {
    "papermill": {
     "duration": 0.005475,
     "end_time": "2023-06-07T22:27:09.787956",
     "exception": false,
     "start_time": "2023-06-07T22:27:09.782481",
     "status": "completed"
    },
    "tags": []
   },
   "source": [
    "## Using snscrape"
   ]
  },
  {
   "cell_type": "code",
   "execution_count": 3,
   "id": "e620ded7",
   "metadata": {
    "execution": {
     "iopub.execute_input": "2023-06-07T22:27:09.801249Z",
     "iopub.status.busy": "2023-06-07T22:27:09.800896Z",
     "iopub.status.idle": "2023-06-07T22:27:10.182393Z",
     "shell.execute_reply": "2023-06-07T22:27:10.180878Z"
    },
    "papermill": {
     "duration": 0.391322,
     "end_time": "2023-06-07T22:27:10.185008",
     "exception": false,
     "start_time": "2023-06-07T22:27:09.793686",
     "status": "completed"
    },
    "tags": []
   },
   "outputs": [],
   "source": [
    "import snscrape.modules.twitter as sntwitter\n",
    "import pandas as pd"
   ]
  },
  {
   "cell_type": "markdown",
   "id": "1d80e364",
   "metadata": {
    "papermill": {
     "duration": 0.005665,
     "end_time": "2023-06-07T22:27:10.197349",
     "exception": false,
     "start_time": "2023-06-07T22:27:10.191684",
     "status": "completed"
    },
    "tags": []
   },
   "source": [
    "Now, there are two ways of using snscrape\n",
    "\n",
    "1. Using the command prompt, terminal (Converting JSON files for Python)\n",
    "2. Using Python Wrapper\n",
    "I prefer the Python Wrapper method because I believe it's easy to interact with data scraping, rather than engaging in a two-step process with the CLI. However, if you’re interested in knowing the process with CLI, you can refer from <a href = 'https://github.com/MartinKBeck/TwitterScraper/tree/master/snscrape/cli-with-python'> here </a>.\n",
    "\n",
    "\n",
    "To explain better, wrappers around functions in Python allows modifying behavior of function or class. Basically, the wrapper wraps a second function to extend the behavior of the wrapped function, without permanently altering it.\n",
    "<!-- [1]: https://github.com/MartinKBeck/TwitterScraper/tree/master/snscrape/cli-with-python -->"
   ]
  },
  {
   "cell_type": "markdown",
   "id": "d90c8d2f",
   "metadata": {
    "papermill": {
     "duration": 0.005479,
     "end_time": "2023-06-07T22:27:10.208664",
     "exception": false,
     "start_time": "2023-06-07T22:27:10.203185",
     "status": "completed"
    },
    "tags": []
   },
   "source": [
    "## Reading the Old Data from the dataset <a href = 'https://www.kaggle.com/datasets/aryansingh0909/elon-musk-tweets-updated-daily?sort=votes'> Elon Musk Tweets (Daily Updated) </a>"
   ]
  },
  {
   "cell_type": "code",
   "execution_count": 4,
   "id": "69aad501",
   "metadata": {
    "execution": {
     "iopub.execute_input": "2023-06-07T22:27:10.222119Z",
     "iopub.status.busy": "2023-06-07T22:27:10.221538Z",
     "iopub.status.idle": "2023-06-07T22:27:10.363764Z",
     "shell.execute_reply": "2023-06-07T22:27:10.363124Z"
    },
    "papermill": {
     "duration": 0.151141,
     "end_time": "2023-06-07T22:27:10.365536",
     "exception": false,
     "start_time": "2023-06-07T22:27:10.214395",
     "status": "completed"
    },
    "tags": []
   },
   "outputs": [
    {
     "data": {
      "text/html": [
       "<div>\n",
       "<style scoped>\n",
       "    .dataframe tbody tr th:only-of-type {\n",
       "        vertical-align: middle;\n",
       "    }\n",
       "\n",
       "    .dataframe tbody tr th {\n",
       "        vertical-align: top;\n",
       "    }\n",
       "\n",
       "    .dataframe thead th {\n",
       "        text-align: right;\n",
       "    }\n",
       "</style>\n",
       "<table border=\"1\" class=\"dataframe\">\n",
       "  <thead>\n",
       "    <tr style=\"text-align: right;\">\n",
       "      <th></th>\n",
       "      <th>Datetime</th>\n",
       "      <th>Tweet Id</th>\n",
       "      <th>Text</th>\n",
       "      <th>Username</th>\n",
       "    </tr>\n",
       "  </thead>\n",
       "  <tbody>\n",
       "    <tr>\n",
       "      <th>0</th>\n",
       "      <td>2023-06-06 15:50:59+00:00</td>\n",
       "      <td>1666110445256671233</td>\n",
       "      <td>@TRHLofficial And/or simply attracted to same sex</td>\n",
       "      <td>elonmusk</td>\n",
       "    </tr>\n",
       "    <tr>\n",
       "      <th>1</th>\n",
       "      <td>2023-06-06 15:48:10+00:00</td>\n",
       "      <td>1666109737648128000</td>\n",
       "      <td>@TRHLofficial Yeah</td>\n",
       "      <td>elonmusk</td>\n",
       "    </tr>\n",
       "    <tr>\n",
       "      <th>2</th>\n",
       "      <td>2023-06-06 15:47:01+00:00</td>\n",
       "      <td>1666109446873919496</td>\n",
       "      <td>@MdBreathe @RobertKennedyJr Antidepressants &amp;a...</td>\n",
       "      <td>elonmusk</td>\n",
       "    </tr>\n",
       "    <tr>\n",
       "      <th>3</th>\n",
       "      <td>2023-06-06 15:16:02+00:00</td>\n",
       "      <td>1666101650258272257</td>\n",
       "      <td>@ray4tesla ♥️♥️</td>\n",
       "      <td>elonmusk</td>\n",
       "    </tr>\n",
       "    <tr>\n",
       "      <th>4</th>\n",
       "      <td>2023-06-06 15:15:06+00:00</td>\n",
       "      <td>1666101413355704322</td>\n",
       "      <td>@shellenberger Trend is bad</td>\n",
       "      <td>elonmusk</td>\n",
       "    </tr>\n",
       "    <tr>\n",
       "      <th>...</th>\n",
       "      <td>...</td>\n",
       "      <td>...</td>\n",
       "      <td>...</td>\n",
       "      <td>...</td>\n",
       "    </tr>\n",
       "    <tr>\n",
       "      <th>23710</th>\n",
       "      <td>2011-12-03 08:22:07+00:00</td>\n",
       "      <td>142881284019060736</td>\n",
       "      <td>That was a total non sequitur btw</td>\n",
       "      <td>elonmusk</td>\n",
       "    </tr>\n",
       "    <tr>\n",
       "      <th>23711</th>\n",
       "      <td>2011-12-03 08:20:28+00:00</td>\n",
       "      <td>142880871391838208</td>\n",
       "      <td>Great Voltaire quote, arguably better than Twa...</td>\n",
       "      <td>elonmusk</td>\n",
       "    </tr>\n",
       "    <tr>\n",
       "      <th>23712</th>\n",
       "      <td>2011-12-01 10:29:04+00:00</td>\n",
       "      <td>142188458125963264</td>\n",
       "      <td>I made the volume on the Model S http://t.co/w...</td>\n",
       "      <td>elonmusk</td>\n",
       "    </tr>\n",
       "    <tr>\n",
       "      <th>23713</th>\n",
       "      <td>2011-12-01 09:55:11+00:00</td>\n",
       "      <td>142179928203460608</td>\n",
       "      <td>Went to Iceland on Sat to ride bumper cars on ...</td>\n",
       "      <td>elonmusk</td>\n",
       "    </tr>\n",
       "    <tr>\n",
       "      <th>23714</th>\n",
       "      <td>2010-06-04 18:31:57+00:00</td>\n",
       "      <td>15434727182</td>\n",
       "      <td>Please ignore prior tweets, as that was someon...</td>\n",
       "      <td>elonmusk</td>\n",
       "    </tr>\n",
       "  </tbody>\n",
       "</table>\n",
       "<p>23715 rows × 4 columns</p>\n",
       "</div>"
      ],
      "text/plain": [
       "                        Datetime             Tweet Id  \\\n",
       "0      2023-06-06 15:50:59+00:00  1666110445256671233   \n",
       "1      2023-06-06 15:48:10+00:00  1666109737648128000   \n",
       "2      2023-06-06 15:47:01+00:00  1666109446873919496   \n",
       "3      2023-06-06 15:16:02+00:00  1666101650258272257   \n",
       "4      2023-06-06 15:15:06+00:00  1666101413355704322   \n",
       "...                          ...                  ...   \n",
       "23710  2011-12-03 08:22:07+00:00   142881284019060736   \n",
       "23711  2011-12-03 08:20:28+00:00   142880871391838208   \n",
       "23712  2011-12-01 10:29:04+00:00   142188458125963264   \n",
       "23713  2011-12-01 09:55:11+00:00   142179928203460608   \n",
       "23714  2010-06-04 18:31:57+00:00          15434727182   \n",
       "\n",
       "                                                    Text  Username  \n",
       "0      @TRHLofficial And/or simply attracted to same sex  elonmusk  \n",
       "1                                     @TRHLofficial Yeah  elonmusk  \n",
       "2      @MdBreathe @RobertKennedyJr Antidepressants &a...  elonmusk  \n",
       "3                                        @ray4tesla ♥️♥️  elonmusk  \n",
       "4                            @shellenberger Trend is bad  elonmusk  \n",
       "...                                                  ...       ...  \n",
       "23710                  That was a total non sequitur btw  elonmusk  \n",
       "23711  Great Voltaire quote, arguably better than Twa...  elonmusk  \n",
       "23712  I made the volume on the Model S http://t.co/w...  elonmusk  \n",
       "23713  Went to Iceland on Sat to ride bumper cars on ...  elonmusk  \n",
       "23714  Please ignore prior tweets, as that was someon...  elonmusk  \n",
       "\n",
       "[23715 rows x 4 columns]"
      ]
     },
     "execution_count": 4,
     "metadata": {},
     "output_type": "execute_result"
    }
   ],
   "source": [
    "old_tweets_df = pd.read_csv('/kaggle/input/elon-musk-tweets-updated-daily/elonmusk.csv')\n",
    "old_tweets_df"
   ]
  },
  {
   "cell_type": "code",
   "execution_count": 5,
   "id": "c3356a92",
   "metadata": {
    "execution": {
     "iopub.execute_input": "2023-06-07T22:27:10.379270Z",
     "iopub.status.busy": "2023-06-07T22:27:10.378909Z",
     "iopub.status.idle": "2023-06-07T22:27:10.384259Z",
     "shell.execute_reply": "2023-06-07T22:27:10.383419Z"
    },
    "papermill": {
     "duration": 0.014582,
     "end_time": "2023-06-07T22:27:10.386373",
     "exception": false,
     "start_time": "2023-06-07T22:27:10.371791",
     "status": "completed"
    },
    "tags": []
   },
   "outputs": [
    {
     "name": "stdout",
     "output_type": "stream",
     "text": [
      "2023-06-06 15:50:59+00:00\n",
      "<class 'str'>\n"
     ]
    }
   ],
   "source": [
    "latest = old_tweets_df.loc[0, 'Datetime']\n",
    "print(latest)\n",
    "print(type(latest))"
   ]
  },
  {
   "cell_type": "code",
   "execution_count": 6,
   "id": "d8fb4ab7",
   "metadata": {
    "execution": {
     "iopub.execute_input": "2023-06-07T22:27:10.401087Z",
     "iopub.status.busy": "2023-06-07T22:27:10.400756Z",
     "iopub.status.idle": "2023-06-07T22:27:10.405423Z",
     "shell.execute_reply": "2023-06-07T22:27:10.404606Z"
    },
    "papermill": {
     "duration": 0.013684,
     "end_time": "2023-06-07T22:27:10.407044",
     "exception": false,
     "start_time": "2023-06-07T22:27:10.393360",
     "status": "completed"
    },
    "tags": []
   },
   "outputs": [
    {
     "name": "stdout",
     "output_type": "stream",
     "text": [
      "1666110445256671233\n"
     ]
    }
   ],
   "source": [
    "latest_tweet_id = old_tweets_df.loc[0, 'Tweet Id']\n",
    "print(latest_tweet_id)"
   ]
  },
  {
   "cell_type": "markdown",
   "id": "60872d0e",
   "metadata": {
    "papermill": {
     "duration": 0.00559,
     "end_time": "2023-06-07T22:27:10.418543",
     "exception": false,
     "start_time": "2023-06-07T22:27:10.412953",
     "status": "completed"
    },
    "tags": []
   },
   "source": [
    "## Scraping a specific Twitter user’s tweets"
   ]
  },
  {
   "cell_type": "code",
   "execution_count": 7,
   "id": "6d321eef",
   "metadata": {
    "execution": {
     "iopub.execute_input": "2023-06-07T22:27:10.431906Z",
     "iopub.status.busy": "2023-06-07T22:27:10.431583Z",
     "iopub.status.idle": "2023-06-07T22:27:13.193963Z",
     "shell.execute_reply": "2023-06-07T22:27:13.193211Z"
    },
    "papermill": {
     "duration": 2.771516,
     "end_time": "2023-06-07T22:27:13.195874",
     "exception": false,
     "start_time": "2023-06-07T22:27:10.424358",
     "status": "completed"
    },
    "tags": []
   },
   "outputs": [
    {
     "name": "stderr",
     "output_type": "stream",
     "text": [
      "/tmp/ipykernel_20/2621164391.py:12: DeprecatedFeatureWarning: content is deprecated, use rawContent instead\n",
      "  new_tweets_list.append([tweet.date, tweet.id, tweet.content, tweet.user.username]) #declare the attributes to be returned\n"
     ]
    },
    {
     "name": "stdout",
     "output_type": "stream",
     "text": [
      "101\n"
     ]
    }
   ],
   "source": [
    "# importing libraries and packages\n",
    "import snscrape.modules.twitter as sntwitter\n",
    "import pandas as pd\n",
    "\n",
    "# Creating list to append tweet data \n",
    "new_tweets_list = []\n",
    "\n",
    "# Using TwitterSearchScraper to scrape data and append tweets to list\n",
    "for i,tweet in enumerate(sntwitter.TwitterSearchScraper('from:elonmusk').get_items()): #declare a username \n",
    "    if i>100: #number of tweets you want to scrape\n",
    "        break\n",
    "    new_tweets_list.append([tweet.date, tweet.id, tweet.content, tweet.user.username]) #declare the attributes to be returned\n",
    "    \n",
    "# Creating a dataframe from the tweets list above \n",
    "new_tweets_df = pd.DataFrame(new_tweets_list, columns=['Datetime', 'Tweet Id', 'Text', 'Username'])\n",
    "print(len(new_tweets_df))"
   ]
  },
  {
   "cell_type": "markdown",
   "id": "958824cc",
   "metadata": {
    "papermill": {
     "duration": 0.005921,
     "end_time": "2023-06-07T22:27:13.208438",
     "exception": false,
     "start_time": "2023-06-07T22:27:13.202517",
     "status": "completed"
    },
    "tags": []
   },
   "source": [
    "A general execution time for the entire code could be anywhere between 5 mins — 40 mins or even more, depending on the number of tweets fetched by your username or keyword query. If it takes longer than an hour, you might want to check your lines of code."
   ]
  },
  {
   "cell_type": "code",
   "execution_count": 8,
   "id": "11b0e351",
   "metadata": {
    "execution": {
     "iopub.execute_input": "2023-06-07T22:27:13.222588Z",
     "iopub.status.busy": "2023-06-07T22:27:13.221999Z",
     "iopub.status.idle": "2023-06-07T22:27:13.231535Z",
     "shell.execute_reply": "2023-06-07T22:27:13.230960Z"
    },
    "papermill": {
     "duration": 0.018645,
     "end_time": "2023-06-07T22:27:13.233071",
     "exception": false,
     "start_time": "2023-06-07T22:27:13.214426",
     "status": "completed"
    },
    "tags": []
   },
   "outputs": [
    {
     "data": {
      "text/html": [
       "<div>\n",
       "<style scoped>\n",
       "    .dataframe tbody tr th:only-of-type {\n",
       "        vertical-align: middle;\n",
       "    }\n",
       "\n",
       "    .dataframe tbody tr th {\n",
       "        vertical-align: top;\n",
       "    }\n",
       "\n",
       "    .dataframe thead th {\n",
       "        text-align: right;\n",
       "    }\n",
       "</style>\n",
       "<table border=\"1\" class=\"dataframe\">\n",
       "  <thead>\n",
       "    <tr style=\"text-align: right;\">\n",
       "      <th></th>\n",
       "      <th>Datetime</th>\n",
       "      <th>Tweet Id</th>\n",
       "      <th>Text</th>\n",
       "      <th>Username</th>\n",
       "    </tr>\n",
       "  </thead>\n",
       "  <tbody>\n",
       "    <tr>\n",
       "      <th>0</th>\n",
       "      <td>2023-06-07 18:43:15+00:00</td>\n",
       "      <td>1666516185267970053</td>\n",
       "      <td>@WallStreetSilv @SagarSinghSetia !</td>\n",
       "      <td>elonmusk</td>\n",
       "    </tr>\n",
       "    <tr>\n",
       "      <th>1</th>\n",
       "      <td>2023-06-07 18:17:54+00:00</td>\n",
       "      <td>1666509805836554240</td>\n",
       "      <td>@WholeMarsBlog Wipers will get super good</td>\n",
       "      <td>elonmusk</td>\n",
       "    </tr>\n",
       "    <tr>\n",
       "      <th>2</th>\n",
       "      <td>2023-06-07 18:09:20+00:00</td>\n",
       "      <td>1666507648282288128</td>\n",
       "      <td>@MarioNawfal Wow, this is terrible!</td>\n",
       "      <td>elonmusk</td>\n",
       "    </tr>\n",
       "    <tr>\n",
       "      <th>3</th>\n",
       "      <td>2023-06-07 17:39:45+00:00</td>\n",
       "      <td>1666500204906815493</td>\n",
       "      <td>@Jason Exactly</td>\n",
       "      <td>elonmusk</td>\n",
       "    </tr>\n",
       "    <tr>\n",
       "      <th>4</th>\n",
       "      <td>2023-06-07 17:39:20+00:00</td>\n",
       "      <td>1666500100783218698</td>\n",
       "      <td>@MattWalshBlog Insane!!</td>\n",
       "      <td>elonmusk</td>\n",
       "    </tr>\n",
       "    <tr>\n",
       "      <th>5</th>\n",
       "      <td>2023-06-07 17:35:57+00:00</td>\n",
       "      <td>1666499248945258525</td>\n",
       "      <td>@UpdatingOnRome 🤣</td>\n",
       "      <td>elonmusk</td>\n",
       "    </tr>\n",
       "    <tr>\n",
       "      <th>6</th>\n",
       "      <td>2023-06-07 17:34:36+00:00</td>\n",
       "      <td>1666498907986092046</td>\n",
       "      <td>💕</td>\n",
       "      <td>elonmusk</td>\n",
       "    </tr>\n",
       "    <tr>\n",
       "      <th>7</th>\n",
       "      <td>2023-06-07 17:33:52+00:00</td>\n",
       "      <td>1666498723629654035</td>\n",
       "      <td>Extremely concerning https://t.co/PLz5jrocvv</td>\n",
       "      <td>elonmusk</td>\n",
       "    </tr>\n",
       "    <tr>\n",
       "      <th>8</th>\n",
       "      <td>2023-06-07 17:27:03+00:00</td>\n",
       "      <td>1666497007546949653</td>\n",
       "      <td>@MattWalshBlog Interesting piece by Paglia\\nht...</td>\n",
       "      <td>elonmusk</td>\n",
       "    </tr>\n",
       "    <tr>\n",
       "      <th>9</th>\n",
       "      <td>2023-06-07 16:37:13+00:00</td>\n",
       "      <td>1666484466506760193</td>\n",
       "      <td>@TopLobsta Gibson is really that buff these days?</td>\n",
       "      <td>elonmusk</td>\n",
       "    </tr>\n",
       "  </tbody>\n",
       "</table>\n",
       "</div>"
      ],
      "text/plain": [
       "                   Datetime             Tweet Id  \\\n",
       "0 2023-06-07 18:43:15+00:00  1666516185267970053   \n",
       "1 2023-06-07 18:17:54+00:00  1666509805836554240   \n",
       "2 2023-06-07 18:09:20+00:00  1666507648282288128   \n",
       "3 2023-06-07 17:39:45+00:00  1666500204906815493   \n",
       "4 2023-06-07 17:39:20+00:00  1666500100783218698   \n",
       "5 2023-06-07 17:35:57+00:00  1666499248945258525   \n",
       "6 2023-06-07 17:34:36+00:00  1666498907986092046   \n",
       "7 2023-06-07 17:33:52+00:00  1666498723629654035   \n",
       "8 2023-06-07 17:27:03+00:00  1666497007546949653   \n",
       "9 2023-06-07 16:37:13+00:00  1666484466506760193   \n",
       "\n",
       "                                                Text  Username  \n",
       "0                 @WallStreetSilv @SagarSinghSetia !  elonmusk  \n",
       "1          @WholeMarsBlog Wipers will get super good  elonmusk  \n",
       "2                @MarioNawfal Wow, this is terrible!  elonmusk  \n",
       "3                                     @Jason Exactly  elonmusk  \n",
       "4                            @MattWalshBlog Insane!!  elonmusk  \n",
       "5                                  @UpdatingOnRome 🤣  elonmusk  \n",
       "6                                                  💕  elonmusk  \n",
       "7       Extremely concerning https://t.co/PLz5jrocvv  elonmusk  \n",
       "8  @MattWalshBlog Interesting piece by Paglia\\nht...  elonmusk  \n",
       "9  @TopLobsta Gibson is really that buff these days?  elonmusk  "
      ]
     },
     "execution_count": 8,
     "metadata": {},
     "output_type": "execute_result"
    }
   ],
   "source": [
    "new_tweets_df.head(10)"
   ]
  },
  {
   "cell_type": "code",
   "execution_count": 9,
   "id": "81b724ec",
   "metadata": {
    "execution": {
     "iopub.execute_input": "2023-06-07T22:27:13.247820Z",
     "iopub.status.busy": "2023-06-07T22:27:13.247462Z",
     "iopub.status.idle": "2023-06-07T22:27:13.265084Z",
     "shell.execute_reply": "2023-06-07T22:27:13.263694Z"
    },
    "papermill": {
     "duration": 0.027418,
     "end_time": "2023-06-07T22:27:13.267097",
     "exception": false,
     "start_time": "2023-06-07T22:27:13.239679",
     "status": "completed"
    },
    "tags": []
   },
   "outputs": [
    {
     "name": "stdout",
     "output_type": "stream",
     "text": [
      "42\n"
     ]
    },
    {
     "data": {
      "text/html": [
       "<div>\n",
       "<style scoped>\n",
       "    .dataframe tbody tr th:only-of-type {\n",
       "        vertical-align: middle;\n",
       "    }\n",
       "\n",
       "    .dataframe tbody tr th {\n",
       "        vertical-align: top;\n",
       "    }\n",
       "\n",
       "    .dataframe thead th {\n",
       "        text-align: right;\n",
       "    }\n",
       "</style>\n",
       "<table border=\"1\" class=\"dataframe\">\n",
       "  <thead>\n",
       "    <tr style=\"text-align: right;\">\n",
       "      <th></th>\n",
       "      <th>Datetime</th>\n",
       "      <th>Tweet Id</th>\n",
       "      <th>Text</th>\n",
       "      <th>Username</th>\n",
       "    </tr>\n",
       "  </thead>\n",
       "  <tbody>\n",
       "    <tr>\n",
       "      <th>0</th>\n",
       "      <td>2023-06-07 18:43:15+00:00</td>\n",
       "      <td>1666516185267970053</td>\n",
       "      <td>@WallStreetSilv @SagarSinghSetia !</td>\n",
       "      <td>elonmusk</td>\n",
       "    </tr>\n",
       "    <tr>\n",
       "      <th>1</th>\n",
       "      <td>2023-06-07 18:17:54+00:00</td>\n",
       "      <td>1666509805836554240</td>\n",
       "      <td>@WholeMarsBlog Wipers will get super good</td>\n",
       "      <td>elonmusk</td>\n",
       "    </tr>\n",
       "    <tr>\n",
       "      <th>2</th>\n",
       "      <td>2023-06-07 18:09:20+00:00</td>\n",
       "      <td>1666507648282288128</td>\n",
       "      <td>@MarioNawfal Wow, this is terrible!</td>\n",
       "      <td>elonmusk</td>\n",
       "    </tr>\n",
       "    <tr>\n",
       "      <th>3</th>\n",
       "      <td>2023-06-07 17:39:45+00:00</td>\n",
       "      <td>1666500204906815493</td>\n",
       "      <td>@Jason Exactly</td>\n",
       "      <td>elonmusk</td>\n",
       "    </tr>\n",
       "    <tr>\n",
       "      <th>4</th>\n",
       "      <td>2023-06-07 17:39:20+00:00</td>\n",
       "      <td>1666500100783218698</td>\n",
       "      <td>@MattWalshBlog Insane!!</td>\n",
       "      <td>elonmusk</td>\n",
       "    </tr>\n",
       "    <tr>\n",
       "      <th>5</th>\n",
       "      <td>2023-06-07 17:35:57+00:00</td>\n",
       "      <td>1666499248945258525</td>\n",
       "      <td>@UpdatingOnRome 🤣</td>\n",
       "      <td>elonmusk</td>\n",
       "    </tr>\n",
       "    <tr>\n",
       "      <th>6</th>\n",
       "      <td>2023-06-07 17:34:36+00:00</td>\n",
       "      <td>1666498907986092046</td>\n",
       "      <td>💕</td>\n",
       "      <td>elonmusk</td>\n",
       "    </tr>\n",
       "    <tr>\n",
       "      <th>7</th>\n",
       "      <td>2023-06-07 17:33:52+00:00</td>\n",
       "      <td>1666498723629654035</td>\n",
       "      <td>Extremely concerning https://t.co/PLz5jrocvv</td>\n",
       "      <td>elonmusk</td>\n",
       "    </tr>\n",
       "    <tr>\n",
       "      <th>8</th>\n",
       "      <td>2023-06-07 17:27:03+00:00</td>\n",
       "      <td>1666497007546949653</td>\n",
       "      <td>@MattWalshBlog Interesting piece by Paglia\\nht...</td>\n",
       "      <td>elonmusk</td>\n",
       "    </tr>\n",
       "    <tr>\n",
       "      <th>9</th>\n",
       "      <td>2023-06-07 16:37:13+00:00</td>\n",
       "      <td>1666484466506760193</td>\n",
       "      <td>@TopLobsta Gibson is really that buff these days?</td>\n",
       "      <td>elonmusk</td>\n",
       "    </tr>\n",
       "    <tr>\n",
       "      <th>10</th>\n",
       "      <td>2023-06-07 16:31:12+00:00</td>\n",
       "      <td>1666482951385669641</td>\n",
       "      <td>@Scobleizer Wow</td>\n",
       "      <td>elonmusk</td>\n",
       "    </tr>\n",
       "    <tr>\n",
       "      <th>11</th>\n",
       "      <td>2023-06-07 16:29:18+00:00</td>\n",
       "      <td>1666482476749815809</td>\n",
       "      <td>@ray4tesla True</td>\n",
       "      <td>elonmusk</td>\n",
       "    </tr>\n",
       "    <tr>\n",
       "      <th>12</th>\n",
       "      <td>2023-06-07 16:28:02+00:00</td>\n",
       "      <td>1666482157416529920</td>\n",
       "      <td>@ylecun Yeah, ok, but also AGI</td>\n",
       "      <td>elonmusk</td>\n",
       "    </tr>\n",
       "    <tr>\n",
       "      <th>13</th>\n",
       "      <td>2023-06-07 16:25:54+00:00</td>\n",
       "      <td>1666481621510283270</td>\n",
       "      <td>@micsolana !!</td>\n",
       "      <td>elonmusk</td>\n",
       "    </tr>\n",
       "    <tr>\n",
       "      <th>14</th>\n",
       "      <td>2023-06-07 16:23:13+00:00</td>\n",
       "      <td>1666480946319687682</td>\n",
       "      <td>@krassenstein We are working on having this in...</td>\n",
       "      <td>elonmusk</td>\n",
       "    </tr>\n",
       "    <tr>\n",
       "      <th>15</th>\n",
       "      <td>2023-06-07 16:18:47+00:00</td>\n",
       "      <td>1666479830290898944</td>\n",
       "      <td>@carolinecwilder @krassenstein Absolutely</td>\n",
       "      <td>elonmusk</td>\n",
       "    </tr>\n",
       "    <tr>\n",
       "      <th>16</th>\n",
       "      <td>2023-06-07 16:15:38+00:00</td>\n",
       "      <td>1666479033817653249</td>\n",
       "      <td>@adamdangelo True. Also, many other NN acceler...</td>\n",
       "      <td>elonmusk</td>\n",
       "    </tr>\n",
       "    <tr>\n",
       "      <th>17</th>\n",
       "      <td>2023-06-07 09:35:11+00:00</td>\n",
       "      <td>1666378260832239617</td>\n",
       "      <td>@alex_avoigt @Porsche The Tesla Plaid Model S ...</td>\n",
       "      <td>elonmusk</td>\n",
       "    </tr>\n",
       "    <tr>\n",
       "      <th>18</th>\n",
       "      <td>2023-06-07 06:37:23+00:00</td>\n",
       "      <td>1666333514466197505</td>\n",
       "      <td>@AsraNomani @CoalitionVirtue They keep chantin...</td>\n",
       "      <td>elonmusk</td>\n",
       "    </tr>\n",
       "    <tr>\n",
       "      <th>19</th>\n",
       "      <td>2023-06-07 06:31:13+00:00</td>\n",
       "      <td>1666331961281900545</td>\n",
       "      <td>This platform will provide email addresses of ...</td>\n",
       "      <td>elonmusk</td>\n",
       "    </tr>\n",
       "    <tr>\n",
       "      <th>20</th>\n",
       "      <td>2023-06-07 05:26:38+00:00</td>\n",
       "      <td>1666315710295945217</td>\n",
       "      <td>@MrBeast @KickStreamsLive Great!</td>\n",
       "      <td>elonmusk</td>\n",
       "    </tr>\n",
       "    <tr>\n",
       "      <th>21</th>\n",
       "      <td>2023-06-07 05:25:29+00:00</td>\n",
       "      <td>1666315418472964099</td>\n",
       "      <td>@WholeMarsBlog @growing_daniel Makes a lot mor...</td>\n",
       "      <td>elonmusk</td>\n",
       "    </tr>\n",
       "    <tr>\n",
       "      <th>22</th>\n",
       "      <td>2023-06-07 05:00:26+00:00</td>\n",
       "      <td>1666309116489265152</td>\n",
       "      <td>@OyunerdeneMN @Tesla It was an honor to speak</td>\n",
       "      <td>elonmusk</td>\n",
       "    </tr>\n",
       "    <tr>\n",
       "      <th>23</th>\n",
       "      <td>2023-06-07 04:58:55+00:00</td>\n",
       "      <td>1666308735436816384</td>\n",
       "      <td>@growing_daniel That’s a real number?</td>\n",
       "      <td>elonmusk</td>\n",
       "    </tr>\n",
       "    <tr>\n",
       "      <th>24</th>\n",
       "      <td>2023-06-07 04:58:15+00:00</td>\n",
       "      <td>1666308565785509893</td>\n",
       "      <td>@Diablo It’s good</td>\n",
       "      <td>elonmusk</td>\n",
       "    </tr>\n",
       "    <tr>\n",
       "      <th>25</th>\n",
       "      <td>2023-06-07 04:55:26+00:00</td>\n",
       "      <td>1666307857602555905</td>\n",
       "      <td>@growing_daniel 🤣</td>\n",
       "      <td>elonmusk</td>\n",
       "    </tr>\n",
       "    <tr>\n",
       "      <th>26</th>\n",
       "      <td>2023-06-07 04:50:35+00:00</td>\n",
       "      <td>1666306635411619842</td>\n",
       "      <td>@Austen 🤣</td>\n",
       "      <td>elonmusk</td>\n",
       "    </tr>\n",
       "    <tr>\n",
       "      <th>27</th>\n",
       "      <td>2023-06-07 02:13:16+00:00</td>\n",
       "      <td>1666267045598572544</td>\n",
       "      <td>@stevenmarkryan @farzyness Ok fine we’ll do it</td>\n",
       "      <td>elonmusk</td>\n",
       "    </tr>\n",
       "    <tr>\n",
       "      <th>28</th>\n",
       "      <td>2023-06-07 02:06:44+00:00</td>\n",
       "      <td>1666265404933644294</td>\n",
       "      <td>@dogeofficialceo Computers are definitely binary</td>\n",
       "      <td>elonmusk</td>\n",
       "    </tr>\n",
       "    <tr>\n",
       "      <th>29</th>\n",
       "      <td>2023-06-07 01:58:22+00:00</td>\n",
       "      <td>1666263296939380736</td>\n",
       "      <td>@JacobMyth @MattWalshBlog Maybe total user-sec...</td>\n",
       "      <td>elonmusk</td>\n",
       "    </tr>\n",
       "    <tr>\n",
       "      <th>30</th>\n",
       "      <td>2023-06-07 01:56:41+00:00</td>\n",
       "      <td>1666262874619084813</td>\n",
       "      <td>@MattWalshBlog That said, it simply counts if ...</td>\n",
       "      <td>elonmusk</td>\n",
       "    </tr>\n",
       "    <tr>\n",
       "      <th>31</th>\n",
       "      <td>2023-06-07 01:54:10+00:00</td>\n",
       "      <td>1666262242088632321</td>\n",
       "      <td>@MattWalshBlog Correct</td>\n",
       "      <td>elonmusk</td>\n",
       "    </tr>\n",
       "    <tr>\n",
       "      <th>32</th>\n",
       "      <td>2023-06-07 01:51:42+00:00</td>\n",
       "      <td>1666261622023680003</td>\n",
       "      <td>@MattWalshBlog View count is actually understa...</td>\n",
       "      <td>elonmusk</td>\n",
       "    </tr>\n",
       "    <tr>\n",
       "      <th>33</th>\n",
       "      <td>2023-06-07 01:49:59+00:00</td>\n",
       "      <td>1666261187091218432</td>\n",
       "      <td>@monitoringbias 🤣</td>\n",
       "      <td>elonmusk</td>\n",
       "    </tr>\n",
       "    <tr>\n",
       "      <th>34</th>\n",
       "      <td>2023-06-07 01:42:01+00:00</td>\n",
       "      <td>1666259182478057472</td>\n",
       "      <td>@krassenstein 💯 👏</td>\n",
       "      <td>elonmusk</td>\n",
       "    </tr>\n",
       "    <tr>\n",
       "      <th>35</th>\n",
       "      <td>2023-06-07 01:38:47+00:00</td>\n",
       "      <td>1666258370137825280</td>\n",
       "      <td>@stclairashley I will follow them if they post...</td>\n",
       "      <td>elonmusk</td>\n",
       "    </tr>\n",
       "    <tr>\n",
       "      <th>36</th>\n",
       "      <td>2023-06-07 01:19:06+00:00</td>\n",
       "      <td>1666253417780592640</td>\n",
       "      <td>@krassenstein Community Notes plus user commen...</td>\n",
       "      <td>elonmusk</td>\n",
       "    </tr>\n",
       "    <tr>\n",
       "      <th>37</th>\n",
       "      <td>2023-06-07 00:47:10+00:00</td>\n",
       "      <td>1666245379317288963</td>\n",
       "      <td>@TitterDaily @GerberKawasaki Exactly</td>\n",
       "      <td>elonmusk</td>\n",
       "    </tr>\n",
       "    <tr>\n",
       "      <th>38</th>\n",
       "      <td>2023-06-07 00:35:08+00:00</td>\n",
       "      <td>1666242350178263040</td>\n",
       "      <td>@teslaownersSV Cool</td>\n",
       "      <td>elonmusk</td>\n",
       "    </tr>\n",
       "    <tr>\n",
       "      <th>39</th>\n",
       "      <td>2023-06-07 00:04:42+00:00</td>\n",
       "      <td>1666234691945365510</td>\n",
       "      <td>@westcoastbill 🦾</td>\n",
       "      <td>elonmusk</td>\n",
       "    </tr>\n",
       "    <tr>\n",
       "      <th>40</th>\n",
       "      <td>2023-06-06 23:55:57+00:00</td>\n",
       "      <td>1666232490866999300</td>\n",
       "      <td>@TitterDaily No restrictions on this platform!</td>\n",
       "      <td>elonmusk</td>\n",
       "    </tr>\n",
       "    <tr>\n",
       "      <th>41</th>\n",
       "      <td>2023-06-06 23:54:30+00:00</td>\n",
       "      <td>1666232126172176384</td>\n",
       "      <td>Would be great to have shows from all parts of...</td>\n",
       "      <td>elonmusk</td>\n",
       "    </tr>\n",
       "    <tr>\n",
       "      <th>42</th>\n",
       "      <td>2023-06-06 15:50:59+00:00</td>\n",
       "      <td>1666110445256671233</td>\n",
       "      <td>@TRHLofficial And/or simply attracted to same sex</td>\n",
       "      <td>elonmusk</td>\n",
       "    </tr>\n",
       "  </tbody>\n",
       "</table>\n",
       "</div>"
      ],
      "text/plain": [
       "                    Datetime             Tweet Id  \\\n",
       "0  2023-06-07 18:43:15+00:00  1666516185267970053   \n",
       "1  2023-06-07 18:17:54+00:00  1666509805836554240   \n",
       "2  2023-06-07 18:09:20+00:00  1666507648282288128   \n",
       "3  2023-06-07 17:39:45+00:00  1666500204906815493   \n",
       "4  2023-06-07 17:39:20+00:00  1666500100783218698   \n",
       "5  2023-06-07 17:35:57+00:00  1666499248945258525   \n",
       "6  2023-06-07 17:34:36+00:00  1666498907986092046   \n",
       "7  2023-06-07 17:33:52+00:00  1666498723629654035   \n",
       "8  2023-06-07 17:27:03+00:00  1666497007546949653   \n",
       "9  2023-06-07 16:37:13+00:00  1666484466506760193   \n",
       "10 2023-06-07 16:31:12+00:00  1666482951385669641   \n",
       "11 2023-06-07 16:29:18+00:00  1666482476749815809   \n",
       "12 2023-06-07 16:28:02+00:00  1666482157416529920   \n",
       "13 2023-06-07 16:25:54+00:00  1666481621510283270   \n",
       "14 2023-06-07 16:23:13+00:00  1666480946319687682   \n",
       "15 2023-06-07 16:18:47+00:00  1666479830290898944   \n",
       "16 2023-06-07 16:15:38+00:00  1666479033817653249   \n",
       "17 2023-06-07 09:35:11+00:00  1666378260832239617   \n",
       "18 2023-06-07 06:37:23+00:00  1666333514466197505   \n",
       "19 2023-06-07 06:31:13+00:00  1666331961281900545   \n",
       "20 2023-06-07 05:26:38+00:00  1666315710295945217   \n",
       "21 2023-06-07 05:25:29+00:00  1666315418472964099   \n",
       "22 2023-06-07 05:00:26+00:00  1666309116489265152   \n",
       "23 2023-06-07 04:58:55+00:00  1666308735436816384   \n",
       "24 2023-06-07 04:58:15+00:00  1666308565785509893   \n",
       "25 2023-06-07 04:55:26+00:00  1666307857602555905   \n",
       "26 2023-06-07 04:50:35+00:00  1666306635411619842   \n",
       "27 2023-06-07 02:13:16+00:00  1666267045598572544   \n",
       "28 2023-06-07 02:06:44+00:00  1666265404933644294   \n",
       "29 2023-06-07 01:58:22+00:00  1666263296939380736   \n",
       "30 2023-06-07 01:56:41+00:00  1666262874619084813   \n",
       "31 2023-06-07 01:54:10+00:00  1666262242088632321   \n",
       "32 2023-06-07 01:51:42+00:00  1666261622023680003   \n",
       "33 2023-06-07 01:49:59+00:00  1666261187091218432   \n",
       "34 2023-06-07 01:42:01+00:00  1666259182478057472   \n",
       "35 2023-06-07 01:38:47+00:00  1666258370137825280   \n",
       "36 2023-06-07 01:19:06+00:00  1666253417780592640   \n",
       "37 2023-06-07 00:47:10+00:00  1666245379317288963   \n",
       "38 2023-06-07 00:35:08+00:00  1666242350178263040   \n",
       "39 2023-06-07 00:04:42+00:00  1666234691945365510   \n",
       "40 2023-06-06 23:55:57+00:00  1666232490866999300   \n",
       "41 2023-06-06 23:54:30+00:00  1666232126172176384   \n",
       "42 2023-06-06 15:50:59+00:00  1666110445256671233   \n",
       "\n",
       "                                                 Text  Username  \n",
       "0                  @WallStreetSilv @SagarSinghSetia !  elonmusk  \n",
       "1           @WholeMarsBlog Wipers will get super good  elonmusk  \n",
       "2                 @MarioNawfal Wow, this is terrible!  elonmusk  \n",
       "3                                      @Jason Exactly  elonmusk  \n",
       "4                             @MattWalshBlog Insane!!  elonmusk  \n",
       "5                                   @UpdatingOnRome 🤣  elonmusk  \n",
       "6                                                   💕  elonmusk  \n",
       "7        Extremely concerning https://t.co/PLz5jrocvv  elonmusk  \n",
       "8   @MattWalshBlog Interesting piece by Paglia\\nht...  elonmusk  \n",
       "9   @TopLobsta Gibson is really that buff these days?  elonmusk  \n",
       "10                                    @Scobleizer Wow  elonmusk  \n",
       "11                                    @ray4tesla True  elonmusk  \n",
       "12                     @ylecun Yeah, ok, but also AGI  elonmusk  \n",
       "13                                      @micsolana !!  elonmusk  \n",
       "14  @krassenstein We are working on having this in...  elonmusk  \n",
       "15          @carolinecwilder @krassenstein Absolutely  elonmusk  \n",
       "16  @adamdangelo True. Also, many other NN acceler...  elonmusk  \n",
       "17  @alex_avoigt @Porsche The Tesla Plaid Model S ...  elonmusk  \n",
       "18  @AsraNomani @CoalitionVirtue They keep chantin...  elonmusk  \n",
       "19  This platform will provide email addresses of ...  elonmusk  \n",
       "20                   @MrBeast @KickStreamsLive Great!  elonmusk  \n",
       "21  @WholeMarsBlog @growing_daniel Makes a lot mor...  elonmusk  \n",
       "22      @OyunerdeneMN @Tesla It was an honor to speak  elonmusk  \n",
       "23              @growing_daniel That’s a real number?  elonmusk  \n",
       "24                                  @Diablo It’s good  elonmusk  \n",
       "25                                  @growing_daniel 🤣  elonmusk  \n",
       "26                                          @Austen 🤣  elonmusk  \n",
       "27     @stevenmarkryan @farzyness Ok fine we’ll do it  elonmusk  \n",
       "28   @dogeofficialceo Computers are definitely binary  elonmusk  \n",
       "29  @JacobMyth @MattWalshBlog Maybe total user-sec...  elonmusk  \n",
       "30  @MattWalshBlog That said, it simply counts if ...  elonmusk  \n",
       "31                             @MattWalshBlog Correct  elonmusk  \n",
       "32  @MattWalshBlog View count is actually understa...  elonmusk  \n",
       "33                                  @monitoringbias 🤣  elonmusk  \n",
       "34                                  @krassenstein 💯 👏  elonmusk  \n",
       "35  @stclairashley I will follow them if they post...  elonmusk  \n",
       "36  @krassenstein Community Notes plus user commen...  elonmusk  \n",
       "37               @TitterDaily @GerberKawasaki Exactly  elonmusk  \n",
       "38                                @teslaownersSV Cool  elonmusk  \n",
       "39                                   @westcoastbill 🦾  elonmusk  \n",
       "40     @TitterDaily No restrictions on this platform!  elonmusk  \n",
       "41  Would be great to have shows from all parts of...  elonmusk  \n",
       "42  @TRHLofficial And/or simply attracted to same sex  elonmusk  "
      ]
     },
     "execution_count": 9,
     "metadata": {},
     "output_type": "execute_result"
    }
   ],
   "source": [
    "index = -1\n",
    "for i in range(len(new_tweets_df)):\n",
    "    if(latest_tweet_id == new_tweets_df.loc[i, 'Tweet Id']):\n",
    "        index = i\n",
    "        \n",
    "print(index)\n",
    "df_temp = new_tweets_df.iloc[:(index + 1), :]\n",
    "df_temp"
   ]
  },
  {
   "cell_type": "markdown",
   "id": "949d7be1",
   "metadata": {
    "papermill": {
     "duration": 0.006916,
     "end_time": "2023-06-07T22:27:13.281069",
     "exception": false,
     "start_time": "2023-06-07T22:27:13.274153",
     "status": "completed"
    },
    "tags": []
   },
   "source": [
    "## Updating the New Data in the Old Data"
   ]
  },
  {
   "cell_type": "code",
   "execution_count": 10,
   "id": "8ad02c62",
   "metadata": {
    "execution": {
     "iopub.execute_input": "2023-06-07T22:27:13.296838Z",
     "iopub.status.busy": "2023-06-07T22:27:13.296463Z",
     "iopub.status.idle": "2023-06-07T22:27:13.311775Z",
     "shell.execute_reply": "2023-06-07T22:27:13.311112Z"
    },
    "papermill": {
     "duration": 0.025553,
     "end_time": "2023-06-07T22:27:13.313490",
     "exception": false,
     "start_time": "2023-06-07T22:27:13.287937",
     "status": "completed"
    },
    "tags": []
   },
   "outputs": [
    {
     "name": "stdout",
     "output_type": "stream",
     "text": [
      "                   Datetime             Tweet Id  \\\n",
      "0 2023-06-07 18:43:15+00:00  1666516185267970053   \n",
      "1 2023-06-07 18:17:54+00:00  1666509805836554240   \n",
      "2 2023-06-07 18:09:20+00:00  1666507648282288128   \n",
      "3 2023-06-07 17:39:45+00:00  1666500204906815493   \n",
      "4 2023-06-07 17:39:20+00:00  1666500100783218698   \n",
      "5 2023-06-07 17:35:57+00:00  1666499248945258525   \n",
      "6 2023-06-07 17:34:36+00:00  1666498907986092046   \n",
      "7 2023-06-07 17:33:52+00:00  1666498723629654035   \n",
      "8 2023-06-07 17:27:03+00:00  1666497007546949653   \n",
      "9 2023-06-07 16:37:13+00:00  1666484466506760193   \n",
      "\n",
      "                                                Text  Username  \n",
      "0                 @WallStreetSilv @SagarSinghSetia !  elonmusk  \n",
      "1          @WholeMarsBlog Wipers will get super good  elonmusk  \n",
      "2                @MarioNawfal Wow, this is terrible!  elonmusk  \n",
      "3                                     @Jason Exactly  elonmusk  \n",
      "4                            @MattWalshBlog Insane!!  elonmusk  \n",
      "5                                  @UpdatingOnRome 🤣  elonmusk  \n",
      "6                                                  💕  elonmusk  \n",
      "7       Extremely concerning https://t.co/PLz5jrocvv  elonmusk  \n",
      "8  @MattWalshBlog Interesting piece by Paglia\\nht...  elonmusk  \n",
      "9  @TopLobsta Gibson is really that buff these days?  elonmusk  \n",
      "42\n"
     ]
    }
   ],
   "source": [
    "if(index != -1):\n",
    "    df_temp = df_temp.drop(len(df_temp) - 1, axis = 0)\n",
    "    df_temp.reset_index(inplace = True, drop = True)\n",
    "    print(df_temp.head(10))\n",
    "    print(len(df_temp))\n",
    "    old_tweets_df = pd.concat([df_temp, old_tweets_df], axis = 0)\n",
    "    old_tweets_df"
   ]
  },
  {
   "cell_type": "markdown",
   "id": "d09f06e9",
   "metadata": {
    "papermill": {
     "duration": 0.007368,
     "end_time": "2023-06-07T22:27:13.328395",
     "exception": false,
     "start_time": "2023-06-07T22:27:13.321027",
     "status": "completed"
    },
    "tags": []
   },
   "source": [
    "## Saving the Updated Data"
   ]
  },
  {
   "cell_type": "code",
   "execution_count": 11,
   "id": "801bd1a2",
   "metadata": {
    "execution": {
     "iopub.execute_input": "2023-06-07T22:27:13.345143Z",
     "iopub.status.busy": "2023-06-07T22:27:13.344175Z",
     "iopub.status.idle": "2023-06-07T22:27:13.435342Z",
     "shell.execute_reply": "2023-06-07T22:27:13.434161Z"
    },
    "papermill": {
     "duration": 0.101712,
     "end_time": "2023-06-07T22:27:13.437623",
     "exception": false,
     "start_time": "2023-06-07T22:27:13.335911",
     "status": "completed"
    },
    "tags": []
   },
   "outputs": [],
   "source": [
    "old_tweets_df.to_csv('elonmusk.csv', index = False)"
   ]
  },
  {
   "cell_type": "markdown",
   "id": "1403cf39",
   "metadata": {
    "papermill": {
     "duration": 0.007189,
     "end_time": "2023-06-07T22:27:13.452342",
     "exception": false,
     "start_time": "2023-06-07T22:27:13.445153",
     "status": "completed"
    },
    "tags": []
   },
   "source": [
    "The dataset will automatically get updated from the output of this notebook."
   ]
  },
  {
   "cell_type": "markdown",
   "id": "4adbaaa2",
   "metadata": {
    "papermill": {
     "duration": 0.007208,
     "end_time": "2023-06-07T22:27:13.466863",
     "exception": false,
     "start_time": "2023-06-07T22:27:13.459655",
     "status": "completed"
    },
    "tags": []
   },
   "source": [
    "Thanks for reading:)"
   ]
  }
 ],
 "metadata": {
  "kernelspec": {
   "display_name": "Python 3",
   "language": "python",
   "name": "python3"
  },
  "language_info": {
   "codemirror_mode": {
    "name": "ipython",
    "version": 3
   },
   "file_extension": ".py",
   "mimetype": "text/x-python",
   "name": "python",
   "nbconvert_exporter": "python",
   "pygments_lexer": "ipython3",
   "version": "3.10.10"
  },
  "papermill": {
   "default_parameters": {},
   "duration": 44.769475,
   "end_time": "2023-06-07T22:27:14.295013",
   "environment_variables": {},
   "exception": null,
   "input_path": "__notebook__.ipynb",
   "output_path": "__notebook__.ipynb",
   "parameters": {},
   "start_time": "2023-06-07T22:26:29.525538",
   "version": "2.4.0"
  }
 },
 "nbformat": 4,
 "nbformat_minor": 5
}
