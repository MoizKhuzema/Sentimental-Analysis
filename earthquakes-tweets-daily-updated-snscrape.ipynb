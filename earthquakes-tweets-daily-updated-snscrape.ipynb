{
 "cells": [
  {
   "cell_type": "markdown",
   "id": "78aed94c",
   "metadata": {
    "papermill": {
     "duration": 0.008821,
     "end_time": "2023-06-07T22:31:49.243307",
     "exception": false,
     "start_time": "2023-06-07T22:31:49.234486",
     "status": "completed"
    },
    "tags": []
   },
   "source": [
    "#### This code is used for auto updating the <a href = 'https://www.kaggle.com/datasets/aryansingh0909/earthquakes-alerts-tweets-dataset-daily-updated'> Earthquakes Alerts Tweets Dataset (Daily Updated)</a>"
   ]
  },
  {
   "cell_type": "markdown",
   "id": "f02ac1cd",
   "metadata": {
    "papermill": {
     "duration": 0.007892,
     "end_time": "2023-06-07T22:31:49.259551",
     "exception": false,
     "start_time": "2023-06-07T22:31:49.251659",
     "status": "completed"
    },
    "tags": []
   },
   "source": [
    "## Installing snscrape"
   ]
  },
  {
   "cell_type": "code",
   "execution_count": 1,
   "id": "3f55e5fb",
   "metadata": {
    "execution": {
     "iopub.execute_input": "2023-06-07T22:31:49.277815Z",
     "iopub.status.busy": "2023-06-07T22:31:49.277379Z",
     "iopub.status.idle": "2023-06-07T22:31:49.283270Z",
     "shell.execute_reply": "2023-06-07T22:31:49.281983Z"
    },
    "papermill": {
     "duration": 0.020495,
     "end_time": "2023-06-07T22:31:49.288186",
     "exception": false,
     "start_time": "2023-06-07T22:31:49.267691",
     "status": "completed"
    },
    "tags": []
   },
   "outputs": [],
   "source": [
    "# pip3 install snscrape"
   ]
  },
  {
   "cell_type": "markdown",
   "id": "e08219a6",
   "metadata": {
    "papermill": {
     "duration": 0.007843,
     "end_time": "2023-06-07T22:31:49.304453",
     "exception": false,
     "start_time": "2023-06-07T22:31:49.296610",
     "status": "completed"
    },
    "tags": []
   },
   "source": [
    "However, this will not be the developer version. Instead, I recommend using the below command to download the snscrape dev version:"
   ]
  },
  {
   "cell_type": "code",
   "execution_count": 2,
   "id": "fd653d16",
   "metadata": {
    "_cell_guid": "b1076dfc-b9ad-4769-8c92-a6c4dae69d19",
    "_uuid": "8f2839f25d086af736a60e9eeb907d3b93b6e0e5",
    "execution": {
     "iopub.execute_input": "2023-06-07T22:31:49.324998Z",
     "iopub.status.busy": "2023-06-07T22:31:49.324180Z",
     "iopub.status.idle": "2023-06-07T22:32:34.181875Z",
     "shell.execute_reply": "2023-06-07T22:32:34.180284Z"
    },
    "papermill": {
     "duration": 44.872633,
     "end_time": "2023-06-07T22:32:34.185187",
     "exception": false,
     "start_time": "2023-06-07T22:31:49.312554",
     "status": "completed"
    },
    "tags": []
   },
   "outputs": [
    {
     "name": "stdout",
     "output_type": "stream",
     "text": [
      "Collecting git+https://github.com/JustAnotherArchivist/snscrape.git\r\n",
      "  Cloning https://github.com/JustAnotherArchivist/snscrape.git to /tmp/pip-req-build-hcpqam98\r\n",
      "  Running command git clone --filter=blob:none --quiet https://github.com/JustAnotherArchivist/snscrape.git /tmp/pip-req-build-hcpqam98\r\n",
      "  Resolved https://github.com/JustAnotherArchivist/snscrape.git to commit c3b216c3cb8593513a018eb3ec4fd6f18d3aba5b\r\n",
      "  Installing build dependencies ... \u001b[?25l-\b \b\\\b \b|\b \b/\b \b-\b \b\\\b \b|\b \bdone\r\n",
      "\u001b[?25h  Getting requirements to build wheel ... \u001b[?25l-\b \b\\\b \bdone\r\n",
      "\u001b[?25h  Installing backend dependencies ... \u001b[?25l-\b \b\\\b \bdone\r\n",
      "\u001b[?25h  Preparing metadata (pyproject.toml) ... \u001b[?25l-\b \b\\\b \bdone\r\n",
      "\u001b[?25hRequirement already satisfied: requests[socks] in /opt/conda/lib/python3.10/site-packages (from snscrape==0.6.2.20230321.dev39+gc3b216c) (2.28.2)\r\n",
      "Requirement already satisfied: lxml in /opt/conda/lib/python3.10/site-packages (from snscrape==0.6.2.20230321.dev39+gc3b216c) (4.9.2)\r\n",
      "Requirement already satisfied: beautifulsoup4 in /opt/conda/lib/python3.10/site-packages (from snscrape==0.6.2.20230321.dev39+gc3b216c) (4.12.2)\r\n",
      "Requirement already satisfied: filelock in /opt/conda/lib/python3.10/site-packages (from snscrape==0.6.2.20230321.dev39+gc3b216c) (3.12.0)\r\n",
      "Requirement already satisfied: soupsieve>1.2 in /opt/conda/lib/python3.10/site-packages (from beautifulsoup4->snscrape==0.6.2.20230321.dev39+gc3b216c) (2.3.2.post1)\r\n",
      "Requirement already satisfied: charset-normalizer<4,>=2 in /opt/conda/lib/python3.10/site-packages (from requests[socks]->snscrape==0.6.2.20230321.dev39+gc3b216c) (2.1.1)\r\n",
      "Requirement already satisfied: idna<4,>=2.5 in /opt/conda/lib/python3.10/site-packages (from requests[socks]->snscrape==0.6.2.20230321.dev39+gc3b216c) (3.4)\r\n",
      "Requirement already satisfied: urllib3<1.27,>=1.21.1 in /opt/conda/lib/python3.10/site-packages (from requests[socks]->snscrape==0.6.2.20230321.dev39+gc3b216c) (1.26.15)\r\n",
      "Requirement already satisfied: certifi>=2017.4.17 in /opt/conda/lib/python3.10/site-packages (from requests[socks]->snscrape==0.6.2.20230321.dev39+gc3b216c) (2023.5.7)\r\n",
      "Requirement already satisfied: PySocks!=1.5.7,>=1.5.6 in /opt/conda/lib/python3.10/site-packages (from requests[socks]->snscrape==0.6.2.20230321.dev39+gc3b216c) (1.7.1)\r\n",
      "Building wheels for collected packages: snscrape\r\n",
      "  Building wheel for snscrape (pyproject.toml) ... \u001b[?25l-\b \b\\\b \bdone\r\n",
      "\u001b[?25h  Created wheel for snscrape: filename=snscrape-0.6.2.20230321.dev39+gc3b216c-py3-none-any.whl size=73725 sha256=5f1160a26d288be913312a13f7f15fdf10a57e53e7c177426672a03453233914\r\n",
      "  Stored in directory: /tmp/pip-ephem-wheel-cache-k2x83t22/wheels/05/e9/f7/57056e7c7e44b1feed932fa49fdec9d706c4f563e37160ab74\r\n",
      "Successfully built snscrape\r\n",
      "Installing collected packages: snscrape\r\n",
      "Successfully installed snscrape-0.6.2.20230321.dev39+gc3b216c\r\n",
      "\u001b[33mWARNING: Running pip as the 'root' user can result in broken permissions and conflicting behaviour with the system package manager. It is recommended to use a virtual environment instead: https://pip.pypa.io/warnings/venv\u001b[0m\u001b[33m\r\n",
      "\u001b[0m"
     ]
    }
   ],
   "source": [
    "!pip3 install git+https://github.com/JustAnotherArchivist/snscrape.git"
   ]
  },
  {
   "cell_type": "markdown",
   "id": "73602a81",
   "metadata": {
    "papermill": {
     "duration": 0.010431,
     "end_time": "2023-06-07T22:32:34.206224",
     "exception": false,
     "start_time": "2023-06-07T22:32:34.195793",
     "status": "completed"
    },
    "tags": []
   },
   "source": [
    "Perfect, now that we’ve set up snscrape and peeripheral requirements, let’s jump right into using snscrape!"
   ]
  },
  {
   "cell_type": "markdown",
   "id": "af8d0784",
   "metadata": {
    "papermill": {
     "duration": 0.010487,
     "end_time": "2023-06-07T22:32:34.227234",
     "exception": false,
     "start_time": "2023-06-07T22:32:34.216747",
     "status": "completed"
    },
    "tags": []
   },
   "source": [
    "## Using snscrape"
   ]
  },
  {
   "cell_type": "code",
   "execution_count": 3,
   "id": "fa20f069",
   "metadata": {
    "execution": {
     "iopub.execute_input": "2023-06-07T22:32:34.251294Z",
     "iopub.status.busy": "2023-06-07T22:32:34.250820Z",
     "iopub.status.idle": "2023-06-07T22:32:34.594201Z",
     "shell.execute_reply": "2023-06-07T22:32:34.592964Z"
    },
    "papermill": {
     "duration": 0.359814,
     "end_time": "2023-06-07T22:32:34.597534",
     "exception": false,
     "start_time": "2023-06-07T22:32:34.237720",
     "status": "completed"
    },
    "tags": []
   },
   "outputs": [],
   "source": [
    "import snscrape.modules.twitter as sntwitter\n",
    "import pandas as pd"
   ]
  },
  {
   "cell_type": "markdown",
   "id": "277c45ac",
   "metadata": {
    "papermill": {
     "duration": 0.010228,
     "end_time": "2023-06-07T22:32:34.618447",
     "exception": false,
     "start_time": "2023-06-07T22:32:34.608219",
     "status": "completed"
    },
    "tags": []
   },
   "source": [
    "Now, there are two ways of using snscrape\n",
    "\n",
    "1. Using the command prompt, terminal (Converting JSON files for Python)\n",
    "2. Using Python Wrapper\n",
    "I prefer the Python Wrapper method because I believe it's easy to interact with data scraping, rather than engaging in a two-step process with the CLI. However, if you’re interested in knowing the process with CLI, you can refer from <a href = 'https://github.com/MartinKBeck/TwitterScraper/tree/master/snscrape/cli-with-python'> here </a>.\n",
    "\n",
    "\n",
    "To explain better, wrappers around functions in Python allows modifying behavior of function or class. Basically, the wrapper wraps a second function to extend the behavior of the wrapped function, without permanently altering it.\n",
    "<!-- [1]: https://github.com/MartinKBeck/TwitterScraper/tree/master/snscrape/cli-with-python -->"
   ]
  },
  {
   "cell_type": "markdown",
   "id": "6eae767d",
   "metadata": {
    "papermill": {
     "duration": 0.010257,
     "end_time": "2023-06-07T22:32:34.639650",
     "exception": false,
     "start_time": "2023-06-07T22:32:34.629393",
     "status": "completed"
    },
    "tags": []
   },
   "source": [
    "## Reading the Old Data from the dataset <a href = 'https://www.kaggle.com/datasets/aryansingh0909/earthquakes-alerts-tweets-dataset-daily-updated'> Earthquakes Alerts Tweets Dataset (Daily Updated) </a>"
   ]
  },
  {
   "cell_type": "code",
   "execution_count": 4,
   "id": "7e039ba4",
   "metadata": {
    "execution": {
     "iopub.execute_input": "2023-06-07T22:32:34.663171Z",
     "iopub.status.busy": "2023-06-07T22:32:34.662275Z",
     "iopub.status.idle": "2023-06-07T22:32:34.823232Z",
     "shell.execute_reply": "2023-06-07T22:32:34.822219Z"
    },
    "papermill": {
     "duration": 0.175997,
     "end_time": "2023-06-07T22:32:34.826170",
     "exception": false,
     "start_time": "2023-06-07T22:32:34.650173",
     "status": "completed"
    },
    "tags": []
   },
   "outputs": [
    {
     "data": {
      "text/html": [
       "<div>\n",
       "<style scoped>\n",
       "    .dataframe tbody tr th:only-of-type {\n",
       "        vertical-align: middle;\n",
       "    }\n",
       "\n",
       "    .dataframe tbody tr th {\n",
       "        vertical-align: top;\n",
       "    }\n",
       "\n",
       "    .dataframe thead th {\n",
       "        text-align: right;\n",
       "    }\n",
       "</style>\n",
       "<table border=\"1\" class=\"dataframe\">\n",
       "  <thead>\n",
       "    <tr style=\"text-align: right;\">\n",
       "      <th></th>\n",
       "      <th>Datetime</th>\n",
       "      <th>Tweet Id</th>\n",
       "      <th>Text</th>\n",
       "      <th>Username</th>\n",
       "    </tr>\n",
       "  </thead>\n",
       "  <tbody>\n",
       "    <tr>\n",
       "      <th>0</th>\n",
       "      <td>2023-06-06 22:40:04+00:00</td>\n",
       "      <td>1666213394607931392</td>\n",
       "      <td>2.6 magnitude #earthquake. 21 km from Mount Ho...</td>\n",
       "      <td>QuakesToday</td>\n",
       "    </tr>\n",
       "    <tr>\n",
       "      <th>1</th>\n",
       "      <td>2023-06-06 22:33:04+00:00</td>\n",
       "      <td>1666211630462697472</td>\n",
       "      <td>2.8 magnitude #earthquake. 22 km from Mount Ho...</td>\n",
       "      <td>QuakesToday</td>\n",
       "    </tr>\n",
       "    <tr>\n",
       "      <th>2</th>\n",
       "      <td>2023-06-06 22:17:03+00:00</td>\n",
       "      <td>1666207601485561857</td>\n",
       "      <td>2.1 magnitude #earthquake. 37 km S of Tanana, ...</td>\n",
       "      <td>QuakesToday</td>\n",
       "    </tr>\n",
       "    <tr>\n",
       "      <th>3</th>\n",
       "      <td>2023-06-06 22:04:03+00:00</td>\n",
       "      <td>1666204331157356545</td>\n",
       "      <td>1.7 magnitude #earthquake. 2 km from #GraniteF...</td>\n",
       "      <td>QuakesToday</td>\n",
       "    </tr>\n",
       "    <tr>\n",
       "      <th>4</th>\n",
       "      <td>2023-06-06 22:02:04+00:00</td>\n",
       "      <td>1666203830915330050</td>\n",
       "      <td>5.2 magnitude #earthquake. 280 km E of Vao, Ne...</td>\n",
       "      <td>QuakesToday</td>\n",
       "    </tr>\n",
       "    <tr>\n",
       "      <th>...</th>\n",
       "      <td>...</td>\n",
       "      <td>...</td>\n",
       "      <td>...</td>\n",
       "      <td>...</td>\n",
       "    </tr>\n",
       "    <tr>\n",
       "      <th>13254</th>\n",
       "      <td>2023-02-16 22:08:02+00:00</td>\n",
       "      <td>1626342669235662848</td>\n",
       "      <td>1.7 magnitude #earthquake. 52 km from Homer, #...</td>\n",
       "      <td>QuakesToday</td>\n",
       "    </tr>\n",
       "    <tr>\n",
       "      <th>13255</th>\n",
       "      <td>2023-02-16 22:06:03+00:00</td>\n",
       "      <td>1626342168704212992</td>\n",
       "      <td>3.0 magnitude #earthquake. 41 km from #Willow,...</td>\n",
       "      <td>QuakesToday</td>\n",
       "    </tr>\n",
       "    <tr>\n",
       "      <th>13256</th>\n",
       "      <td>2023-02-16 21:53:03+00:00</td>\n",
       "      <td>1626338896798961664</td>\n",
       "      <td>4.8 magnitude #earthquake. Kermadec Islands, N...</td>\n",
       "      <td>QuakesToday</td>\n",
       "    </tr>\n",
       "    <tr>\n",
       "      <th>13257</th>\n",
       "      <td>2023-02-16 21:39:03+00:00</td>\n",
       "      <td>1626335374913204225</td>\n",
       "      <td>2.1 magnitude #earthquake. 3 km from ##Holtvil...</td>\n",
       "      <td>QuakesToday</td>\n",
       "    </tr>\n",
       "    <tr>\n",
       "      <th>13258</th>\n",
       "      <td>2023-02-16 21:17:03+00:00</td>\n",
       "      <td>1626329836838080512</td>\n",
       "      <td>1.9 magnitude #earthquake. 4 km from #MammothL...</td>\n",
       "      <td>QuakesToday</td>\n",
       "    </tr>\n",
       "  </tbody>\n",
       "</table>\n",
       "<p>13259 rows × 4 columns</p>\n",
       "</div>"
      ],
      "text/plain": [
       "                        Datetime             Tweet Id  \\\n",
       "0      2023-06-06 22:40:04+00:00  1666213394607931392   \n",
       "1      2023-06-06 22:33:04+00:00  1666211630462697472   \n",
       "2      2023-06-06 22:17:03+00:00  1666207601485561857   \n",
       "3      2023-06-06 22:04:03+00:00  1666204331157356545   \n",
       "4      2023-06-06 22:02:04+00:00  1666203830915330050   \n",
       "...                          ...                  ...   \n",
       "13254  2023-02-16 22:08:02+00:00  1626342669235662848   \n",
       "13255  2023-02-16 22:06:03+00:00  1626342168704212992   \n",
       "13256  2023-02-16 21:53:03+00:00  1626338896798961664   \n",
       "13257  2023-02-16 21:39:03+00:00  1626335374913204225   \n",
       "13258  2023-02-16 21:17:03+00:00  1626329836838080512   \n",
       "\n",
       "                                                    Text     Username  \n",
       "0      2.6 magnitude #earthquake. 21 km from Mount Ho...  QuakesToday  \n",
       "1      2.8 magnitude #earthquake. 22 km from Mount Ho...  QuakesToday  \n",
       "2      2.1 magnitude #earthquake. 37 km S of Tanana, ...  QuakesToday  \n",
       "3      1.7 magnitude #earthquake. 2 km from #GraniteF...  QuakesToday  \n",
       "4      5.2 magnitude #earthquake. 280 km E of Vao, Ne...  QuakesToday  \n",
       "...                                                  ...          ...  \n",
       "13254  1.7 magnitude #earthquake. 52 km from Homer, #...  QuakesToday  \n",
       "13255  3.0 magnitude #earthquake. 41 km from #Willow,...  QuakesToday  \n",
       "13256  4.8 magnitude #earthquake. Kermadec Islands, N...  QuakesToday  \n",
       "13257  2.1 magnitude #earthquake. 3 km from ##Holtvil...  QuakesToday  \n",
       "13258  1.9 magnitude #earthquake. 4 km from #MammothL...  QuakesToday  \n",
       "\n",
       "[13259 rows x 4 columns]"
      ]
     },
     "execution_count": 4,
     "metadata": {},
     "output_type": "execute_result"
    }
   ],
   "source": [
    "old_tweets_df = pd.read_csv('/kaggle/input/earthquakes-alerts-tweets-dataset-daily-updated/QuakesToday.csv')\n",
    "old_tweets_df"
   ]
  },
  {
   "cell_type": "code",
   "execution_count": 5,
   "id": "e3f7fd25",
   "metadata": {
    "execution": {
     "iopub.execute_input": "2023-06-07T22:32:34.850063Z",
     "iopub.status.busy": "2023-06-07T22:32:34.849390Z",
     "iopub.status.idle": "2023-06-07T22:32:34.855832Z",
     "shell.execute_reply": "2023-06-07T22:32:34.854548Z"
    },
    "papermill": {
     "duration": 0.021711,
     "end_time": "2023-06-07T22:32:34.858884",
     "exception": false,
     "start_time": "2023-06-07T22:32:34.837173",
     "status": "completed"
    },
    "tags": []
   },
   "outputs": [
    {
     "name": "stdout",
     "output_type": "stream",
     "text": [
      "13259\n"
     ]
    }
   ],
   "source": [
    "print(len(old_tweets_df))"
   ]
  },
  {
   "cell_type": "code",
   "execution_count": 6,
   "id": "9ab7b3a7",
   "metadata": {
    "execution": {
     "iopub.execute_input": "2023-06-07T22:32:34.882982Z",
     "iopub.status.busy": "2023-06-07T22:32:34.882580Z",
     "iopub.status.idle": "2023-06-07T22:32:34.888989Z",
     "shell.execute_reply": "2023-06-07T22:32:34.887765Z"
    },
    "papermill": {
     "duration": 0.021875,
     "end_time": "2023-06-07T22:32:34.891811",
     "exception": false,
     "start_time": "2023-06-07T22:32:34.869936",
     "status": "completed"
    },
    "tags": []
   },
   "outputs": [
    {
     "name": "stdout",
     "output_type": "stream",
     "text": [
      "1666213394607931392\n"
     ]
    }
   ],
   "source": [
    "latest_tweet_id = old_tweets_df.loc[0, 'Tweet Id']\n",
    "print(latest_tweet_id)"
   ]
  },
  {
   "cell_type": "markdown",
   "id": "9ffec1c4",
   "metadata": {
    "papermill": {
     "duration": 0.010682,
     "end_time": "2023-06-07T22:32:34.914256",
     "exception": false,
     "start_time": "2023-06-07T22:32:34.903574",
     "status": "completed"
    },
    "tags": []
   },
   "source": [
    "## Scraping a specific Twitter user’s tweets"
   ]
  },
  {
   "cell_type": "code",
   "execution_count": 7,
   "id": "fc0adbf7",
   "metadata": {
    "execution": {
     "iopub.execute_input": "2023-06-07T22:32:34.938005Z",
     "iopub.status.busy": "2023-06-07T22:32:34.937604Z",
     "iopub.status.idle": "2023-06-07T22:34:09.816632Z",
     "shell.execute_reply": "2023-06-07T22:34:09.815311Z"
    },
    "papermill": {
     "duration": 94.905262,
     "end_time": "2023-06-07T22:34:09.830500",
     "exception": false,
     "start_time": "2023-06-07T22:32:34.925238",
     "status": "completed"
    },
    "tags": []
   },
   "outputs": [
    {
     "name": "stderr",
     "output_type": "stream",
     "text": [
      "/tmp/ipykernel_20/1533640059.py:8: DeprecatedFeatureWarning: content is deprecated, use rawContent instead\n",
      "  new_tweets_list.append([tweet.date, tweet.id, tweet.content, tweet.user.username]) #declare the attributes to be returned\n"
     ]
    },
    {
     "name": "stdout",
     "output_type": "stream",
     "text": [
      "5001\n"
     ]
    }
   ],
   "source": [
    "# Creating list to append tweet data \n",
    "new_tweets_list = []\n",
    "\n",
    "# Using TwitterSearchScraper to scrape data and append tweets to list\n",
    "for i,tweet in enumerate(sntwitter.TwitterSearchScraper('from:QuakesToday').get_items()): #declare a username \n",
    "    if i>5000: #number of tweets you want to scrape\n",
    "        break\n",
    "    new_tweets_list.append([tweet.date, tweet.id, tweet.content, tweet.user.username]) #declare the attributes to be returned\n",
    "    \n",
    "# Creating a dataframe from the tweets list above \n",
    "new_tweets_df = pd.DataFrame(new_tweets_list, columns=['Datetime', 'Tweet Id', 'Text', 'Username'])\n",
    "print(len(new_tweets_df))"
   ]
  },
  {
   "cell_type": "markdown",
   "id": "061f98db",
   "metadata": {
    "papermill": {
     "duration": 0.010927,
     "end_time": "2023-06-07T22:34:09.853012",
     "exception": false,
     "start_time": "2023-06-07T22:34:09.842085",
     "status": "completed"
    },
    "tags": []
   },
   "source": [
    "A general execution time for the entire code could be anywhere between 5 mins — 40 mins or even more, depending on the number of tweets fetched by your username or keyword query. If it takes longer than an hour, you might want to check your lines of code."
   ]
  },
  {
   "cell_type": "code",
   "execution_count": 8,
   "id": "2529fbe7",
   "metadata": {
    "execution": {
     "iopub.execute_input": "2023-06-07T22:34:09.878198Z",
     "iopub.status.busy": "2023-06-07T22:34:09.877711Z",
     "iopub.status.idle": "2023-06-07T22:34:09.891892Z",
     "shell.execute_reply": "2023-06-07T22:34:09.890925Z"
    },
    "papermill": {
     "duration": 0.029745,
     "end_time": "2023-06-07T22:34:09.894257",
     "exception": false,
     "start_time": "2023-06-07T22:34:09.864512",
     "status": "completed"
    },
    "tags": []
   },
   "outputs": [
    {
     "data": {
      "text/html": [
       "<div>\n",
       "<style scoped>\n",
       "    .dataframe tbody tr th:only-of-type {\n",
       "        vertical-align: middle;\n",
       "    }\n",
       "\n",
       "    .dataframe tbody tr th {\n",
       "        vertical-align: top;\n",
       "    }\n",
       "\n",
       "    .dataframe thead th {\n",
       "        text-align: right;\n",
       "    }\n",
       "</style>\n",
       "<table border=\"1\" class=\"dataframe\">\n",
       "  <thead>\n",
       "    <tr style=\"text-align: right;\">\n",
       "      <th></th>\n",
       "      <th>Datetime</th>\n",
       "      <th>Tweet Id</th>\n",
       "      <th>Text</th>\n",
       "      <th>Username</th>\n",
       "    </tr>\n",
       "  </thead>\n",
       "  <tbody>\n",
       "    <tr>\n",
       "      <th>0</th>\n",
       "      <td>2023-06-07 22:26:04+00:00</td>\n",
       "      <td>1666572256984862720</td>\n",
       "      <td>2.1 magnitude #earthquake. 6 km from Butte, MT...</td>\n",
       "      <td>QuakesToday</td>\n",
       "    </tr>\n",
       "    <tr>\n",
       "      <th>1</th>\n",
       "      <td>2023-06-07 22:11:02+00:00</td>\n",
       "      <td>1666568477191315457</td>\n",
       "      <td>2.2 magnitude #earthquake. 2 km from San Germá...</td>\n",
       "      <td>QuakesToday</td>\n",
       "    </tr>\n",
       "    <tr>\n",
       "      <th>2</th>\n",
       "      <td>2023-06-07 22:09:03+00:00</td>\n",
       "      <td>1666567975405764608</td>\n",
       "      <td>4.3 magnitude #earthquake. 71 km from Gorontal...</td>\n",
       "      <td>QuakesToday</td>\n",
       "    </tr>\n",
       "    <tr>\n",
       "      <th>3</th>\n",
       "      <td>2023-06-07 21:46:14+00:00</td>\n",
       "      <td>1666562232963207168</td>\n",
       "      <td>2.4 magnitude #earthquake. 7 km from Cold Spri...</td>\n",
       "      <td>QuakesToday</td>\n",
       "    </tr>\n",
       "    <tr>\n",
       "      <th>4</th>\n",
       "      <td>2023-06-07 21:22:04+00:00</td>\n",
       "      <td>1666556151444692992</td>\n",
       "      <td>1.9 magnitude #earthquake. 7 km from Cold Spri...</td>\n",
       "      <td>QuakesToday</td>\n",
       "    </tr>\n",
       "    <tr>\n",
       "      <th>5</th>\n",
       "      <td>2023-06-07 21:04:03+00:00</td>\n",
       "      <td>1666551619478241280</td>\n",
       "      <td>1.6 magnitude #earthquake. 4 km from Rancho Sa...</td>\n",
       "      <td>QuakesToday</td>\n",
       "    </tr>\n",
       "    <tr>\n",
       "      <th>6</th>\n",
       "      <td>2023-06-07 20:44:03+00:00</td>\n",
       "      <td>1666546585952718848</td>\n",
       "      <td>2.3 magnitude #earthquake. 15 km from Tishomin...</td>\n",
       "      <td>QuakesToday</td>\n",
       "    </tr>\n",
       "    <tr>\n",
       "      <th>7</th>\n",
       "      <td>2023-06-07 20:36:03+00:00</td>\n",
       "      <td>1666544571906658304</td>\n",
       "      <td>4.9 magnitude #earthquake. Southeast of the Lo...</td>\n",
       "      <td>QuakesToday</td>\n",
       "    </tr>\n",
       "    <tr>\n",
       "      <th>8</th>\n",
       "      <td>2023-06-07 20:15:03+00:00</td>\n",
       "      <td>1666539289012998145</td>\n",
       "      <td>2.4 magnitude #earthquake. 104 km NE of Wisema...</td>\n",
       "      <td>QuakesToday</td>\n",
       "    </tr>\n",
       "    <tr>\n",
       "      <th>9</th>\n",
       "      <td>2023-06-07 19:42:03+00:00</td>\n",
       "      <td>1666530982592413697</td>\n",
       "      <td>2.1 magnitude #earthquake. 66 km WSW of Nanwal...</td>\n",
       "      <td>QuakesToday</td>\n",
       "    </tr>\n",
       "  </tbody>\n",
       "</table>\n",
       "</div>"
      ],
      "text/plain": [
       "                   Datetime             Tweet Id  \\\n",
       "0 2023-06-07 22:26:04+00:00  1666572256984862720   \n",
       "1 2023-06-07 22:11:02+00:00  1666568477191315457   \n",
       "2 2023-06-07 22:09:03+00:00  1666567975405764608   \n",
       "3 2023-06-07 21:46:14+00:00  1666562232963207168   \n",
       "4 2023-06-07 21:22:04+00:00  1666556151444692992   \n",
       "5 2023-06-07 21:04:03+00:00  1666551619478241280   \n",
       "6 2023-06-07 20:44:03+00:00  1666546585952718848   \n",
       "7 2023-06-07 20:36:03+00:00  1666544571906658304   \n",
       "8 2023-06-07 20:15:03+00:00  1666539289012998145   \n",
       "9 2023-06-07 19:42:03+00:00  1666530982592413697   \n",
       "\n",
       "                                                Text     Username  \n",
       "0  2.1 magnitude #earthquake. 6 km from Butte, MT...  QuakesToday  \n",
       "1  2.2 magnitude #earthquake. 2 km from San Germá...  QuakesToday  \n",
       "2  4.3 magnitude #earthquake. 71 km from Gorontal...  QuakesToday  \n",
       "3  2.4 magnitude #earthquake. 7 km from Cold Spri...  QuakesToday  \n",
       "4  1.9 magnitude #earthquake. 7 km from Cold Spri...  QuakesToday  \n",
       "5  1.6 magnitude #earthquake. 4 km from Rancho Sa...  QuakesToday  \n",
       "6  2.3 magnitude #earthquake. 15 km from Tishomin...  QuakesToday  \n",
       "7  4.9 magnitude #earthquake. Southeast of the Lo...  QuakesToday  \n",
       "8  2.4 magnitude #earthquake. 104 km NE of Wisema...  QuakesToday  \n",
       "9  2.1 magnitude #earthquake. 66 km WSW of Nanwal...  QuakesToday  "
      ]
     },
     "execution_count": 8,
     "metadata": {},
     "output_type": "execute_result"
    }
   ],
   "source": [
    "new_tweets_df.head(10)"
   ]
  },
  {
   "cell_type": "code",
   "execution_count": 9,
   "id": "a184edc7",
   "metadata": {
    "execution": {
     "iopub.execute_input": "2023-06-07T22:34:09.919399Z",
     "iopub.status.busy": "2023-06-07T22:34:09.918573Z",
     "iopub.status.idle": "2023-06-07T22:34:09.932792Z",
     "shell.execute_reply": "2023-06-07T22:34:09.931529Z"
    },
    "papermill": {
     "duration": 0.03001,
     "end_time": "2023-06-07T22:34:09.935678",
     "exception": false,
     "start_time": "2023-06-07T22:34:09.905668",
     "status": "completed"
    },
    "tags": []
   },
   "outputs": [
    {
     "data": {
      "text/html": [
       "<div>\n",
       "<style scoped>\n",
       "    .dataframe tbody tr th:only-of-type {\n",
       "        vertical-align: middle;\n",
       "    }\n",
       "\n",
       "    .dataframe tbody tr th {\n",
       "        vertical-align: top;\n",
       "    }\n",
       "\n",
       "    .dataframe thead th {\n",
       "        text-align: right;\n",
       "    }\n",
       "</style>\n",
       "<table border=\"1\" class=\"dataframe\">\n",
       "  <thead>\n",
       "    <tr style=\"text-align: right;\">\n",
       "      <th></th>\n",
       "      <th>Datetime</th>\n",
       "      <th>Tweet Id</th>\n",
       "      <th>Text</th>\n",
       "      <th>Username</th>\n",
       "    </tr>\n",
       "  </thead>\n",
       "  <tbody>\n",
       "    <tr>\n",
       "      <th>4991</th>\n",
       "      <td>2023-04-27 12:41:03+00:00</td>\n",
       "      <td>1651567129987264518</td>\n",
       "      <td>1.6 magnitude #earthquake. 4 km from Cobb, #CA...</td>\n",
       "      <td>QuakesToday</td>\n",
       "    </tr>\n",
       "    <tr>\n",
       "      <th>4992</th>\n",
       "      <td>2023-04-27 12:27:03+00:00</td>\n",
       "      <td>1651563608449626114</td>\n",
       "      <td>1.6 magnitude #earthquake. 36 km from ##Inyoke...</td>\n",
       "      <td>QuakesToday</td>\n",
       "    </tr>\n",
       "    <tr>\n",
       "      <th>4993</th>\n",
       "      <td>2023-04-27 12:20:03+00:00</td>\n",
       "      <td>1651561846560915456</td>\n",
       "      <td>1.8 magnitude #earthquake. 34 km from #SaltonC...</td>\n",
       "      <td>QuakesToday</td>\n",
       "    </tr>\n",
       "    <tr>\n",
       "      <th>4994</th>\n",
       "      <td>2023-04-27 12:19:03+00:00</td>\n",
       "      <td>1651561597029220352</td>\n",
       "      <td>2.1 magnitude #earthquake. 20 km from #Westmor...</td>\n",
       "      <td>QuakesToday</td>\n",
       "    </tr>\n",
       "    <tr>\n",
       "      <th>4995</th>\n",
       "      <td>2023-04-27 12:03:03+00:00</td>\n",
       "      <td>1651557570241515521</td>\n",
       "      <td>1.6 magnitude #earthquake. 4 km from #LomaLind...</td>\n",
       "      <td>QuakesToday</td>\n",
       "    </tr>\n",
       "    <tr>\n",
       "      <th>4996</th>\n",
       "      <td>2023-04-27 12:03:03+00:00</td>\n",
       "      <td>1651557567531999233</td>\n",
       "      <td>1.6 magnitude #earthquake. 50 km from Sutton-A...</td>\n",
       "      <td>QuakesToday</td>\n",
       "    </tr>\n",
       "    <tr>\n",
       "      <th>4997</th>\n",
       "      <td>2023-04-27 11:55:04+00:00</td>\n",
       "      <td>1651555559265697793</td>\n",
       "      <td>2.2 magnitude #earthquake. 64 km WNW of Akhiok...</td>\n",
       "      <td>QuakesToday</td>\n",
       "    </tr>\n",
       "    <tr>\n",
       "      <th>4998</th>\n",
       "      <td>2023-04-27 11:46:03+00:00</td>\n",
       "      <td>1651553288943443969</td>\n",
       "      <td>2.4 magnitude #earthquake. 60 km NNE of Chigni...</td>\n",
       "      <td>QuakesToday</td>\n",
       "    </tr>\n",
       "    <tr>\n",
       "      <th>4999</th>\n",
       "      <td>2023-04-27 11:45:03+00:00</td>\n",
       "      <td>1651553037188751360</td>\n",
       "      <td>1.6 magnitude #earthquake. 6 km from #Aguanga,...</td>\n",
       "      <td>QuakesToday</td>\n",
       "    </tr>\n",
       "    <tr>\n",
       "      <th>5000</th>\n",
       "      <td>2023-04-27 11:41:03+00:00</td>\n",
       "      <td>1651552032694870018</td>\n",
       "      <td>2.0 magnitude #earthquake. 6 km from Pāhala, #...</td>\n",
       "      <td>QuakesToday</td>\n",
       "    </tr>\n",
       "  </tbody>\n",
       "</table>\n",
       "</div>"
      ],
      "text/plain": [
       "                      Datetime             Tweet Id  \\\n",
       "4991 2023-04-27 12:41:03+00:00  1651567129987264518   \n",
       "4992 2023-04-27 12:27:03+00:00  1651563608449626114   \n",
       "4993 2023-04-27 12:20:03+00:00  1651561846560915456   \n",
       "4994 2023-04-27 12:19:03+00:00  1651561597029220352   \n",
       "4995 2023-04-27 12:03:03+00:00  1651557570241515521   \n",
       "4996 2023-04-27 12:03:03+00:00  1651557567531999233   \n",
       "4997 2023-04-27 11:55:04+00:00  1651555559265697793   \n",
       "4998 2023-04-27 11:46:03+00:00  1651553288943443969   \n",
       "4999 2023-04-27 11:45:03+00:00  1651553037188751360   \n",
       "5000 2023-04-27 11:41:03+00:00  1651552032694870018   \n",
       "\n",
       "                                                   Text     Username  \n",
       "4991  1.6 magnitude #earthquake. 4 km from Cobb, #CA...  QuakesToday  \n",
       "4992  1.6 magnitude #earthquake. 36 km from ##Inyoke...  QuakesToday  \n",
       "4993  1.8 magnitude #earthquake. 34 km from #SaltonC...  QuakesToday  \n",
       "4994  2.1 magnitude #earthquake. 20 km from #Westmor...  QuakesToday  \n",
       "4995  1.6 magnitude #earthquake. 4 km from #LomaLind...  QuakesToday  \n",
       "4996  1.6 magnitude #earthquake. 50 km from Sutton-A...  QuakesToday  \n",
       "4997  2.2 magnitude #earthquake. 64 km WNW of Akhiok...  QuakesToday  \n",
       "4998  2.4 magnitude #earthquake. 60 km NNE of Chigni...  QuakesToday  \n",
       "4999  1.6 magnitude #earthquake. 6 km from #Aguanga,...  QuakesToday  \n",
       "5000  2.0 magnitude #earthquake. 6 km from Pāhala, #...  QuakesToday  "
      ]
     },
     "execution_count": 9,
     "metadata": {},
     "output_type": "execute_result"
    }
   ],
   "source": [
    "new_tweets_df.tail(10)"
   ]
  },
  {
   "cell_type": "code",
   "execution_count": 10,
   "id": "4867b671",
   "metadata": {
    "execution": {
     "iopub.execute_input": "2023-06-07T22:34:09.962516Z",
     "iopub.status.busy": "2023-06-07T22:34:09.962086Z",
     "iopub.status.idle": "2023-06-07T22:34:09.967879Z",
     "shell.execute_reply": "2023-06-07T22:34:09.966686Z"
    },
    "papermill": {
     "duration": 0.022017,
     "end_time": "2023-06-07T22:34:09.970184",
     "exception": false,
     "start_time": "2023-06-07T22:34:09.948167",
     "status": "completed"
    },
    "tags": []
   },
   "outputs": [
    {
     "name": "stdout",
     "output_type": "stream",
     "text": [
      "5001\n"
     ]
    }
   ],
   "source": [
    "print(len(new_tweets_df))"
   ]
  },
  {
   "cell_type": "code",
   "execution_count": 11,
   "id": "e6819c8a",
   "metadata": {
    "execution": {
     "iopub.execute_input": "2023-06-07T22:34:09.995950Z",
     "iopub.status.busy": "2023-06-07T22:34:09.995488Z",
     "iopub.status.idle": "2023-06-07T22:34:10.102201Z",
     "shell.execute_reply": "2023-06-07T22:34:10.101095Z"
    },
    "papermill": {
     "duration": 0.12272,
     "end_time": "2023-06-07T22:34:10.104803",
     "exception": false,
     "start_time": "2023-06-07T22:34:09.982083",
     "status": "completed"
    },
    "tags": []
   },
   "outputs": [
    {
     "name": "stdout",
     "output_type": "stream",
     "text": [
      "152\n"
     ]
    },
    {
     "data": {
      "text/html": [
       "<div>\n",
       "<style scoped>\n",
       "    .dataframe tbody tr th:only-of-type {\n",
       "        vertical-align: middle;\n",
       "    }\n",
       "\n",
       "    .dataframe tbody tr th {\n",
       "        vertical-align: top;\n",
       "    }\n",
       "\n",
       "    .dataframe thead th {\n",
       "        text-align: right;\n",
       "    }\n",
       "</style>\n",
       "<table border=\"1\" class=\"dataframe\">\n",
       "  <thead>\n",
       "    <tr style=\"text-align: right;\">\n",
       "      <th></th>\n",
       "      <th>Datetime</th>\n",
       "      <th>Tweet Id</th>\n",
       "      <th>Text</th>\n",
       "      <th>Username</th>\n",
       "    </tr>\n",
       "  </thead>\n",
       "  <tbody>\n",
       "    <tr>\n",
       "      <th>0</th>\n",
       "      <td>2023-06-07 22:26:04+00:00</td>\n",
       "      <td>1666572256984862720</td>\n",
       "      <td>2.1 magnitude #earthquake. 6 km from Butte, MT...</td>\n",
       "      <td>QuakesToday</td>\n",
       "    </tr>\n",
       "    <tr>\n",
       "      <th>1</th>\n",
       "      <td>2023-06-07 22:11:02+00:00</td>\n",
       "      <td>1666568477191315457</td>\n",
       "      <td>2.2 magnitude #earthquake. 2 km from San Germá...</td>\n",
       "      <td>QuakesToday</td>\n",
       "    </tr>\n",
       "    <tr>\n",
       "      <th>2</th>\n",
       "      <td>2023-06-07 22:09:03+00:00</td>\n",
       "      <td>1666567975405764608</td>\n",
       "      <td>4.3 magnitude #earthquake. 71 km from Gorontal...</td>\n",
       "      <td>QuakesToday</td>\n",
       "    </tr>\n",
       "    <tr>\n",
       "      <th>3</th>\n",
       "      <td>2023-06-07 21:46:14+00:00</td>\n",
       "      <td>1666562232963207168</td>\n",
       "      <td>2.4 magnitude #earthquake. 7 km from Cold Spri...</td>\n",
       "      <td>QuakesToday</td>\n",
       "    </tr>\n",
       "    <tr>\n",
       "      <th>4</th>\n",
       "      <td>2023-06-07 21:22:04+00:00</td>\n",
       "      <td>1666556151444692992</td>\n",
       "      <td>1.9 magnitude #earthquake. 7 km from Cold Spri...</td>\n",
       "      <td>QuakesToday</td>\n",
       "    </tr>\n",
       "    <tr>\n",
       "      <th>...</th>\n",
       "      <td>...</td>\n",
       "      <td>...</td>\n",
       "      <td>...</td>\n",
       "      <td>...</td>\n",
       "    </tr>\n",
       "    <tr>\n",
       "      <th>148</th>\n",
       "      <td>2023-06-06 23:22:03+00:00</td>\n",
       "      <td>1666223960978259973</td>\n",
       "      <td>2.5 magnitude #earthquake. 72 km from Y, #AK, ...</td>\n",
       "      <td>QuakesToday</td>\n",
       "    </tr>\n",
       "    <tr>\n",
       "      <th>149</th>\n",
       "      <td>2023-06-06 23:03:04+00:00</td>\n",
       "      <td>1666219181665300481</td>\n",
       "      <td>4.9 magnitude #earthquake. 279 km E of Vao, Ne...</td>\n",
       "      <td>QuakesToday</td>\n",
       "    </tr>\n",
       "    <tr>\n",
       "      <th>150</th>\n",
       "      <td>2023-06-06 22:56:03+00:00</td>\n",
       "      <td>1666217414969929735</td>\n",
       "      <td>1.5 magnitude #earthquake. 76 km WNW of Yakuta...</td>\n",
       "      <td>QuakesToday</td>\n",
       "    </tr>\n",
       "    <tr>\n",
       "      <th>151</th>\n",
       "      <td>2023-06-06 22:52:03+00:00</td>\n",
       "      <td>1666216408349552641</td>\n",
       "      <td>2.1 magnitude #earthquake. 10 km from #Pāhala,...</td>\n",
       "      <td>QuakesToday</td>\n",
       "    </tr>\n",
       "    <tr>\n",
       "      <th>152</th>\n",
       "      <td>2023-06-06 22:40:04+00:00</td>\n",
       "      <td>1666213394607931392</td>\n",
       "      <td>2.6 magnitude #earthquake. 21 km from Mount Ho...</td>\n",
       "      <td>QuakesToday</td>\n",
       "    </tr>\n",
       "  </tbody>\n",
       "</table>\n",
       "<p>153 rows × 4 columns</p>\n",
       "</div>"
      ],
      "text/plain": [
       "                     Datetime             Tweet Id  \\\n",
       "0   2023-06-07 22:26:04+00:00  1666572256984862720   \n",
       "1   2023-06-07 22:11:02+00:00  1666568477191315457   \n",
       "2   2023-06-07 22:09:03+00:00  1666567975405764608   \n",
       "3   2023-06-07 21:46:14+00:00  1666562232963207168   \n",
       "4   2023-06-07 21:22:04+00:00  1666556151444692992   \n",
       "..                        ...                  ...   \n",
       "148 2023-06-06 23:22:03+00:00  1666223960978259973   \n",
       "149 2023-06-06 23:03:04+00:00  1666219181665300481   \n",
       "150 2023-06-06 22:56:03+00:00  1666217414969929735   \n",
       "151 2023-06-06 22:52:03+00:00  1666216408349552641   \n",
       "152 2023-06-06 22:40:04+00:00  1666213394607931392   \n",
       "\n",
       "                                                  Text     Username  \n",
       "0    2.1 magnitude #earthquake. 6 km from Butte, MT...  QuakesToday  \n",
       "1    2.2 magnitude #earthquake. 2 km from San Germá...  QuakesToday  \n",
       "2    4.3 magnitude #earthquake. 71 km from Gorontal...  QuakesToday  \n",
       "3    2.4 magnitude #earthquake. 7 km from Cold Spri...  QuakesToday  \n",
       "4    1.9 magnitude #earthquake. 7 km from Cold Spri...  QuakesToday  \n",
       "..                                                 ...          ...  \n",
       "148  2.5 magnitude #earthquake. 72 km from Y, #AK, ...  QuakesToday  \n",
       "149  4.9 magnitude #earthquake. 279 km E of Vao, Ne...  QuakesToday  \n",
       "150  1.5 magnitude #earthquake. 76 km WNW of Yakuta...  QuakesToday  \n",
       "151  2.1 magnitude #earthquake. 10 km from #Pāhala,...  QuakesToday  \n",
       "152  2.6 magnitude #earthquake. 21 km from Mount Ho...  QuakesToday  \n",
       "\n",
       "[153 rows x 4 columns]"
      ]
     },
     "execution_count": 11,
     "metadata": {},
     "output_type": "execute_result"
    }
   ],
   "source": [
    "index = -1\n",
    "for i in range(len(new_tweets_df)):\n",
    "    if(latest_tweet_id == new_tweets_df.loc[i, 'Tweet Id']):\n",
    "        index = i\n",
    "        \n",
    "print(index)\n",
    "df_temp = new_tweets_df.iloc[:(index + 1), :]\n",
    "df_temp"
   ]
  },
  {
   "cell_type": "markdown",
   "id": "04dfe504",
   "metadata": {
    "papermill": {
     "duration": 0.011875,
     "end_time": "2023-06-07T22:34:10.129307",
     "exception": false,
     "start_time": "2023-06-07T22:34:10.117432",
     "status": "completed"
    },
    "tags": []
   },
   "source": [
    "## Updating the New Data in the Old Data"
   ]
  },
  {
   "cell_type": "code",
   "execution_count": 12,
   "id": "5028e9b9",
   "metadata": {
    "execution": {
     "iopub.execute_input": "2023-06-07T22:34:10.156050Z",
     "iopub.status.busy": "2023-06-07T22:34:10.155554Z",
     "iopub.status.idle": "2023-06-07T22:34:10.173797Z",
     "shell.execute_reply": "2023-06-07T22:34:10.172132Z"
    },
    "papermill": {
     "duration": 0.034932,
     "end_time": "2023-06-07T22:34:10.176621",
     "exception": false,
     "start_time": "2023-06-07T22:34:10.141689",
     "status": "completed"
    },
    "tags": []
   },
   "outputs": [
    {
     "name": "stdout",
     "output_type": "stream",
     "text": [
      "                   Datetime             Tweet Id  \\\n",
      "0 2023-06-07 22:26:04+00:00  1666572256984862720   \n",
      "1 2023-06-07 22:11:02+00:00  1666568477191315457   \n",
      "2 2023-06-07 22:09:03+00:00  1666567975405764608   \n",
      "3 2023-06-07 21:46:14+00:00  1666562232963207168   \n",
      "4 2023-06-07 21:22:04+00:00  1666556151444692992   \n",
      "5 2023-06-07 21:04:03+00:00  1666551619478241280   \n",
      "6 2023-06-07 20:44:03+00:00  1666546585952718848   \n",
      "7 2023-06-07 20:36:03+00:00  1666544571906658304   \n",
      "8 2023-06-07 20:15:03+00:00  1666539289012998145   \n",
      "9 2023-06-07 19:42:03+00:00  1666530982592413697   \n",
      "\n",
      "                                                Text     Username  \n",
      "0  2.1 magnitude #earthquake. 6 km from Butte, MT...  QuakesToday  \n",
      "1  2.2 magnitude #earthquake. 2 km from San Germá...  QuakesToday  \n",
      "2  4.3 magnitude #earthquake. 71 km from Gorontal...  QuakesToday  \n",
      "3  2.4 magnitude #earthquake. 7 km from Cold Spri...  QuakesToday  \n",
      "4  1.9 magnitude #earthquake. 7 km from Cold Spri...  QuakesToday  \n",
      "5  1.6 magnitude #earthquake. 4 km from Rancho Sa...  QuakesToday  \n",
      "6  2.3 magnitude #earthquake. 15 km from Tishomin...  QuakesToday  \n",
      "7  4.9 magnitude #earthquake. Southeast of the Lo...  QuakesToday  \n",
      "8  2.4 magnitude #earthquake. 104 km NE of Wisema...  QuakesToday  \n",
      "9  2.1 magnitude #earthquake. 66 km WSW of Nanwal...  QuakesToday  \n",
      "152\n"
     ]
    }
   ],
   "source": [
    "if(index != -1):\n",
    "    df_temp = df_temp.drop(len(df_temp) - 1, axis = 0)\n",
    "    df_temp.reset_index(inplace = True, drop = True)\n",
    "    print(df_temp.head(10))\n",
    "    print(len(df_temp))\n",
    "    old_tweets_df = pd.concat([df_temp, old_tweets_df], axis = 0)\n",
    "    old_tweets_df"
   ]
  },
  {
   "cell_type": "markdown",
   "id": "ac24b603",
   "metadata": {
    "papermill": {
     "duration": 0.01219,
     "end_time": "2023-06-07T22:34:10.201637",
     "exception": false,
     "start_time": "2023-06-07T22:34:10.189447",
     "status": "completed"
    },
    "tags": []
   },
   "source": [
    "## Saving the Updated Data"
   ]
  },
  {
   "cell_type": "code",
   "execution_count": 13,
   "id": "56943b4e",
   "metadata": {
    "execution": {
     "iopub.execute_input": "2023-06-07T22:34:10.228829Z",
     "iopub.status.busy": "2023-06-07T22:34:10.228378Z",
     "iopub.status.idle": "2023-06-07T22:34:10.234713Z",
     "shell.execute_reply": "2023-06-07T22:34:10.233394Z"
    },
    "papermill": {
     "duration": 0.023898,
     "end_time": "2023-06-07T22:34:10.238023",
     "exception": false,
     "start_time": "2023-06-07T22:34:10.214125",
     "status": "completed"
    },
    "tags": []
   },
   "outputs": [
    {
     "name": "stdout",
     "output_type": "stream",
     "text": [
      "13411\n"
     ]
    }
   ],
   "source": [
    "print(len(old_tweets_df))"
   ]
  },
  {
   "cell_type": "code",
   "execution_count": 14,
   "id": "189704d8",
   "metadata": {
    "execution": {
     "iopub.execute_input": "2023-06-07T22:34:10.265334Z",
     "iopub.status.busy": "2023-06-07T22:34:10.264904Z",
     "iopub.status.idle": "2023-06-07T22:34:10.406084Z",
     "shell.execute_reply": "2023-06-07T22:34:10.404716Z"
    },
    "papermill": {
     "duration": 0.158503,
     "end_time": "2023-06-07T22:34:10.409393",
     "exception": false,
     "start_time": "2023-06-07T22:34:10.250890",
     "status": "completed"
    },
    "tags": []
   },
   "outputs": [],
   "source": [
    "old_tweets_df.to_csv('QuakesToday.csv', index = False)"
   ]
  },
  {
   "cell_type": "markdown",
   "id": "a4aa30c9",
   "metadata": {
    "papermill": {
     "duration": 0.012356,
     "end_time": "2023-06-07T22:34:10.434536",
     "exception": false,
     "start_time": "2023-06-07T22:34:10.422180",
     "status": "completed"
    },
    "tags": []
   },
   "source": [
    "The dataset will automatically get updated from the output of this notebook."
   ]
  },
  {
   "cell_type": "markdown",
   "id": "7896dbaa",
   "metadata": {
    "papermill": {
     "duration": 0.012152,
     "end_time": "2023-06-07T22:34:10.459314",
     "exception": false,
     "start_time": "2023-06-07T22:34:10.447162",
     "status": "completed"
    },
    "tags": []
   },
   "source": [
    "Thanks for reading:)"
   ]
  }
 ],
 "metadata": {
  "kernelspec": {
   "display_name": "Python 3",
   "language": "python",
   "name": "python3"
  },
  "language_info": {
   "codemirror_mode": {
    "name": "ipython",
    "version": 3
   },
   "file_extension": ".py",
   "mimetype": "text/x-python",
   "name": "python",
   "nbconvert_exporter": "python",
   "pygments_lexer": "ipython3",
   "version": "3.10.10"
  },
  "papermill": {
   "default_parameters": {},
   "duration": 155.697776,
   "end_time": "2023-06-07T22:34:11.496794",
   "environment_variables": {},
   "exception": null,
   "input_path": "__notebook__.ipynb",
   "output_path": "__notebook__.ipynb",
   "parameters": {},
   "start_time": "2023-06-07T22:31:35.799018",
   "version": "2.4.0"
  }
 },
 "nbformat": 4,
 "nbformat_minor": 5
}
