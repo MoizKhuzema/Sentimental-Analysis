{
 "cells": [
  {
   "cell_type": "markdown",
   "id": "3cad0152",
   "metadata": {
    "papermill": {
     "duration": 0.018479,
     "end_time": "2023-05-05T05:15:44.928438",
     "exception": false,
     "start_time": "2023-05-05T05:15:44.909959",
     "status": "completed"
    },
    "tags": []
   },
   "source": [
    "## Import dataset"
   ]
  },
  {
   "cell_type": "code",
   "execution_count": 1,
   "id": "db5d5e60",
   "metadata": {
    "collapsed": true,
    "execution": {
     "iopub.execute_input": "2023-05-05T05:15:44.966849Z",
     "iopub.status.busy": "2023-05-05T05:15:44.966044Z",
     "iopub.status.idle": "2023-05-05T05:15:46.294526Z",
     "shell.execute_reply": "2023-05-05T05:15:46.293431Z"
    },
    "id": "4NsoxauVKZTX",
    "jupyter": {
     "outputs_hidden": true
    },
    "papermill": {
     "duration": 1.350741,
     "end_time": "2023-05-05T05:15:46.297320",
     "exception": false,
     "start_time": "2023-05-05T05:15:44.946579",
     "status": "completed"
    },
    "tags": []
   },
   "outputs": [
    {
     "name": "stderr",
     "output_type": "stream",
     "text": [
      "/opt/conda/lib/python3.10/site-packages/scipy/__init__.py:146: UserWarning: A NumPy version >=1.16.5 and <1.23.0 is required for this version of SciPy (detected version 1.23.5\n",
      "  warnings.warn(f\"A NumPy version >={np_minversion} and <{np_maxversion}\"\n"
     ]
    }
   ],
   "source": [
    "import pandas as pd\n",
    "import numpy as np\n",
    "import seaborn as sns\n",
    "import matplotlib.pyplot as plt\n",
    "import re"
   ]
  },
  {
   "cell_type": "code",
   "execution_count": 2,
   "id": "a2cd768a",
   "metadata": {
    "execution": {
     "iopub.execute_input": "2023-05-05T05:15:46.335778Z",
     "iopub.status.busy": "2023-05-05T05:15:46.335360Z",
     "iopub.status.idle": "2023-05-05T05:16:33.356987Z",
     "shell.execute_reply": "2023-05-05T05:16:33.355797Z"
    },
    "id": "jM051KScAOhz",
    "papermill": {
     "duration": 47.061249,
     "end_time": "2023-05-05T05:16:33.376899",
     "exception": false,
     "start_time": "2023-05-05T05:15:46.315650",
     "status": "completed"
    },
    "tags": []
   },
   "outputs": [
    {
     "data": {
      "text/html": [
       "<div>\n",
       "<style scoped>\n",
       "    .dataframe tbody tr th:only-of-type {\n",
       "        vertical-align: middle;\n",
       "    }\n",
       "\n",
       "    .dataframe tbody tr th {\n",
       "        vertical-align: top;\n",
       "    }\n",
       "\n",
       "    .dataframe thead th {\n",
       "        text-align: right;\n",
       "    }\n",
       "</style>\n",
       "<table border=\"1\" class=\"dataframe\">\n",
       "  <thead>\n",
       "    <tr style=\"text-align: right;\">\n",
       "      <th></th>\n",
       "      <th>PRODUCT_ID</th>\n",
       "      <th>TITLE</th>\n",
       "      <th>BULLET_POINTS</th>\n",
       "      <th>DESCRIPTION</th>\n",
       "      <th>PRODUCT_TYPE_ID</th>\n",
       "      <th>PRODUCT_LENGTH</th>\n",
       "    </tr>\n",
       "  </thead>\n",
       "  <tbody>\n",
       "    <tr>\n",
       "      <th>0</th>\n",
       "      <td>1925202</td>\n",
       "      <td>ArtzFolio Tulip Flowers Blackout Curtain for D...</td>\n",
       "      <td>[LUXURIOUS &amp; APPEALING: Beautiful custom-made ...</td>\n",
       "      <td>NaN</td>\n",
       "      <td>1650</td>\n",
       "      <td>2125.980000</td>\n",
       "    </tr>\n",
       "    <tr>\n",
       "      <th>1</th>\n",
       "      <td>2673191</td>\n",
       "      <td>Marks &amp; Spencer Girls' Pyjama Sets T86_2561C_N...</td>\n",
       "      <td>[Harry Potter Hedwig Pyjamas (6-16 Yrs),100% c...</td>\n",
       "      <td>NaN</td>\n",
       "      <td>2755</td>\n",
       "      <td>393.700000</td>\n",
       "    </tr>\n",
       "    <tr>\n",
       "      <th>2</th>\n",
       "      <td>2765088</td>\n",
       "      <td>PRIKNIK Horn Red Electric Air Horn Compressor ...</td>\n",
       "      <td>[Loud Dual Tone Trumpet Horn, Compatible With ...</td>\n",
       "      <td>Specifications: Color: Red, Material: Aluminiu...</td>\n",
       "      <td>7537</td>\n",
       "      <td>748.031495</td>\n",
       "    </tr>\n",
       "    <tr>\n",
       "      <th>3</th>\n",
       "      <td>1594019</td>\n",
       "      <td>ALISHAH Women's Cotton Ankle Length Leggings C...</td>\n",
       "      <td>[Made By 95%cotton and 5% Lycra which gives yo...</td>\n",
       "      <td>AISHAH Women's Lycra Cotton Ankel Leggings. Br...</td>\n",
       "      <td>2996</td>\n",
       "      <td>787.401574</td>\n",
       "    </tr>\n",
       "    <tr>\n",
       "      <th>4</th>\n",
       "      <td>283658</td>\n",
       "      <td>The United Empire Loyalists: A Chronicle of th...</td>\n",
       "      <td>NaN</td>\n",
       "      <td>NaN</td>\n",
       "      <td>6112</td>\n",
       "      <td>598.424000</td>\n",
       "    </tr>\n",
       "  </tbody>\n",
       "</table>\n",
       "</div>"
      ],
      "text/plain": [
       "   PRODUCT_ID                                              TITLE  \\\n",
       "0     1925202  ArtzFolio Tulip Flowers Blackout Curtain for D...   \n",
       "1     2673191  Marks & Spencer Girls' Pyjama Sets T86_2561C_N...   \n",
       "2     2765088  PRIKNIK Horn Red Electric Air Horn Compressor ...   \n",
       "3     1594019  ALISHAH Women's Cotton Ankle Length Leggings C...   \n",
       "4      283658  The United Empire Loyalists: A Chronicle of th...   \n",
       "\n",
       "                                       BULLET_POINTS  \\\n",
       "0  [LUXURIOUS & APPEALING: Beautiful custom-made ...   \n",
       "1  [Harry Potter Hedwig Pyjamas (6-16 Yrs),100% c...   \n",
       "2  [Loud Dual Tone Trumpet Horn, Compatible With ...   \n",
       "3  [Made By 95%cotton and 5% Lycra which gives yo...   \n",
       "4                                                NaN   \n",
       "\n",
       "                                         DESCRIPTION  PRODUCT_TYPE_ID  \\\n",
       "0                                                NaN             1650   \n",
       "1                                                NaN             2755   \n",
       "2  Specifications: Color: Red, Material: Aluminiu...             7537   \n",
       "3  AISHAH Women's Lycra Cotton Ankel Leggings. Br...             2996   \n",
       "4                                                NaN             6112   \n",
       "\n",
       "   PRODUCT_LENGTH  \n",
       "0     2125.980000  \n",
       "1      393.700000  \n",
       "2      748.031495  \n",
       "3      787.401574  \n",
       "4      598.424000  "
      ]
     },
     "execution_count": 2,
     "metadata": {},
     "output_type": "execute_result"
    }
   ],
   "source": [
    "df = pd.read_csv(r\"/kaggle/input/amazon-product-data/dataset/train.csv\")\n",
    "df.head()"
   ]
  },
  {
   "cell_type": "code",
   "execution_count": 3,
   "id": "9af86c61",
   "metadata": {
    "execution": {
     "iopub.execute_input": "2023-05-05T05:16:33.415500Z",
     "iopub.status.busy": "2023-05-05T05:16:33.415104Z",
     "iopub.status.idle": "2023-05-05T05:16:33.443486Z",
     "shell.execute_reply": "2023-05-05T05:16:33.442171Z"
    },
    "papermill": {
     "duration": 0.050779,
     "end_time": "2023-05-05T05:16:33.445963",
     "exception": false,
     "start_time": "2023-05-05T05:16:33.395184",
     "status": "completed"
    },
    "tags": []
   },
   "outputs": [
    {
     "name": "stdout",
     "output_type": "stream",
     "text": [
      "<class 'pandas.core.frame.DataFrame'>\n",
      "RangeIndex: 2249698 entries, 0 to 2249697\n",
      "Data columns (total 6 columns):\n",
      " #   Column           Dtype  \n",
      "---  ------           -----  \n",
      " 0   PRODUCT_ID       int64  \n",
      " 1   TITLE            object \n",
      " 2   BULLET_POINTS    object \n",
      " 3   DESCRIPTION      object \n",
      " 4   PRODUCT_TYPE_ID  int64  \n",
      " 5   PRODUCT_LENGTH   float64\n",
      "dtypes: float64(1), int64(2), object(3)\n",
      "memory usage: 103.0+ MB\n"
     ]
    }
   ],
   "source": [
    "df.info()"
   ]
  },
  {
   "cell_type": "markdown",
   "id": "2d4d6d51",
   "metadata": {
    "papermill": {
     "duration": 0.018251,
     "end_time": "2023-05-05T05:16:33.482857",
     "exception": false,
     "start_time": "2023-05-05T05:16:33.464606",
     "status": "completed"
    },
    "tags": []
   },
   "source": [
    "### Column Types\n",
    "\n",
    "- **Numerical** - PRODUCT_ID,PRODUCT_LENGTH\n",
    "- **Categorical** - PRODUCT_TYPE_ID\n",
    "- **NLP** - TITLE, BULLET_POINTS, DESCRIPTION"
   ]
  },
  {
   "cell_type": "markdown",
   "id": "2ac2adac",
   "metadata": {
    "id": "yiq4Dv63PlGO",
    "papermill": {
     "duration": 0.018082,
     "end_time": "2023-05-05T05:16:33.519054",
     "exception": false,
     "start_time": "2023-05-05T05:16:33.500972",
     "status": "completed"
    },
    "tags": []
   },
   "source": [
    "### Issues with the dataset\n",
    "\n",
    "No unique indentification key\n",
    "\n",
    "1. Dirty Data\n",
    "\n",
    "  Table - `train`\n",
    "\n",
    "  - missing data in bullet points and description\n",
    "  - starting product id use diffrent language and have majorty value missing\\\n",
    "  - data contian emojis.\n",
    "    1. title\n",
    "        - special character/code in title -> \"3NHÂ®\"(2857066)\n",
    "    \n",
    "    2. bullet points\n",
    "        - random integer value in bullet point -> product_id(2234464)\n",
    "      \n",
    "    3. description\n",
    "        - description contain html tags.\n",
    "        - random entry in descripition -> product_id(1195350)\n",
    "        - duplicate description for some product like \"as per\".\n",
    "\n",
    "2. Messy Data\n",
    "\n",
    "  Table - `train`\n",
    "  \n",
    "  - some rows seems to use someother language or encoding.\n",
    "    1. title\n",
    "        - \",\" , \"/\" , \"|\" , \"||\" is use to seprate data in title.\n",
    "        - no of items in title by \"pcs\" \n",
    "        - () value in title contain special values like no. of product or product size.\n",
    "      \n",
    "    2. BULLET_POINTS\n",
    "        - BULLET_POINTS is given in form of list.\n",
    "        - BULLET_POINTS itself contain subcategories like \"LUXURIOUS & APPEALING\",\"MATERIAL\" identified with \":\" or \":-\" or \"||\"\n",
    "    \n",
    "    \n",
    "    "
   ]
  },
  {
   "cell_type": "markdown",
   "id": "790bcd60",
   "metadata": {
    "id": "9u8OLVp6htxf",
    "papermill": {
     "duration": 0.0186,
     "end_time": "2023-05-05T05:16:33.556162",
     "exception": false,
     "start_time": "2023-05-05T05:16:33.537562",
     "status": "completed"
    },
    "tags": []
   },
   "source": [
    "### Automatic Assessment\n",
    "\n",
    "- head and tail\n",
    "- sample\n",
    "- info\n",
    "- isnull\n",
    "- duplicated\n",
    "- describe"
   ]
  },
  {
   "cell_type": "code",
   "execution_count": 4,
   "id": "60cd47ad",
   "metadata": {
    "execution": {
     "iopub.execute_input": "2023-05-05T05:16:33.594555Z",
     "iopub.status.busy": "2023-05-05T05:16:33.594191Z",
     "iopub.status.idle": "2023-05-05T05:16:33.604832Z",
     "shell.execute_reply": "2023-05-05T05:16:33.603827Z"
    },
    "id": "arQVdf5Tjh_S",
    "outputId": "f6e5f83a-5e73-48b5-e74c-7f403c6e30ca",
    "papermill": {
     "duration": 0.032623,
     "end_time": "2023-05-05T05:16:33.607086",
     "exception": false,
     "start_time": "2023-05-05T05:16:33.574463",
     "status": "completed"
    },
    "tags": []
   },
   "outputs": [
    {
     "name": "stdout",
     "output_type": "stream",
     "text": [
      "<class 'pandas.core.frame.DataFrame'>\n",
      "RangeIndex: 2249698 entries, 0 to 2249697\n",
      "Data columns (total 6 columns):\n",
      " #   Column           Dtype  \n",
      "---  ------           -----  \n",
      " 0   PRODUCT_ID       int64  \n",
      " 1   TITLE            object \n",
      " 2   BULLET_POINTS    object \n",
      " 3   DESCRIPTION      object \n",
      " 4   PRODUCT_TYPE_ID  int64  \n",
      " 5   PRODUCT_LENGTH   float64\n",
      "dtypes: float64(1), int64(2), object(3)\n",
      "memory usage: 103.0+ MB\n"
     ]
    }
   ],
   "source": [
    "df.info()"
   ]
  },
  {
   "cell_type": "code",
   "execution_count": 5,
   "id": "1b3bdcb0",
   "metadata": {
    "execution": {
     "iopub.execute_input": "2023-05-05T05:16:33.647912Z",
     "iopub.status.busy": "2023-05-05T05:16:33.647066Z",
     "iopub.status.idle": "2023-05-05T05:16:33.654039Z",
     "shell.execute_reply": "2023-05-05T05:16:33.653019Z"
    },
    "papermill": {
     "duration": 0.030091,
     "end_time": "2023-05-05T05:16:33.656204",
     "exception": false,
     "start_time": "2023-05-05T05:16:33.626113",
     "status": "completed"
    },
    "tags": []
   },
   "outputs": [
    {
     "data": {
      "text/plain": [
       "(2249698, 6)"
      ]
     },
     "execution_count": 5,
     "metadata": {},
     "output_type": "execute_result"
    }
   ],
   "source": [
    "df.shape"
   ]
  },
  {
   "cell_type": "code",
   "execution_count": 6,
   "id": "8c3d1961",
   "metadata": {
    "execution": {
     "iopub.execute_input": "2023-05-05T05:16:33.694736Z",
     "iopub.status.busy": "2023-05-05T05:16:33.694335Z",
     "iopub.status.idle": "2023-05-05T05:16:33.739571Z",
     "shell.execute_reply": "2023-05-05T05:16:33.738389Z"
    },
    "papermill": {
     "duration": 0.067039,
     "end_time": "2023-05-05T05:16:33.741671",
     "exception": false,
     "start_time": "2023-05-05T05:16:33.674632",
     "status": "completed"
    },
    "tags": []
   },
   "outputs": [
    {
     "name": "stdout",
     "output_type": "stream",
     "text": [
      "no of unique value: 12907\n",
      "percent of unique value: 0.005737214506124822\n"
     ]
    }
   ],
   "source": [
    "print(\"no of unique value:\",df['PRODUCT_TYPE_ID'].nunique())\n",
    "print(\"percent of unique value:\",df['PRODUCT_TYPE_ID'].nunique()/df.shape[0])"
   ]
  },
  {
   "cell_type": "code",
   "execution_count": 7,
   "id": "f411857c",
   "metadata": {
    "execution": {
     "iopub.execute_input": "2023-05-05T05:16:33.781764Z",
     "iopub.status.busy": "2023-05-05T05:16:33.780932Z",
     "iopub.status.idle": "2023-05-05T05:16:34.119599Z",
     "shell.execute_reply": "2023-05-05T05:16:34.118123Z"
    },
    "papermill": {
     "duration": 0.361435,
     "end_time": "2023-05-05T05:16:34.122194",
     "exception": false,
     "start_time": "2023-05-05T05:16:33.760759",
     "status": "completed"
    },
    "tags": []
   },
   "outputs": [
    {
     "data": {
      "text/plain": [
       "2249698"
      ]
     },
     "execution_count": 7,
     "metadata": {},
     "output_type": "execute_result"
    }
   ],
   "source": [
    "df['PRODUCT_ID'].nunique()"
   ]
  },
  {
   "cell_type": "code",
   "execution_count": 8,
   "id": "0e6ca813",
   "metadata": {
    "execution": {
     "iopub.execute_input": "2023-05-05T05:16:34.163427Z",
     "iopub.status.busy": "2023-05-05T05:16:34.162918Z",
     "iopub.status.idle": "2023-05-05T05:16:36.647481Z",
     "shell.execute_reply": "2023-05-05T05:16:36.646227Z"
    },
    "id": "8fZRxjmjkSb8",
    "outputId": "a89f7ea1-4076-496f-908e-17f3a1a54855",
    "papermill": {
     "duration": 2.507653,
     "end_time": "2023-05-05T05:16:36.649768",
     "exception": false,
     "start_time": "2023-05-05T05:16:34.142115",
     "status": "completed"
    },
    "tags": []
   },
   "outputs": [
    {
     "name": "stdout",
     "output_type": "stream",
     "text": [
      "no. of null values : 12\n",
      "percent of null values : 5.334049281281309e-06\n",
      "no. of duplicate values : 38935\n",
      "percent  of duplicate values : 0.017306767397223984\n"
     ]
    }
   ],
   "source": [
    "print(\"no. of null values :\",(df['TITLE'].isnull()).sum())\n",
    "print(\"percent of null values :\",(df['TITLE'].isnull()).sum()/df.shape[0])\n",
    "print(\"no. of duplicate values :\",df['TITLE'].duplicated().sum())\n",
    "print(\"percent  of duplicate values :\",df['TITLE'].duplicated().sum()/df.shape[0])"
   ]
  },
  {
   "cell_type": "code",
   "execution_count": 9,
   "id": "996f8df5",
   "metadata": {
    "execution": {
     "iopub.execute_input": "2023-05-05T05:16:36.690371Z",
     "iopub.status.busy": "2023-05-05T05:16:36.689936Z",
     "iopub.status.idle": "2023-05-05T05:16:39.174711Z",
     "shell.execute_reply": "2023-05-05T05:16:39.173717Z"
    },
    "papermill": {
     "duration": 2.507996,
     "end_time": "2023-05-05T05:16:39.177069",
     "exception": false,
     "start_time": "2023-05-05T05:16:36.669073",
     "status": "completed"
    },
    "tags": []
   },
   "outputs": [
    {
     "name": "stdout",
     "output_type": "stream",
     "text": [
      "no. of null values : 837364\n",
      "percent of null values : 0.37221173686423686\n",
      "no. of duplicate values : 447003\n",
      "percent  of duplicate values : 0.1986946692400491\n"
     ]
    }
   ],
   "source": [
    "print(\"no. of null values :\",(df['BULLET_POINTS'].isnull()).sum())\n",
    "print(\"percent of null values :\",(df['BULLET_POINTS'].isnull()).sum()/df.shape[0])\n",
    "print(\"no. of duplicate values :\",df['BULLET_POINTS'].duplicated().sum()-df['BULLET_POINTS'].isnull().sum())\n",
    "print(\"percent  of duplicate values :\",(df['BULLET_POINTS'].duplicated().sum()-df['BULLET_POINTS'].isnull().sum())/df.shape[0])\n"
   ]
  },
  {
   "cell_type": "code",
   "execution_count": 10,
   "id": "8ed0867e",
   "metadata": {
    "execution": {
     "iopub.execute_input": "2023-05-05T05:16:39.218780Z",
     "iopub.status.busy": "2023-05-05T05:16:39.218399Z",
     "iopub.status.idle": "2023-05-05T05:16:41.394966Z",
     "shell.execute_reply": "2023-05-05T05:16:41.394045Z"
    },
    "papermill": {
     "duration": 2.200635,
     "end_time": "2023-05-05T05:16:41.397322",
     "exception": false,
     "start_time": "2023-05-05T05:16:39.196687",
     "status": "completed"
    },
    "tags": []
   },
   "outputs": [
    {
     "name": "stdout",
     "output_type": "stream",
     "text": [
      "no. of null values : 1157381\n",
      "percent of null values : 0.5144606076015537\n",
      "no. of duplicate values : 347041\n",
      "percent  of duplicate values : 0.15426114971876226\n"
     ]
    }
   ],
   "source": [
    "print(\"no. of null values :\",(df['DESCRIPTION'].isnull()).sum())\n",
    "print(\"percent of null values :\",(df['DESCRIPTION'].isnull()).sum()/df.shape[0])\n",
    "print(\"no. of duplicate values :\",df['DESCRIPTION'].duplicated().sum()-df['DESCRIPTION'].isnull().sum())\n",
    "print(\"percent  of duplicate values :\",(df['DESCRIPTION'].duplicated().sum()-df['DESCRIPTION'].isnull().sum())/df.shape[0])"
   ]
  },
  {
   "cell_type": "code",
   "execution_count": 11,
   "id": "eb364daf",
   "metadata": {
    "execution": {
     "iopub.execute_input": "2023-05-05T05:16:41.438080Z",
     "iopub.status.busy": "2023-05-05T05:16:41.437203Z",
     "iopub.status.idle": "2023-05-05T05:16:45.929761Z",
     "shell.execute_reply": "2023-05-05T05:16:45.928134Z"
    },
    "papermill": {
     "duration": 4.515343,
     "end_time": "2023-05-05T05:16:45.932003",
     "exception": false,
     "start_time": "2023-05-05T05:16:41.416660",
     "status": "completed"
    },
    "tags": []
   },
   "outputs": [
    {
     "name": "stdout",
     "output_type": "stream",
     "text": [
      "dataset dont have any duplicate\n"
     ]
    }
   ],
   "source": [
    "if(df.duplicated().sum()):\n",
    "    print(\"no of duplicates are :\",df.duplicated().sum())\n",
    "else:\n",
    "    print(\"dataset dont have any duplicate\")"
   ]
  },
  {
   "cell_type": "code",
   "execution_count": 12,
   "id": "76871f66",
   "metadata": {
    "execution": {
     "iopub.execute_input": "2023-05-05T05:16:45.974564Z",
     "iopub.status.busy": "2023-05-05T05:16:45.974132Z",
     "iopub.status.idle": "2023-05-05T05:16:46.293516Z",
     "shell.execute_reply": "2023-05-05T05:16:46.292397Z"
    },
    "papermill": {
     "duration": 0.343083,
     "end_time": "2023-05-05T05:16:46.295886",
     "exception": false,
     "start_time": "2023-05-05T05:16:45.952803",
     "status": "completed"
    },
    "tags": []
   },
   "outputs": [
    {
     "data": {
      "text/html": [
       "<div>\n",
       "<style scoped>\n",
       "    .dataframe tbody tr th:only-of-type {\n",
       "        vertical-align: middle;\n",
       "    }\n",
       "\n",
       "    .dataframe tbody tr th {\n",
       "        vertical-align: top;\n",
       "    }\n",
       "\n",
       "    .dataframe thead th {\n",
       "        text-align: right;\n",
       "    }\n",
       "</style>\n",
       "<table border=\"1\" class=\"dataframe\">\n",
       "  <thead>\n",
       "    <tr style=\"text-align: right;\">\n",
       "      <th></th>\n",
       "      <th>PRODUCT_ID</th>\n",
       "      <th>PRODUCT_TYPE_ID</th>\n",
       "      <th>PRODUCT_LENGTH</th>\n",
       "    </tr>\n",
       "  </thead>\n",
       "  <tbody>\n",
       "    <tr>\n",
       "      <th>count</th>\n",
       "      <td>2.249698e+06</td>\n",
       "      <td>2.249698e+06</td>\n",
       "      <td>2.249698e+06</td>\n",
       "    </tr>\n",
       "    <tr>\n",
       "      <th>mean</th>\n",
       "      <td>1.499795e+06</td>\n",
       "      <td>4.000456e+03</td>\n",
       "      <td>4.071839e+03</td>\n",
       "    </tr>\n",
       "    <tr>\n",
       "      <th>std</th>\n",
       "      <td>8.661944e+05</td>\n",
       "      <td>3.966146e+03</td>\n",
       "      <td>1.351685e+06</td>\n",
       "    </tr>\n",
       "    <tr>\n",
       "      <th>min</th>\n",
       "      <td>1.000000e+00</td>\n",
       "      <td>0.000000e+00</td>\n",
       "      <td>1.000000e+00</td>\n",
       "    </tr>\n",
       "    <tr>\n",
       "      <th>25%</th>\n",
       "      <td>7.494795e+05</td>\n",
       "      <td>2.300000e+02</td>\n",
       "      <td>5.118110e+02</td>\n",
       "    </tr>\n",
       "    <tr>\n",
       "      <th>50%</th>\n",
       "      <td>1.499558e+06</td>\n",
       "      <td>2.916000e+03</td>\n",
       "      <td>6.630000e+02</td>\n",
       "    </tr>\n",
       "    <tr>\n",
       "      <th>75%</th>\n",
       "      <td>2.250664e+06</td>\n",
       "      <td>6.403000e+03</td>\n",
       "      <td>1.062992e+03</td>\n",
       "    </tr>\n",
       "    <tr>\n",
       "      <th>max</th>\n",
       "      <td>2.999999e+06</td>\n",
       "      <td>1.342000e+04</td>\n",
       "      <td>1.885801e+09</td>\n",
       "    </tr>\n",
       "  </tbody>\n",
       "</table>\n",
       "</div>"
      ],
      "text/plain": [
       "         PRODUCT_ID  PRODUCT_TYPE_ID  PRODUCT_LENGTH\n",
       "count  2.249698e+06     2.249698e+06    2.249698e+06\n",
       "mean   1.499795e+06     4.000456e+03    4.071839e+03\n",
       "std    8.661944e+05     3.966146e+03    1.351685e+06\n",
       "min    1.000000e+00     0.000000e+00    1.000000e+00\n",
       "25%    7.494795e+05     2.300000e+02    5.118110e+02\n",
       "50%    1.499558e+06     2.916000e+03    6.630000e+02\n",
       "75%    2.250664e+06     6.403000e+03    1.062992e+03\n",
       "max    2.999999e+06     1.342000e+04    1.885801e+09"
      ]
     },
     "execution_count": 12,
     "metadata": {},
     "output_type": "execute_result"
    }
   ],
   "source": [
    "df.describe()"
   ]
  },
  {
   "cell_type": "code",
   "execution_count": 13,
   "id": "b8b1bf32",
   "metadata": {
    "execution": {
     "iopub.execute_input": "2023-05-05T05:16:46.336875Z",
     "iopub.status.busy": "2023-05-05T05:16:46.336496Z",
     "iopub.status.idle": "2023-05-05T05:16:46.355098Z",
     "shell.execute_reply": "2023-05-05T05:16:46.353958Z"
    },
    "papermill": {
     "duration": 0.041818,
     "end_time": "2023-05-05T05:16:46.357174",
     "exception": false,
     "start_time": "2023-05-05T05:16:46.315356",
     "status": "completed"
    },
    "tags": []
   },
   "outputs": [
    {
     "data": {
      "text/plain": [
       "(1.0, 1885801400.0)"
      ]
     },
     "execution_count": 13,
     "metadata": {},
     "output_type": "execute_result"
    }
   ],
   "source": [
    "df['PRODUCT_LENGTH'].min(),df['PRODUCT_LENGTH'].max()"
   ]
  },
  {
   "cell_type": "code",
   "execution_count": 14,
   "id": "27ff55bf",
   "metadata": {
    "execution": {
     "iopub.execute_input": "2023-05-05T05:16:46.398710Z",
     "iopub.status.busy": "2023-05-05T05:16:46.398124Z",
     "iopub.status.idle": "2023-05-05T05:16:46.521140Z",
     "shell.execute_reply": "2023-05-05T05:16:46.520065Z"
    },
    "papermill": {
     "duration": 0.146488,
     "end_time": "2023-05-05T05:16:46.523314",
     "exception": false,
     "start_time": "2023-05-05T05:16:46.376826",
     "status": "completed"
    },
    "tags": []
   },
   "outputs": [
    {
     "name": "stderr",
     "output_type": "stream",
     "text": [
      "/tmp/ipykernel_20/1134722465.py:1: FutureWarning: The default value of numeric_only in DataFrame.corr is deprecated. In a future version, it will default to False. Select only valid columns or specify the value of numeric_only to silence this warning.\n",
      "  df.corr()\n"
     ]
    },
    {
     "data": {
      "text/html": [
       "<div>\n",
       "<style scoped>\n",
       "    .dataframe tbody tr th:only-of-type {\n",
       "        vertical-align: middle;\n",
       "    }\n",
       "\n",
       "    .dataframe tbody tr th {\n",
       "        vertical-align: top;\n",
       "    }\n",
       "\n",
       "    .dataframe thead th {\n",
       "        text-align: right;\n",
       "    }\n",
       "</style>\n",
       "<table border=\"1\" class=\"dataframe\">\n",
       "  <thead>\n",
       "    <tr style=\"text-align: right;\">\n",
       "      <th></th>\n",
       "      <th>PRODUCT_ID</th>\n",
       "      <th>PRODUCT_TYPE_ID</th>\n",
       "      <th>PRODUCT_LENGTH</th>\n",
       "    </tr>\n",
       "  </thead>\n",
       "  <tbody>\n",
       "    <tr>\n",
       "      <th>PRODUCT_ID</th>\n",
       "      <td>1.000000</td>\n",
       "      <td>0.250576</td>\n",
       "      <td>0.000424</td>\n",
       "    </tr>\n",
       "    <tr>\n",
       "      <th>PRODUCT_TYPE_ID</th>\n",
       "      <td>0.250576</td>\n",
       "      <td>1.000000</td>\n",
       "      <td>0.000961</td>\n",
       "    </tr>\n",
       "    <tr>\n",
       "      <th>PRODUCT_LENGTH</th>\n",
       "      <td>0.000424</td>\n",
       "      <td>0.000961</td>\n",
       "      <td>1.000000</td>\n",
       "    </tr>\n",
       "  </tbody>\n",
       "</table>\n",
       "</div>"
      ],
      "text/plain": [
       "                 PRODUCT_ID  PRODUCT_TYPE_ID  PRODUCT_LENGTH\n",
       "PRODUCT_ID         1.000000         0.250576        0.000424\n",
       "PRODUCT_TYPE_ID    0.250576         1.000000        0.000961\n",
       "PRODUCT_LENGTH     0.000424         0.000961        1.000000"
      ]
     },
     "execution_count": 14,
     "metadata": {},
     "output_type": "execute_result"
    }
   ],
   "source": [
    "df.corr()"
   ]
  },
  {
   "cell_type": "code",
   "execution_count": 15,
   "id": "f2b47afc",
   "metadata": {
    "execution": {
     "iopub.execute_input": "2023-05-05T05:16:46.564753Z",
     "iopub.status.busy": "2023-05-05T05:16:46.564347Z",
     "iopub.status.idle": "2023-05-05T05:16:46.569792Z",
     "shell.execute_reply": "2023-05-05T05:16:46.568626Z"
    },
    "papermill": {
     "duration": 0.028781,
     "end_time": "2023-05-05T05:16:46.571998",
     "exception": false,
     "start_time": "2023-05-05T05:16:46.543217",
     "status": "completed"
    },
    "tags": []
   },
   "outputs": [],
   "source": [
    "grp=df.groupby('PRODUCT_TYPE_ID')"
   ]
  },
  {
   "cell_type": "code",
   "execution_count": 16,
   "id": "f1807585",
   "metadata": {
    "execution": {
     "iopub.execute_input": "2023-05-05T05:16:46.614600Z",
     "iopub.status.busy": "2023-05-05T05:16:46.614205Z",
     "iopub.status.idle": "2023-05-05T05:16:47.029132Z",
     "shell.execute_reply": "2023-05-05T05:16:47.028278Z"
    },
    "papermill": {
     "duration": 0.439042,
     "end_time": "2023-05-05T05:16:47.031106",
     "exception": false,
     "start_time": "2023-05-05T05:16:46.592064",
     "status": "completed"
    },
    "tags": []
   },
   "outputs": [
    {
     "data": {
      "text/plain": [
       "<AxesSubplot: xlabel='PRODUCT_TYPE_ID'>"
      ]
     },
     "execution_count": 16,
     "metadata": {},
     "output_type": "execute_result"
    },
    {
     "data": {
      "image/png": "[encoded data removed]",
      "text/plain": [
       "<Figure size 640x480 with 1 Axes>"
      ]
     },
     "metadata": {},
     "output_type": "display_data"
    }
   ],
   "source": [
    "sns.lineplot(grp.agg({'PRODUCT_LENGTH':'mean'}))"
   ]
  },
  {
   "cell_type": "code",
   "execution_count": 17,
   "id": "2538cbd3",
   "metadata": {
    "execution": {
     "iopub.execute_input": "2023-05-05T05:16:47.074598Z",
     "iopub.status.busy": "2023-05-05T05:16:47.073516Z",
     "iopub.status.idle": "2023-05-05T05:16:47.380157Z",
     "shell.execute_reply": "2023-05-05T05:16:47.379076Z"
    },
    "papermill": {
     "duration": 0.3307,
     "end_time": "2023-05-05T05:16:47.382251",
     "exception": false,
     "start_time": "2023-05-05T05:16:47.051551",
     "status": "completed"
    },
    "tags": []
   },
   "outputs": [
    {
     "data": {
      "text/plain": [
       "<AxesSubplot: ylabel='PRODUCT_TYPE_ID'>"
      ]
     },
     "execution_count": 17,
     "metadata": {},
     "output_type": "execute_result"
    },
    {
     "data": {
      "image/png": "[encoded data removed]",
      "text/plain": [
       "<Figure size 640x480 with 1 Axes>"
      ]
     },
     "metadata": {},
     "output_type": "display_data"
    }
   ],
   "source": [
    "sns.lineplot(df['PRODUCT_TYPE_ID'].value_counts())"
   ]
  },
  {
   "cell_type": "markdown",
   "id": "77c28f27",
   "metadata": {
    "id": "hQHkTcMzsJ1S",
    "papermill": {
     "duration": 0.020616,
     "end_time": "2023-05-05T05:16:47.423835",
     "exception": false,
     "start_time": "2023-05-05T05:16:47.403219",
     "status": "completed"
    },
    "tags": []
   },
   "source": [
    "### Note - Assessing Data is an Iterative Process"
   ]
  },
  {
   "cell_type": "markdown",
   "id": "41dfe13f",
   "metadata": {
    "id": "eeTObK6-sPdP",
    "papermill": {
     "duration": 0.02079,
     "end_time": "2023-05-05T05:16:47.465937",
     "exception": false,
     "start_time": "2023-05-05T05:16:47.445147",
     "status": "completed"
    },
    "tags": []
   },
   "source": [
    "### Data Quality Dimensions\n",
    "\n",
    "- Completeness -> is data missing?\n",
    "- Validity -> is data invalid -> negative height -> duplicate patient id\n",
    "- Accuracy -> data is valid but not accurate -> weight -> 1kg\n",
    "- Consistency -> both valid and accurate but written differently -> New Youk and NY"
   ]
  },
  {
   "cell_type": "markdown",
   "id": "d7cc06bc",
   "metadata": {
    "id": "FByfAkZpywyy",
    "papermill": {
     "duration": 0.02096,
     "end_time": "2023-05-05T05:16:47.507939",
     "exception": false,
     "start_time": "2023-05-05T05:16:47.486979",
     "status": "completed"
    },
    "tags": []
   },
   "source": [
    "### Order of severity\n",
    "\n",
    "Completeness <- Validity <- Accuracy <- Consistency"
   ]
  },
  {
   "cell_type": "markdown",
   "id": "46898cbc",
   "metadata": {
    "id": "Ff-K97yd0wMc",
    "papermill": {
     "duration": 0.021064,
     "end_time": "2023-05-05T05:16:47.550286",
     "exception": false,
     "start_time": "2023-05-05T05:16:47.529222",
     "status": "completed"
    },
    "tags": []
   },
   "source": [
    "### Data Cleaning Order\n",
    "\n",
    "1. Quality -> Completeness\n",
    "2. Tidiness\n",
    "3. Quality -> Validity\n",
    "4. Quality -> Accuracy\n",
    "5. Quality -> Consistency\n",
    "\n",
    "#### Steps involved in Data cleaning\n",
    "- Define\n",
    "- Code\n",
    "- Test\n",
    "\n",
    "`Always make sure to create a copy of your pandas dataframe before you start the cleaning process`"
   ]
  },
  {
   "cell_type": "code",
   "execution_count": 18,
   "id": "9caba6db",
   "metadata": {
    "execution": {
     "iopub.execute_input": "2023-05-05T05:16:47.594541Z",
     "iopub.status.busy": "2023-05-05T05:16:47.594124Z",
     "iopub.status.idle": "2023-05-05T05:16:47.780188Z",
     "shell.execute_reply": "2023-05-05T05:16:47.778985Z"
    },
    "papermill": {
     "duration": 0.21108,
     "end_time": "2023-05-05T05:16:47.782658",
     "exception": false,
     "start_time": "2023-05-05T05:16:47.571578",
     "status": "completed"
    },
    "tags": []
   },
   "outputs": [],
   "source": [
    "df_original=df.copy()"
   ]
  },
  {
   "cell_type": "code",
   "execution_count": 19,
   "id": "b638f56f",
   "metadata": {
    "execution": {
     "iopub.execute_input": "2023-05-05T05:16:47.826733Z",
     "iopub.status.busy": "2023-05-05T05:16:47.826314Z",
     "iopub.status.idle": "2023-05-05T05:16:47.844787Z",
     "shell.execute_reply": "2023-05-05T05:16:47.843685Z"
    },
    "papermill": {
     "duration": 0.043366,
     "end_time": "2023-05-05T05:16:47.847174",
     "exception": false,
     "start_time": "2023-05-05T05:16:47.803808",
     "status": "completed"
    },
    "tags": []
   },
   "outputs": [
    {
     "data": {
      "text/html": [
       "<div>\n",
       "<style scoped>\n",
       "    .dataframe tbody tr th:only-of-type {\n",
       "        vertical-align: middle;\n",
       "    }\n",
       "\n",
       "    .dataframe tbody tr th {\n",
       "        vertical-align: top;\n",
       "    }\n",
       "\n",
       "    .dataframe thead th {\n",
       "        text-align: right;\n",
       "    }\n",
       "</style>\n",
       "<table border=\"1\" class=\"dataframe\">\n",
       "  <thead>\n",
       "    <tr style=\"text-align: right;\">\n",
       "      <th></th>\n",
       "      <th>PRODUCT_ID</th>\n",
       "      <th>TITLE</th>\n",
       "      <th>BULLET_POINTS</th>\n",
       "      <th>DESCRIPTION</th>\n",
       "      <th>PRODUCT_TYPE_ID</th>\n",
       "      <th>PRODUCT_LENGTH</th>\n",
       "    </tr>\n",
       "  </thead>\n",
       "  <tbody>\n",
       "    <tr>\n",
       "      <th>751233</th>\n",
       "      <td>2229306</td>\n",
       "      <td>Alphabet Letter Patches A to Z | Iron On | Sew...</td>\n",
       "      <td>[EASY: Fast application &amp; comes with instructi...</td>\n",
       "      <td>&lt;ul&gt;&lt;/ul&gt;&lt;/br&gt; &lt;b&gt;📦Package Includes:&lt;/b&gt;&lt;li &gt;x...</td>\n",
       "      <td>13259</td>\n",
       "      <td>340.0</td>\n",
       "    </tr>\n",
       "  </tbody>\n",
       "</table>\n",
       "</div>"
      ],
      "text/plain": [
       "        PRODUCT_ID                                              TITLE  \\\n",
       "751233     2229306  Alphabet Letter Patches A to Z | Iron On | Sew...   \n",
       "\n",
       "                                            BULLET_POINTS  \\\n",
       "751233  [EASY: Fast application & comes with instructi...   \n",
       "\n",
       "                                              DESCRIPTION  PRODUCT_TYPE_ID  \\\n",
       "751233  <ul></ul></br> <b>📦Package Includes:</b><li >x...            13259   \n",
       "\n",
       "        PRODUCT_LENGTH  \n",
       "751233           340.0  "
      ]
     },
     "execution_count": 19,
     "metadata": {},
     "output_type": "execute_result"
    }
   ],
   "source": [
    "df[df['PRODUCT_ID']==2229306]"
   ]
  },
  {
   "cell_type": "code",
   "execution_count": 20,
   "id": "be9380f9",
   "metadata": {
    "execution": {
     "iopub.execute_input": "2023-05-05T05:16:47.893807Z",
     "iopub.status.busy": "2023-05-05T05:16:47.892467Z",
     "iopub.status.idle": "2023-05-05T05:16:47.907544Z",
     "shell.execute_reply": "2023-05-05T05:16:47.906600Z"
    },
    "papermill": {
     "duration": 0.041184,
     "end_time": "2023-05-05T05:16:47.909585",
     "exception": false,
     "start_time": "2023-05-05T05:16:47.868401",
     "status": "completed"
    },
    "tags": []
   },
   "outputs": [
    {
     "data": {
      "text/html": [
       "<div>\n",
       "<style scoped>\n",
       "    .dataframe tbody tr th:only-of-type {\n",
       "        vertical-align: middle;\n",
       "    }\n",
       "\n",
       "    .dataframe tbody tr th {\n",
       "        vertical-align: top;\n",
       "    }\n",
       "\n",
       "    .dataframe thead th {\n",
       "        text-align: right;\n",
       "    }\n",
       "</style>\n",
       "<table border=\"1\" class=\"dataframe\">\n",
       "  <thead>\n",
       "    <tr style=\"text-align: right;\">\n",
       "      <th></th>\n",
       "      <th>PRODUCT_ID</th>\n",
       "      <th>TITLE</th>\n",
       "      <th>BULLET_POINTS</th>\n",
       "      <th>DESCRIPTION</th>\n",
       "      <th>PRODUCT_TYPE_ID</th>\n",
       "      <th>PRODUCT_LENGTH</th>\n",
       "    </tr>\n",
       "  </thead>\n",
       "  <tbody>\n",
       "    <tr>\n",
       "      <th>275</th>\n",
       "      <td>1955596</td>\n",
       "      <td>Home Zone Living Wooden Crate Storage Set, Sta...</td>\n",
       "      <td>[Wood crate – Instantly add functionality and ...</td>\n",
       "      <td>NaN</td>\n",
       "      <td>10059</td>\n",
       "      <td>984.0</td>\n",
       "    </tr>\n",
       "  </tbody>\n",
       "</table>\n",
       "</div>"
      ],
      "text/plain": [
       "     PRODUCT_ID                                              TITLE  \\\n",
       "275     1955596  Home Zone Living Wooden Crate Storage Set, Sta...   \n",
       "\n",
       "                                         BULLET_POINTS DESCRIPTION  \\\n",
       "275  [Wood crate – Instantly add functionality and ...         NaN   \n",
       "\n",
       "     PRODUCT_TYPE_ID  PRODUCT_LENGTH  \n",
       "275            10059           984.0  "
      ]
     },
     "execution_count": 20,
     "metadata": {},
     "output_type": "execute_result"
    }
   ],
   "source": [
    "df[df['PRODUCT_ID']==1955596]"
   ]
  },
  {
   "cell_type": "markdown",
   "id": "8995bfd3",
   "metadata": {
    "papermill": {
     "duration": 0.020981,
     "end_time": "2023-05-05T05:16:47.952064",
     "exception": false,
     "start_time": "2023-05-05T05:16:47.931083",
     "status": "completed"
    },
    "tags": []
   },
   "source": [
    "## PreProcessing\n",
    "- change data into correct datatype"
   ]
  },
  {
   "cell_type": "code",
   "execution_count": 21,
   "id": "62c1fc96",
   "metadata": {
    "execution": {
     "iopub.execute_input": "2023-05-05T05:16:47.997685Z",
     "iopub.status.busy": "2023-05-05T05:16:47.997310Z",
     "iopub.status.idle": "2023-05-05T05:16:48.008586Z",
     "shell.execute_reply": "2023-05-05T05:16:48.007124Z"
    },
    "papermill": {
     "duration": 0.036986,
     "end_time": "2023-05-05T05:16:48.010714",
     "exception": false,
     "start_time": "2023-05-05T05:16:47.973728",
     "status": "completed"
    },
    "tags": []
   },
   "outputs": [
    {
     "name": "stdout",
     "output_type": "stream",
     "text": [
      "<class 'pandas.core.frame.DataFrame'>\n",
      "RangeIndex: 2249698 entries, 0 to 2249697\n",
      "Data columns (total 6 columns):\n",
      " #   Column           Dtype  \n",
      "---  ------           -----  \n",
      " 0   PRODUCT_ID       int64  \n",
      " 1   TITLE            object \n",
      " 2   BULLET_POINTS    object \n",
      " 3   DESCRIPTION      object \n",
      " 4   PRODUCT_TYPE_ID  int64  \n",
      " 5   PRODUCT_LENGTH   float64\n",
      "dtypes: float64(1), int64(2), object(3)\n",
      "memory usage: 103.0+ MB\n"
     ]
    }
   ],
   "source": [
    "df.info()"
   ]
  },
  {
   "cell_type": "code",
   "execution_count": 22,
   "id": "a842fbac",
   "metadata": {
    "execution": {
     "iopub.execute_input": "2023-05-05T05:16:48.056785Z",
     "iopub.status.busy": "2023-05-05T05:16:48.055524Z",
     "iopub.status.idle": "2023-05-05T05:16:48.287604Z",
     "shell.execute_reply": "2023-05-05T05:16:48.286329Z"
    },
    "papermill": {
     "duration": 0.258062,
     "end_time": "2023-05-05T05:16:48.290415",
     "exception": false,
     "start_time": "2023-05-05T05:16:48.032353",
     "status": "completed"
    },
    "tags": []
   },
   "outputs": [],
   "source": [
    "df=df.astype({'PRODUCT_ID':np.int32,'PRODUCT_TYPE_ID':'category'})"
   ]
  },
  {
   "cell_type": "code",
   "execution_count": 23,
   "id": "ce57065f",
   "metadata": {
    "execution": {
     "iopub.execute_input": "2023-05-05T05:16:48.335408Z",
     "iopub.status.busy": "2023-05-05T05:16:48.334998Z",
     "iopub.status.idle": "2023-05-05T05:16:48.340019Z",
     "shell.execute_reply": "2023-05-05T05:16:48.338835Z"
    },
    "papermill": {
     "duration": 0.030261,
     "end_time": "2023-05-05T05:16:48.342448",
     "exception": false,
     "start_time": "2023-05-05T05:16:48.312187",
     "status": "completed"
    },
    "tags": []
   },
   "outputs": [],
   "source": [
    "# # as BULLET_POINTS column contain missing values\n",
    "# def evaluate(txt): \n",
    "#     if type(txt) ==str :\n",
    "#         return txt.strip('[]').split(',')   \n",
    "#     else:\n",
    "#         return np.nan\n",
    "# df['BULLET_POINTS']=df['BULLET_POINTS'].apply(evaluate)"
   ]
  },
  {
   "cell_type": "code",
   "execution_count": 24,
   "id": "3de220f3",
   "metadata": {
    "execution": {
     "iopub.execute_input": "2023-05-05T05:16:48.387453Z",
     "iopub.status.busy": "2023-05-05T05:16:48.387051Z",
     "iopub.status.idle": "2023-05-05T05:16:48.399610Z",
     "shell.execute_reply": "2023-05-05T05:16:48.398262Z"
    },
    "papermill": {
     "duration": 0.037851,
     "end_time": "2023-05-05T05:16:48.401990",
     "exception": false,
     "start_time": "2023-05-05T05:16:48.364139",
     "status": "completed"
    },
    "tags": []
   },
   "outputs": [
    {
     "name": "stdout",
     "output_type": "stream",
     "text": [
      "<class 'pandas.core.frame.DataFrame'>\n",
      "RangeIndex: 2249698 entries, 0 to 2249697\n",
      "Data columns (total 6 columns):\n",
      " #   Column           Dtype   \n",
      "---  ------           -----   \n",
      " 0   PRODUCT_ID       int32   \n",
      " 1   TITLE            object  \n",
      " 2   BULLET_POINTS    object  \n",
      " 3   DESCRIPTION      object  \n",
      " 4   PRODUCT_TYPE_ID  category\n",
      " 5   PRODUCT_LENGTH   float64 \n",
      "dtypes: category(1), float64(1), int32(1), object(3)\n",
      "memory usage: 82.1+ MB\n"
     ]
    }
   ],
   "source": [
    "df.info()"
   ]
  },
  {
   "cell_type": "markdown",
   "id": "44d41e16",
   "metadata": {
    "papermill": {
     "duration": 0.021482,
     "end_time": "2023-05-05T05:16:48.445296",
     "exception": false,
     "start_time": "2023-05-05T05:16:48.423814",
     "status": "completed"
    },
    "tags": []
   },
   "source": [
    "## common preprocessing"
   ]
  },
  {
   "cell_type": "code",
   "execution_count": 25,
   "id": "bd505885",
   "metadata": {
    "execution": {
     "iopub.execute_input": "2023-05-05T05:16:48.490017Z",
     "iopub.status.busy": "2023-05-05T05:16:48.489631Z",
     "iopub.status.idle": "2023-05-05T05:16:48.502748Z",
     "shell.execute_reply": "2023-05-05T05:16:48.501456Z"
    },
    "papermill": {
     "duration": 0.038263,
     "end_time": "2023-05-05T05:16:48.505094",
     "exception": false,
     "start_time": "2023-05-05T05:16:48.466831",
     "status": "completed"
    },
    "tags": []
   },
   "outputs": [],
   "source": [
    "def remove_url(txt):\n",
    "    txt = re.sub(r\"\\w+:\\/\\/.*?(?=\\s)\", '', txt)\n",
    "    return txt\n",
    "\n",
    "def remove_email(text):\n",
    "    return re.sub('\\S*@\\S*\\s?', '', text)\n",
    "\n",
    "# Function for expanding most common contractions\n",
    "def decontraction(phrase):\n",
    "    # general\n",
    "    phrase = re.sub(r\"n\\'t\", \" not\", phrase)\n",
    "    phrase = re.sub(r\"\\'t\", \" not\", phrase)\n",
    "    phrase = re.sub(r\"\\'re\", \" are\", phrase)\n",
    "    phrase = re.sub(r\"\\'s\", \" is\", phrase)\n",
    "    phrase = re.sub(r\"\\'d\", \" would\", phrase)\n",
    "    phrase = re.sub(r\"\\'ll\", \" will\", phrase)\n",
    "    phrase = re.sub(r\"\\'t\", \" not\", phrase)\n",
    "    phrase = re.sub(r\"\\'ve\", \" have\", phrase)\n",
    "    phrase = re.sub(r\"\\'m\", \" am\", phrase)\n",
    "    phrase = re.sub(r\"&\", \"and\", phrase)\n",
    "    return phrase\n",
    "\n",
    "def remove_escape_sequences(text):\n",
    "    text=text.replace(r\"\\n\",\"\")\n",
    "    text=text.replace(r\"\\t\",\"\")\n",
    "    text=text.replace(r\"\\r\",\"\")\n",
    "    return text\n",
    "\n",
    "def remove_emojize(txt):\n",
    "    emoji_pattern = re.compile(\"[\"\n",
    "        u\"\\U0001F600-\\U0001F64F\"  # emoticons\n",
    "        u\"\\U0001F300-\\U0001F5FF\"  # symbols & pictographs\n",
    "        u\"\\U0001F680-\\U0001F6FF\"  # transport & map symbols\n",
    "        u\"\\U0001F1E0-\\U0001F1FF\"  # flags (iOS)\n",
    "        u\"\\U00002702-\\U000027B0\"\n",
    "        u\"\\U000024C2-\\U0001F251\"\n",
    "                           \"]+\", flags=re.UNICODE)\n",
    "    return emoji_pattern.sub(r'', txt) # no emoji\n",
    "\n",
    "def remove_special(txt):\n",
    "    # remove trademark and registered \n",
    "    pattern2=re.compile(\"\\\\u00AE|\\\\u00a9|\\\\u2122\")\n",
    "    txt=pattern2.sub(r'',txt)\n",
    "    return txt\n",
    "\n",
    "def remove_html(txt):\n",
    "    pattern=re.compile('<.*?>')\n",
    "    return pattern.sub(r'',txt)\n",
    "\n",
    "def remove_phoneno(txt):\n",
    "    pattern=re.compile(\"((?:\\+\\d{2}[-\\.\\s]??|\\d{4}[-\\.\\s]??)?(?:\\d{3}[-\\.\\s]??\\d{3}[-\\.\\s]??\\d{4}|\\(\\d{3}\\)\\s*\\d{3}[-\\.\\s]??\\d{4}|\\d{3}[-\\.\\s]??\\d{4}))\")\n",
    "    return pattern.sub(r'',txt)\n",
    "\n",
    "def rename_units(txt):\n",
    "    d={'in.':'inch','inches':'inch','yards':'yard','feets':'feet','centimeter':'cm','cms':'cm','metre':'m','mtr':'m','meters':'m'}\n",
    "    for char in d.keys():\n",
    "        txt = txt.replace(char, d[char])\n",
    "    return txt\n",
    "\n",
    "def replace_seq(txt):\n",
    "    d={':-':':',': -':':',';':',','||':'|'}\n",
    "    for char in d.keys():\n",
    "        txt = txt.replace(char, d[char])\n",
    "    return txt"
   ]
  },
  {
   "cell_type": "code",
   "execution_count": 26,
   "id": "6494af18",
   "metadata": {
    "execution": {
     "iopub.execute_input": "2023-05-05T05:16:48.551245Z",
     "iopub.status.busy": "2023-05-05T05:16:48.550826Z",
     "iopub.status.idle": "2023-05-05T05:16:48.556906Z",
     "shell.execute_reply": "2023-05-05T05:16:48.555928Z"
    },
    "papermill": {
     "duration": 0.031569,
     "end_time": "2023-05-05T05:16:48.559140",
     "exception": false,
     "start_time": "2023-05-05T05:16:48.527571",
     "status": "completed"
    },
    "tags": []
   },
   "outputs": [],
   "source": [
    "def preprocessing(txt):\n",
    "    if type(txt)==str:\n",
    "        txt=remove_url(txt)\n",
    "        txt=remove_email(txt)\n",
    "        txt=remove_phoneno(txt)\n",
    "        txt=remove_html(txt)\n",
    "        txt=remove_emojize(txt)\n",
    "        txt=remove_special(txt)\n",
    "        txt=remove_escape_sequences(txt)\n",
    "        txt=decontraction(txt)\n",
    "        txt=txt.lower()\n",
    "        txt=rename_units(txt)\n",
    "        txt=replace_seq(txt)\n",
    "        return txt\n",
    "    return np.nan"
   ]
  },
  {
   "cell_type": "code",
   "execution_count": 27,
   "id": "e818977d",
   "metadata": {
    "execution": {
     "iopub.execute_input": "2023-05-05T05:16:48.605201Z",
     "iopub.status.busy": "2023-05-05T05:16:48.604803Z",
     "iopub.status.idle": "2023-05-05T05:18:38.214527Z",
     "shell.execute_reply": "2023-05-05T05:18:38.213373Z"
    },
    "papermill": {
     "duration": 109.635977,
     "end_time": "2023-05-05T05:18:38.217342",
     "exception": false,
     "start_time": "2023-05-05T05:16:48.581365",
     "status": "completed"
    },
    "tags": []
   },
   "outputs": [],
   "source": [
    "df['TITLE']=df['TITLE'].apply(preprocessing)"
   ]
  },
  {
   "cell_type": "code",
   "execution_count": 28,
   "id": "62572616",
   "metadata": {
    "execution": {
     "iopub.execute_input": "2023-05-05T05:18:38.263792Z",
     "iopub.status.busy": "2023-05-05T05:18:38.262638Z",
     "iopub.status.idle": "2023-05-05T05:23:04.999710Z",
     "shell.execute_reply": "2023-05-05T05:23:04.998471Z"
    },
    "papermill": {
     "duration": 266.762942,
     "end_time": "2023-05-05T05:23:05.002593",
     "exception": false,
     "start_time": "2023-05-05T05:18:38.239651",
     "status": "completed"
    },
    "tags": []
   },
   "outputs": [],
   "source": [
    "df['BULLET_POINTS']=df['BULLET_POINTS'].apply(preprocessing)"
   ]
  },
  {
   "cell_type": "code",
   "execution_count": 29,
   "id": "665890a5",
   "metadata": {
    "execution": {
     "iopub.execute_input": "2023-05-05T05:23:05.049743Z",
     "iopub.status.busy": "2023-05-05T05:23:05.048843Z",
     "iopub.status.idle": "2023-05-05T05:27:19.938780Z",
     "shell.execute_reply": "2023-05-05T05:27:19.937492Z"
    },
    "papermill": {
     "duration": 254.915777,
     "end_time": "2023-05-05T05:27:19.941405",
     "exception": false,
     "start_time": "2023-05-05T05:23:05.025628",
     "status": "completed"
    },
    "tags": []
   },
   "outputs": [],
   "source": [
    "df['DESCRIPTION']=df['DESCRIPTION'].apply(preprocessing)"
   ]
  },
  {
   "cell_type": "markdown",
   "id": "9196325f",
   "metadata": {
    "papermill": {
     "duration": 0.020951,
     "end_time": "2023-05-05T05:27:19.984063",
     "exception": false,
     "start_time": "2023-05-05T05:27:19.963112",
     "status": "completed"
    },
    "tags": []
   },
   "source": [
    "## extract size"
   ]
  },
  {
   "cell_type": "code",
   "execution_count": 30,
   "id": "8e3c1bb0",
   "metadata": {
    "execution": {
     "iopub.execute_input": "2023-05-05T05:27:20.029875Z",
     "iopub.status.busy": "2023-05-05T05:27:20.028862Z",
     "iopub.status.idle": "2023-05-05T05:27:20.034773Z",
     "shell.execute_reply": "2023-05-05T05:27:20.033701Z"
    },
    "papermill": {
     "duration": 0.031391,
     "end_time": "2023-05-05T05:27:20.037109",
     "exception": false,
     "start_time": "2023-05-05T05:27:20.005718",
     "status": "completed"
    },
    "tags": []
   },
   "outputs": [],
   "source": [
    "def find_size(txt):\n",
    "    if type(txt)==str and any(substring in txt for substring in ['size','inch','cm','mm','dimension','dimensions','lenght','width','height']):\n",
    "        return True\n",
    "    return False"
   ]
  },
  {
   "cell_type": "code",
   "execution_count": 31,
   "id": "db5407c8",
   "metadata": {
    "execution": {
     "iopub.execute_input": "2023-05-05T05:27:20.081724Z",
     "iopub.status.busy": "2023-05-05T05:27:20.081316Z",
     "iopub.status.idle": "2023-05-05T05:27:35.440692Z",
     "shell.execute_reply": "2023-05-05T05:27:35.439727Z"
    },
    "papermill": {
     "duration": 15.384345,
     "end_time": "2023-05-05T05:27:35.443013",
     "exception": false,
     "start_time": "2023-05-05T05:27:20.058668",
     "status": "completed"
    },
    "tags": []
   },
   "outputs": [
    {
     "name": "stdout",
     "output_type": "stream",
     "text": [
      "percent of TITLE column having term related to size: 0.15954497003597817\n",
      "percent of bullet_point column having term related to size: 0.2804336404264039\n",
      "percent of DESCRIPTION column having term related to size: 0.21022110523279125\n"
     ]
    }
   ],
   "source": [
    "print(\"percent of TITLE column having term related to size:\", df['TITLE'].apply(find_size).sum()/df.shape[0])\n",
    "print(\"percent of bullet_point column having term related to size:\", df['BULLET_POINTS'].apply(find_size).sum()/df.shape[0])\n",
    "print(\"percent of DESCRIPTION column having term related to size:\", df['DESCRIPTION'].apply(find_size).sum()/df.shape[0])"
   ]
  },
  {
   "cell_type": "markdown",
   "id": "54e3fcbc",
   "metadata": {
    "papermill": {
     "duration": 0.021811,
     "end_time": "2023-05-05T05:27:35.487064",
     "exception": false,
     "start_time": "2023-05-05T05:27:35.465253",
     "status": "completed"
    },
    "tags": []
   },
   "source": [
    "`regex`\n",
    "- for int->'\\d+'\n",
    "- for float -> '\\d+[.]?\\d+'"
   ]
  },
  {
   "cell_type": "code",
   "execution_count": 32,
   "id": "a0457089",
   "metadata": {
    "execution": {
     "iopub.execute_input": "2023-05-05T05:27:35.532844Z",
     "iopub.status.busy": "2023-05-05T05:27:35.532415Z",
     "iopub.status.idle": "2023-05-05T05:27:35.539331Z",
     "shell.execute_reply": "2023-05-05T05:27:35.538541Z"
    },
    "papermill": {
     "duration": 0.032066,
     "end_time": "2023-05-05T05:27:35.541294",
     "exception": false,
     "start_time": "2023-05-05T05:27:35.509228",
     "status": "completed"
    },
    "tags": []
   },
   "outputs": [],
   "source": [
    "# pattern 1 int\"\n",
    "pattern1=re.compile('\\d+[.]?\\d+\" ?(?:inch|cm|mm|m)?')\n",
    "# pattern 2 int x int \n",
    "pattern2=re.compile('\\d+[.]?\\d+ ?x ?\\d+[.]?\\d+')\n",
    "# pattern3 int\" x int\" unit\n",
    "pattern3=re.compile('\\d+[.]?\\d+\"? ?x ?\\d+[.]?\\d+\"? ?(?:inch|cm|mm|m)?')\n",
    "# pattern4 int\" x int\" x int\" unit\n",
    "pattern4=re.compile('\\d+[.]?\\d+\"? ?x ?\\d+[.]?\\d+\"? ?x ?\\d+[.]?\\d+\"? ?(?:inch|cm|mm|m)?')\n",
    "# pattern5 int\" x int\" x int\" unit\n",
    "pattern5=re.compile('\\d+[.]?\\d+\"? ?.? ?x ?\\d+[.]?\\d+\"? ?.? ?x ?\\d+[.]?\\d+\"? ?.? ?(?:inch|cm|mm|m)?')\n",
    "# final pattern\n",
    "pattern6=re.compile('\\d+[.]?\\d+\"? ?.? ?[x*] ?\\d+[.]?\\d+\"? ?.? ?[x*] ?\\d+[.]?\\d+\"? ?.? ?(?:inch|cm|mm|m)?')"
   ]
  },
  {
   "cell_type": "code",
   "execution_count": 33,
   "id": "eda9580a",
   "metadata": {
    "execution": {
     "iopub.execute_input": "2023-05-05T05:27:35.587251Z",
     "iopub.status.busy": "2023-05-05T05:27:35.586509Z",
     "iopub.status.idle": "2023-05-05T05:27:35.590959Z",
     "shell.execute_reply": "2023-05-05T05:27:35.590188Z"
    },
    "papermill": {
     "duration": 0.029927,
     "end_time": "2023-05-05T05:27:35.593114",
     "exception": false,
     "start_time": "2023-05-05T05:27:35.563187",
     "status": "completed"
    },
    "tags": []
   },
   "outputs": [],
   "source": [
    "def test_pattern(txt):\n",
    "    pattern=re.compile('\\d+[.]?\\d*\"? ?(?:inch|cm|mm|m|feet)')\n",
    "    return pattern.findall(txt)"
   ]
  },
  {
   "cell_type": "code",
   "execution_count": 34,
   "id": "80dd7caf",
   "metadata": {
    "execution": {
     "iopub.execute_input": "2023-05-05T05:27:35.639220Z",
     "iopub.status.busy": "2023-05-05T05:27:35.638450Z",
     "iopub.status.idle": "2023-05-05T05:27:35.644797Z",
     "shell.execute_reply": "2023-05-05T05:27:35.643610Z"
    },
    "papermill": {
     "duration": 0.032316,
     "end_time": "2023-05-05T05:27:35.647187",
     "exception": false,
     "start_time": "2023-05-05T05:27:35.614871",
     "status": "completed"
    },
    "tags": []
   },
   "outputs": [
    {
     "data": {
      "text/plain": [
       "'marilyn monroe sketch art print individual - 12\" x 16\"'"
      ]
     },
     "execution_count": 34,
     "metadata": {},
     "output_type": "execute_result"
    }
   ],
   "source": [
    "txt=df.loc[1048396,'TITLE']\n",
    "txt"
   ]
  },
  {
   "cell_type": "code",
   "execution_count": 35,
   "id": "47274d69",
   "metadata": {
    "execution": {
     "iopub.execute_input": "2023-05-05T05:27:35.694235Z",
     "iopub.status.busy": "2023-05-05T05:27:35.693800Z",
     "iopub.status.idle": "2023-05-05T05:27:35.700824Z",
     "shell.execute_reply": "2023-05-05T05:27:35.699700Z"
    },
    "papermill": {
     "duration": 0.033236,
     "end_time": "2023-05-05T05:27:35.702935",
     "exception": false,
     "start_time": "2023-05-05T05:27:35.669699",
     "status": "completed"
    },
    "tags": []
   },
   "outputs": [
    {
     "data": {
      "text/plain": [
       "['4.5feet', '54inch', '5 feet', '60 inch']"
      ]
     },
     "execution_count": 35,
     "metadata": {},
     "output_type": "execute_result"
    }
   ],
   "source": [
    "txt='artzfolio tulip flowers blackout curtain for door, window and room | eyelets and tie back | canvas fabric | width 4.5feet (54inch) height 5 feet (60 inch), set of 2 pcs'\n",
    "test_pattern(txt)"
   ]
  },
  {
   "cell_type": "code",
   "execution_count": 36,
   "id": "7f843579",
   "metadata": {
    "execution": {
     "iopub.execute_input": "2023-05-05T05:27:35.749216Z",
     "iopub.status.busy": "2023-05-05T05:27:35.748827Z",
     "iopub.status.idle": "2023-05-05T05:27:35.755687Z",
     "shell.execute_reply": "2023-05-05T05:27:35.754606Z"
    },
    "papermill": {
     "duration": 0.032782,
     "end_time": "2023-05-05T05:27:35.757841",
     "exception": false,
     "start_time": "2023-05-05T05:27:35.725059",
     "status": "completed"
    },
    "tags": []
   },
   "outputs": [],
   "source": [
    "def extract_size(txt):\n",
    "    if type(txt)!=str:\n",
    "        return np.nan\n",
    "    # pattern 1 int\" x int\" x int\" unit\n",
    "    pattern1=re.compile('\\d+[.]?\\d*\"? ?.? ?[x*] ?\\d+[.]?\\d*\"? ?.? ?[x*] ?\\d+[.]?\\d*\"? ?.? ?(?:inch|cm|mm|m|feet)?')\n",
    "    l1=pattern1.findall(txt)\n",
    "    # pattern2 int\" x int\" unit\n",
    "    pattern2=re.compile('\\d+[.]?\\d*\"? ?.? ?[x*] ?\\d+[.]?\\d*\"? ?.? ?(?:inch|cm|mm|m|feet)?')\n",
    "    l2=pattern2.findall(txt)\n",
    "    # pattern 3 int\" unit\n",
    "    pattern3=re.compile('\\d+[.]?\\d*\" ?(?:inch|cm|mm|m|feet)?')\n",
    "    l3=pattern3.findall(txt)\n",
    "    # pattern 4 int\" unit\n",
    "    pattern4=re.compile('\\d+[.]?\\d*\"? ?(?:inch|cm|mm|m|feet)')\n",
    "    l4=pattern4.findall(txt)\n",
    "    if(len(l1)>0):\n",
    "        return l1\n",
    "    if(len(l2)>0):\n",
    "        return l2\n",
    "    if(len(l3)>0):\n",
    "        return l3\n",
    "    if(len(l4)>0):\n",
    "        return l4\n",
    "    return np.nan\n"
   ]
  },
  {
   "cell_type": "code",
   "execution_count": 37,
   "id": "3dff0f26",
   "metadata": {
    "execution": {
     "iopub.execute_input": "2023-05-05T05:27:35.804183Z",
     "iopub.status.busy": "2023-05-05T05:27:35.803776Z",
     "iopub.status.idle": "2023-05-05T05:28:14.877799Z",
     "shell.execute_reply": "2023-05-05T05:28:14.876512Z"
    },
    "papermill": {
     "duration": 39.100132,
     "end_time": "2023-05-05T05:28:14.880467",
     "exception": false,
     "start_time": "2023-05-05T05:27:35.780335",
     "status": "completed"
    },
    "tags": []
   },
   "outputs": [],
   "source": [
    "df['size_title']=df['TITLE'].apply(extract_size)"
   ]
  },
  {
   "cell_type": "code",
   "execution_count": 38,
   "id": "bba41c32",
   "metadata": {
    "execution": {
     "iopub.execute_input": "2023-05-05T05:28:14.926283Z",
     "iopub.status.busy": "2023-05-05T05:28:14.925901Z",
     "iopub.status.idle": "2023-05-05T05:29:41.197408Z",
     "shell.execute_reply": "2023-05-05T05:29:41.195925Z"
    },
    "papermill": {
     "duration": 86.298029,
     "end_time": "2023-05-05T05:29:41.200839",
     "exception": false,
     "start_time": "2023-05-05T05:28:14.902810",
     "status": "completed"
    },
    "tags": []
   },
   "outputs": [],
   "source": [
    "df['size_point']=df['BULLET_POINTS'].apply(extract_size)"
   ]
  },
  {
   "cell_type": "code",
   "execution_count": 39,
   "id": "cdfe4f83",
   "metadata": {
    "execution": {
     "iopub.execute_input": "2023-05-05T05:29:41.249186Z",
     "iopub.status.busy": "2023-05-05T05:29:41.248103Z",
     "iopub.status.idle": "2023-05-05T05:31:03.676080Z",
     "shell.execute_reply": "2023-05-05T05:31:03.674755Z"
    },
    "papermill": {
     "duration": 82.454716,
     "end_time": "2023-05-05T05:31:03.678764",
     "exception": false,
     "start_time": "2023-05-05T05:29:41.224048",
     "status": "completed"
    },
    "tags": []
   },
   "outputs": [],
   "source": [
    "df['size_description']=df['DESCRIPTION'].apply(extract_size)"
   ]
  },
  {
   "cell_type": "code",
   "execution_count": 40,
   "id": "d364f7c2",
   "metadata": {
    "execution": {
     "iopub.execute_input": "2023-05-05T05:31:03.726086Z",
     "iopub.status.busy": "2023-05-05T05:31:03.725707Z",
     "iopub.status.idle": "2023-05-05T05:31:03.732913Z",
     "shell.execute_reply": "2023-05-05T05:31:03.731861Z"
    },
    "papermill": {
     "duration": 0.033901,
     "end_time": "2023-05-05T05:31:03.735063",
     "exception": false,
     "start_time": "2023-05-05T05:31:03.701162",
     "status": "completed"
    },
    "tags": []
   },
   "outputs": [],
   "source": [
    "def measure(val):\n",
    "    category=set()\n",
    "    value=[]\n",
    "    for txt in val:\n",
    "        if type(txt)==str:\n",
    "            l=[]\n",
    "            if 'xs' in txt or 'extra small' in txt:\n",
    "                l.append(0)\n",
    "            if 'small' in txt:\n",
    "                l.append(1)\n",
    "            if 'medium' in txt:\n",
    "                l.append(2)\n",
    "            if 'large' in txt or 'big' in txt:\n",
    "                l.append(3)\n",
    "            if 'xl' in txt or 'extra large' in txt:\n",
    "                l.append(4)\n",
    "            if len(l)==1 :\n",
    "                category.add(l[0])\n",
    "                value.append(l[0])\n",
    "    if len(category)==1:\n",
    "        return value[0]\n",
    "    return np.nan"
   ]
  },
  {
   "cell_type": "code",
   "execution_count": 41,
   "id": "35bd12db",
   "metadata": {
    "execution": {
     "iopub.execute_input": "2023-05-05T05:31:03.781286Z",
     "iopub.status.busy": "2023-05-05T05:31:03.780872Z",
     "iopub.status.idle": "2023-05-05T05:31:34.449832Z",
     "shell.execute_reply": "2023-05-05T05:31:34.448557Z"
    },
    "papermill": {
     "duration": 30.695171,
     "end_time": "2023-05-05T05:31:34.452505",
     "exception": false,
     "start_time": "2023-05-05T05:31:03.757334",
     "status": "completed"
    },
    "tags": []
   },
   "outputs": [],
   "source": [
    "df['measure']=df[['TITLE','BULLET_POINTS','DESCRIPTION']].apply(measure,axis=1)"
   ]
  },
  {
   "cell_type": "markdown",
   "id": "d7065585",
   "metadata": {
    "papermill": {
     "duration": 0.021585,
     "end_time": "2023-05-05T05:31:34.496353",
     "exception": false,
     "start_time": "2023-05-05T05:31:34.474768",
     "status": "completed"
    },
    "tags": []
   },
   "source": [
    "## size analysis"
   ]
  },
  {
   "cell_type": "code",
   "execution_count": 42,
   "id": "cbed5ce9",
   "metadata": {
    "execution": {
     "iopub.execute_input": "2023-05-05T05:31:34.542985Z",
     "iopub.status.busy": "2023-05-05T05:31:34.542567Z",
     "iopub.status.idle": "2023-05-05T05:31:35.782778Z",
     "shell.execute_reply": "2023-05-05T05:31:35.781582Z"
    },
    "papermill": {
     "duration": 1.266756,
     "end_time": "2023-05-05T05:31:35.785170",
     "exception": false,
     "start_time": "2023-05-05T05:31:34.518414",
     "status": "completed"
    },
    "tags": []
   },
   "outputs": [
    {
     "data": {
      "text/plain": [
       "0.3599527581035321"
      ]
     },
     "execution_count": 42,
     "metadata": {},
     "output_type": "execute_result"
    }
   ],
   "source": [
    "(~df[['size_title','size_point','size_description']].isnull()).any(axis=1).sum()/df.shape[0]"
   ]
  },
  {
   "cell_type": "markdown",
   "id": "ddd75263",
   "metadata": {
    "papermill": {
     "duration": 0.02199,
     "end_time": "2023-05-05T05:31:35.829486",
     "exception": false,
     "start_time": "2023-05-05T05:31:35.807496",
     "status": "completed"
    },
    "tags": []
   },
   "source": [
    "## Feature Extraction from Text data"
   ]
  },
  {
   "cell_type": "code",
   "execution_count": 43,
   "id": "c94d567c",
   "metadata": {
    "execution": {
     "iopub.execute_input": "2023-05-05T05:31:35.875985Z",
     "iopub.status.busy": "2023-05-05T05:31:35.875622Z",
     "iopub.status.idle": "2023-05-05T05:31:36.995127Z",
     "shell.execute_reply": "2023-05-05T05:31:36.994067Z"
    },
    "papermill": {
     "duration": 1.145754,
     "end_time": "2023-05-05T05:31:36.997626",
     "exception": false,
     "start_time": "2023-05-05T05:31:35.851872",
     "status": "completed"
    },
    "tags": []
   },
   "outputs": [],
   "source": [
    "import re\n",
    "from sklearn.feature_extraction.text import ENGLISH_STOP_WORDS\n",
    "from nltk.corpus import stopwords\n",
    "from nltk import word_tokenize\n",
    "from nltk.stem import WordNetLemmatizer\n",
    "from string import punctuation, digits\n",
    "from collections import Counter\n",
    "from wordcloud import WordCloud\n",
    "from pprint import pprint \n",
    "from sklearn.feature_extraction.text import TfidfVectorizer\n",
    "import gensim\n",
    "import gensim.corpora as corpora\n",
    "from gensim.utils import simple_preprocess\n",
    "from gensim.models import CoherenceModel"
   ]
  },
  {
   "cell_type": "code",
   "execution_count": 44,
   "id": "22a91614",
   "metadata": {
    "execution": {
     "iopub.execute_input": "2023-05-05T05:31:37.043590Z",
     "iopub.status.busy": "2023-05-05T05:31:37.043240Z",
     "iopub.status.idle": "2023-05-05T05:31:37.055753Z",
     "shell.execute_reply": "2023-05-05T05:31:37.054699Z"
    },
    "papermill": {
     "duration": 0.038358,
     "end_time": "2023-05-05T05:31:37.058155",
     "exception": false,
     "start_time": "2023-05-05T05:31:37.019797",
     "status": "completed"
    },
    "tags": []
   },
   "outputs": [],
   "source": [
    "lemmatizer = WordNetLemmatizer()\n",
    "stop = set(stopwords.words('english'))\n",
    "stop = ENGLISH_STOP_WORDS.union(stop) # combine stop words from different sources\n",
    "game_word = stop.union([])"
   ]
  },
  {
   "cell_type": "code",
   "execution_count": 45,
   "id": "9999bdd0",
   "metadata": {
    "execution": {
     "iopub.execute_input": "2023-05-05T05:31:37.104351Z",
     "iopub.status.busy": "2023-05-05T05:31:37.103929Z",
     "iopub.status.idle": "2023-05-05T05:31:37.119338Z",
     "shell.execute_reply": "2023-05-05T05:31:37.118184Z"
    },
    "papermill": {
     "duration": 0.04125,
     "end_time": "2023-05-05T05:31:37.121587",
     "exception": false,
     "start_time": "2023-05-05T05:31:37.080337",
     "status": "completed"
    },
    "tags": []
   },
   "outputs": [],
   "source": [
    "# function for removing url from text\n",
    "def remove_url(text):\n",
    "    text = re.sub(r'''(?i)\\b((?:https?://|www\\d{0,3}[.]|[a-z0-9.\\-]+[.][a-z]{2,4}/)(?:[^\\s()<>]+|\\(([^\\s()<>]+|(\\([^\\s()<>]+\\)))*\\))+(?:\\(([^\\s()<>]+|(\\([^\\s()<>]+\\)))*\\)|[^\\s`!()\\[\\]{};:'\".,<>?«»“”‘’]))''', \n",
    "                  '', text)\n",
    "    return \" \".join(re.sub(\"([^0-9A-Za-z \\t])|(\\w+:\\/\\/\\S+)\", \"\", text).split())\n",
    "\n",
    "def remove_email(text):\n",
    "    return re.sub('\\S*@\\S*\\s?', '', text)\n",
    "\n",
    "def remove_brackets(text):\n",
    "    text=re.sub(r\"\\[([A-Za-z0-9_]+)\\]\",'',text)\n",
    "    text=re.sub(r\"\\(([A-Za-z0-9_]+)\\)\",'',text)\n",
    "    text=re.sub(r\"\\{([A-Za-z0-9_]+)\\}\",'',text)\n",
    "    return text\n",
    "\n",
    "# Function for expanding most common contractions\n",
    "def decontraction(phrase):\n",
    "    # general\n",
    "    phrase = re.sub(r\"n\\'t\", \" not\", phrase)\n",
    "    phrase = re.sub(r\"\\'t\", \" not\", phrase)\n",
    "    phrase = re.sub(r\"\\'re\", \" are\", phrase)\n",
    "    phrase = re.sub(r\"\\'s\", \" is\", phrase)\n",
    "    phrase = re.sub(r\"\\'d\", \" would\", phrase)\n",
    "    phrase = re.sub(r\"\\'ll\", \" will\", phrase)\n",
    "    phrase = re.sub(r\"\\'t\", \" not\", phrase)\n",
    "    phrase = re.sub(r\"\\'ve\", \" have\", phrase)\n",
    "    phrase = re.sub(r\"\\'m\", \" am\", phrase)\n",
    "    phrase = re.sub(r\"&\", \" and\", phrase)\n",
    "    phrase = re.sub(r\"in.\", \" inch\", phrase)\n",
    "    return phrase\n",
    "\n",
    "# remove punctuations\n",
    "def remove_punct(txt):\n",
    "    punc='!\"#$%\\'()*+-.<=>?@[\\\\]^_`{|}~'\n",
    "    txt=txt.translate(str.maketrans('','',punc))\n",
    "    return txt\n",
    "\n",
    "# remove stopwords\n",
    "def remove_stopwords(text):\n",
    "    return [word for word in word_tokenize(text) if word.lower() not in stop]\n",
    "\n",
    "def lemmatization(text):\n",
    "    return [lemmatizer.lemmatize(word.lower(), pos='n') for word in text]\n",
    "\n",
    "# remove only digits that are not joined to char (eg. 3d is not removed)\n",
    "def remove_digits(text):\n",
    "    return [word for word in text if not word.isdigit()]\n",
    "\n",
    "def keep_alpha(text):\n",
    "    return [word for word in text if word.isalpha()]\n",
    "\n",
    "def remove_escape_sequences(text):\n",
    "    text=text.replace(r\"\\n\",\"\")\n",
    "    text=text.replace(r\"\\t\",\"\")\n",
    "    text=text.replace(r\"\\r\",\"\")\n",
    "    return text\n",
    "\n",
    "def remove_emojize(txt):\n",
    "    emoji_pattern = re.compile(\"[\"\n",
    "        u\"\\U0001F600-\\U0001F64F\"  # emoticons\n",
    "        u\"\\U0001F300-\\U0001F5FF\"  # symbols & pictographs\n",
    "        u\"\\U0001F680-\\U0001F6FF\"  # transport & map symbols\n",
    "        u\"\\U0001F1E0-\\U0001F1FF\"  # flags (iOS)\n",
    "        u\"\\U00002702-\\U000027B0\"\n",
    "        u\"\\U000024C2-\\U0001F251\"\n",
    "                           \"]+\", flags=re.UNICODE)\n",
    "    return emoji_pattern.sub(r'', txt) # no emoji\n",
    "\n",
    "def remove_special(txt):\n",
    "    # remove trademark and registered \n",
    "    pattern2=re.compile(\"\\\\u00AE|\\\\u00a9|\\\\u2122\")\n",
    "    txt=pattern2.sub(r'',txt)\n",
    "    return txt\n",
    "\n",
    "def remove_html(txt):\n",
    "    pattern=re.compile('<.*?>')\n",
    "    return pattern.sub(r'',txt)"
   ]
  },
  {
   "cell_type": "code",
   "execution_count": 46,
   "id": "035ec902",
   "metadata": {
    "execution": {
     "iopub.execute_input": "2023-05-05T05:31:37.168453Z",
     "iopub.status.busy": "2023-05-05T05:31:37.168042Z",
     "iopub.status.idle": "2023-05-05T05:31:39.284151Z",
     "shell.execute_reply": "2023-05-05T05:31:39.282648Z"
    },
    "papermill": {
     "duration": 2.143764,
     "end_time": "2023-05-05T05:31:39.288192",
     "exception": false,
     "start_time": "2023-05-05T05:31:37.144428",
     "status": "completed"
    },
    "tags": []
   },
   "outputs": [
    {
     "name": "stdout",
     "output_type": "stream",
     "text": [
      "[nltk_data] Downloading package stopwords to /usr/share/nltk_data...\n",
      "[nltk_data]   Package stopwords is already up-to-date!\n",
      "[nltk_data] Downloading package wordnet to /usr/share/nltk_data...\n",
      "[nltk_data]   Package wordnet is already up-to-date!\n",
      "[nltk_data] Downloading package wordnet2022 to /usr/share/nltk_data...\n",
      "[nltk_data]   Unzipping corpora/wordnet2022.zip.\n"
     ]
    }
   ],
   "source": [
    "import nltk\n",
    "nltk.download('stopwords')\n",
    "nltk.download('wordnet')\n",
    "nltk.download('wordnet2022')\n",
    "# nlp = load('en_core_web_sm')\n",
    "\n",
    "! cp -rf /usr/share/nltk_data/corpora/wordnet2022 /usr/share/nltk_data/corpora/wordnet # temp fix for lookup error."
   ]
  },
  {
   "cell_type": "markdown",
   "id": "67d1df2d",
   "metadata": {
    "papermill": {
     "duration": 0.022031,
     "end_time": "2023-05-05T05:31:39.340358",
     "exception": false,
     "start_time": "2023-05-05T05:31:39.318327",
     "status": "completed"
    },
    "tags": []
   },
   "source": [
    "## TITLE col analysis"
   ]
  },
  {
   "cell_type": "code",
   "execution_count": 47,
   "id": "a5b5d527",
   "metadata": {
    "execution": {
     "iopub.execute_input": "2023-05-05T05:31:39.388108Z",
     "iopub.status.busy": "2023-05-05T05:31:39.387546Z",
     "iopub.status.idle": "2023-05-05T05:31:41.114495Z",
     "shell.execute_reply": "2023-05-05T05:31:41.113246Z"
    },
    "papermill": {
     "duration": 1.754427,
     "end_time": "2023-05-05T05:31:41.116989",
     "exception": false,
     "start_time": "2023-05-05T05:31:39.362562",
     "status": "completed"
    },
    "tags": []
   },
   "outputs": [
    {
     "data": {
      "text/html": [
       "<div>\n",
       "<style scoped>\n",
       "    .dataframe tbody tr th:only-of-type {\n",
       "        vertical-align: middle;\n",
       "    }\n",
       "\n",
       "    .dataframe tbody tr th {\n",
       "        vertical-align: top;\n",
       "    }\n",
       "\n",
       "    .dataframe thead th {\n",
       "        text-align: right;\n",
       "    }\n",
       "</style>\n",
       "<table border=\"1\" class=\"dataframe\">\n",
       "  <thead>\n",
       "    <tr style=\"text-align: right;\">\n",
       "      <th></th>\n",
       "      <th>PRODUCT_ID</th>\n",
       "      <th>TITLE</th>\n",
       "      <th>BULLET_POINTS</th>\n",
       "      <th>DESCRIPTION</th>\n",
       "      <th>PRODUCT_TYPE_ID</th>\n",
       "      <th>PRODUCT_LENGTH</th>\n",
       "      <th>size_title</th>\n",
       "      <th>size_point</th>\n",
       "      <th>size_description</th>\n",
       "      <th>measure</th>\n",
       "    </tr>\n",
       "  </thead>\n",
       "  <tbody>\n",
       "    <tr>\n",
       "      <th>104</th>\n",
       "      <td>2522159</td>\n",
       "      <td>trendy world colorblock round neck casual boys...</td>\n",
       "      <td>[care instruction : hand wash,wash care : norm...</td>\n",
       "      <td>this trendy world comfy and stylish sweater wi...</td>\n",
       "      <td>2697</td>\n",
       "      <td>196.850393</td>\n",
       "      <td>NaN</td>\n",
       "      <td>NaN</td>\n",
       "      <td>NaN</td>\n",
       "      <td>NaN</td>\n",
       "    </tr>\n",
       "    <tr>\n",
       "      <th>113</th>\n",
       "      <td>598129</td>\n",
       "      <td>barnaby rudge</td>\n",
       "      <td>NaN</td>\n",
       "      <td>NaN</td>\n",
       "      <td>110</td>\n",
       "      <td>600.000000</td>\n",
       "      <td>NaN</td>\n",
       "      <td>NaN</td>\n",
       "      <td>NaN</td>\n",
       "      <td>NaN</td>\n",
       "    </tr>\n",
       "    <tr>\n",
       "      <th>171</th>\n",
       "      <td>2155174</td>\n",
       "      <td>printed back cover for lenovo a7</td>\n",
       "      <td>[slim fitting one-piece clip-on-case,silicon c...</td>\n",
       "      <td>designer back case for lenovo a7, provides pro...</td>\n",
       "      <td>12064</td>\n",
       "      <td>393.700787</td>\n",
       "      <td>NaN</td>\n",
       "      <td>NaN</td>\n",
       "      <td>NaN</td>\n",
       "      <td>NaN</td>\n",
       "    </tr>\n",
       "    <tr>\n",
       "      <th>392</th>\n",
       "      <td>2884314</td>\n",
       "      <td>clogs for men | cool | stylish | trendy | ultr...</td>\n",
       "      <td>[incredibly light and easy to wear heel strap ...</td>\n",
       "      <td>a pair that elevates the sleek, fashion-athlet...</td>\n",
       "      <td>3243</td>\n",
       "      <td>1102.362204</td>\n",
       "      <td>NaN</td>\n",
       "      <td>NaN</td>\n",
       "      <td>NaN</td>\n",
       "      <td>NaN</td>\n",
       "    </tr>\n",
       "    <tr>\n",
       "      <th>418</th>\n",
       "      <td>1206546</td>\n",
       "      <td>dorman  engine coolant thermostat housing</td>\n",
       "      <td>[direct replacement for a proper fit every tim...</td>\n",
       "      <td>dorman  eng coolant thermostat hsg</td>\n",
       "      <td>7357</td>\n",
       "      <td>420.000000</td>\n",
       "      <td>NaN</td>\n",
       "      <td>NaN</td>\n",
       "      <td>NaN</td>\n",
       "      <td>NaN</td>\n",
       "    </tr>\n",
       "    <tr>\n",
       "      <th>...</th>\n",
       "      <td>...</td>\n",
       "      <td>...</td>\n",
       "      <td>...</td>\n",
       "      <td>...</td>\n",
       "      <td>...</td>\n",
       "      <td>...</td>\n",
       "      <td>...</td>\n",
       "      <td>...</td>\n",
       "      <td>...</td>\n",
       "      <td>...</td>\n",
       "    </tr>\n",
       "    <tr>\n",
       "      <th>2249532</th>\n",
       "      <td>477318</td>\n",
       "      <td>the german shepherd big book: all about the ge...</td>\n",
       "      <td>NaN</td>\n",
       "      <td>NaN</td>\n",
       "      <td>83</td>\n",
       "      <td>600.000000</td>\n",
       "      <td>NaN</td>\n",
       "      <td>NaN</td>\n",
       "      <td>NaN</td>\n",
       "      <td>3.0</td>\n",
       "    </tr>\n",
       "    <tr>\n",
       "      <th>2249551</th>\n",
       "      <td>2761482</td>\n",
       "      <td>yaiewey long cardigans for women, womens light...</td>\n",
       "      <td>[winter coats for women trench coats for women...</td>\n",
       "      <td>pullover womens hoodies plus size hoodies for ...</td>\n",
       "      <td>2991</td>\n",
       "      <td>590.551180</td>\n",
       "      <td>NaN</td>\n",
       "      <td>NaN</td>\n",
       "      <td>NaN</td>\n",
       "      <td>NaN</td>\n",
       "    </tr>\n",
       "    <tr>\n",
       "      <th>2249600</th>\n",
       "      <td>1346248</td>\n",
       "      <td>morning song</td>\n",
       "      <td>NaN</td>\n",
       "      <td>NaN</td>\n",
       "      <td>7</td>\n",
       "      <td>551.180000</td>\n",
       "      <td>NaN</td>\n",
       "      <td>NaN</td>\n",
       "      <td>NaN</td>\n",
       "      <td>NaN</td>\n",
       "    </tr>\n",
       "    <tr>\n",
       "      <th>2249648</th>\n",
       "      <td>586218</td>\n",
       "      <td>god is hand upon my life</td>\n",
       "      <td>NaN</td>\n",
       "      <td>NaN</td>\n",
       "      <td>10507</td>\n",
       "      <td>700.000000</td>\n",
       "      <td>NaN</td>\n",
       "      <td>NaN</td>\n",
       "      <td>NaN</td>\n",
       "      <td>NaN</td>\n",
       "    </tr>\n",
       "    <tr>\n",
       "      <th>2249678</th>\n",
       "      <td>2128588</td>\n",
       "      <td>back cover for meizu c9, meizu c9 pro</td>\n",
       "      <td>[slim fitting one-piece clip-on-case,silicon c...</td>\n",
       "      <td>designer back case for meizu c9, meizu c9 pro,...</td>\n",
       "      <td>12064</td>\n",
       "      <td>393.700787</td>\n",
       "      <td>NaN</td>\n",
       "      <td>NaN</td>\n",
       "      <td>NaN</td>\n",
       "      <td>NaN</td>\n",
       "    </tr>\n",
       "  </tbody>\n",
       "</table>\n",
       "<p>71321 rows × 10 columns</p>\n",
       "</div>"
      ],
      "text/plain": [
       "         PRODUCT_ID                                              TITLE  \\\n",
       "104         2522159  trendy world colorblock round neck casual boys...   \n",
       "113          598129                                      barnaby rudge   \n",
       "171         2155174                   printed back cover for lenovo a7   \n",
       "392         2884314  clogs for men | cool | stylish | trendy | ultr...   \n",
       "418         1206546          dorman  engine coolant thermostat housing   \n",
       "...             ...                                                ...   \n",
       "2249532      477318  the german shepherd big book: all about the ge...   \n",
       "2249551     2761482  yaiewey long cardigans for women, womens light...   \n",
       "2249600     1346248                                       morning song   \n",
       "2249648      586218                           god is hand upon my life   \n",
       "2249678     2128588              back cover for meizu c9, meizu c9 pro   \n",
       "\n",
       "                                             BULLET_POINTS  \\\n",
       "104      [care instruction : hand wash,wash care : norm...   \n",
       "113                                                    NaN   \n",
       "171      [slim fitting one-piece clip-on-case,silicon c...   \n",
       "392      [incredibly light and easy to wear heel strap ...   \n",
       "418      [direct replacement for a proper fit every tim...   \n",
       "...                                                    ...   \n",
       "2249532                                                NaN   \n",
       "2249551  [winter coats for women trench coats for women...   \n",
       "2249600                                                NaN   \n",
       "2249648                                                NaN   \n",
       "2249678  [slim fitting one-piece clip-on-case,silicon c...   \n",
       "\n",
       "                                               DESCRIPTION PRODUCT_TYPE_ID  \\\n",
       "104      this trendy world comfy and stylish sweater wi...            2697   \n",
       "113                                                    NaN             110   \n",
       "171      designer back case for lenovo a7, provides pro...           12064   \n",
       "392      a pair that elevates the sleek, fashion-athlet...            3243   \n",
       "418                     dorman  eng coolant thermostat hsg            7357   \n",
       "...                                                    ...             ...   \n",
       "2249532                                                NaN              83   \n",
       "2249551  pullover womens hoodies plus size hoodies for ...            2991   \n",
       "2249600                                                NaN               7   \n",
       "2249648                                                NaN           10507   \n",
       "2249678  designer back case for meizu c9, meizu c9 pro,...           12064   \n",
       "\n",
       "         PRODUCT_LENGTH size_title size_point size_description  measure  \n",
       "104          196.850393        NaN        NaN              NaN      NaN  \n",
       "113          600.000000        NaN        NaN              NaN      NaN  \n",
       "171          393.700787        NaN        NaN              NaN      NaN  \n",
       "392         1102.362204        NaN        NaN              NaN      NaN  \n",
       "418          420.000000        NaN        NaN              NaN      NaN  \n",
       "...                 ...        ...        ...              ...      ...  \n",
       "2249532      600.000000        NaN        NaN              NaN      3.0  \n",
       "2249551      590.551180        NaN        NaN              NaN      NaN  \n",
       "2249600      551.180000        NaN        NaN              NaN      NaN  \n",
       "2249648      700.000000        NaN        NaN              NaN      NaN  \n",
       "2249678      393.700787        NaN        NaN              NaN      NaN  \n",
       "\n",
       "[71321 rows x 10 columns]"
      ]
     },
     "execution_count": 47,
     "metadata": {},
     "output_type": "execute_result"
    }
   ],
   "source": [
    "df[df['TITLE'].duplicated(keep=False)]"
   ]
  },
  {
   "cell_type": "code",
   "execution_count": 48,
   "id": "408a4f20",
   "metadata": {
    "execution": {
     "iopub.execute_input": "2023-05-05T05:31:41.166237Z",
     "iopub.status.busy": "2023-05-05T05:31:41.164970Z",
     "iopub.status.idle": "2023-05-05T05:31:41.330183Z",
     "shell.execute_reply": "2023-05-05T05:31:41.328942Z"
    },
    "papermill": {
     "duration": 0.191765,
     "end_time": "2023-05-05T05:31:41.332576",
     "exception": false,
     "start_time": "2023-05-05T05:31:41.140811",
     "status": "completed"
    },
    "tags": []
   },
   "outputs": [
    {
     "data": {
      "text/html": [
       "<div>\n",
       "<style scoped>\n",
       "    .dataframe tbody tr th:only-of-type {\n",
       "        vertical-align: middle;\n",
       "    }\n",
       "\n",
       "    .dataframe tbody tr th {\n",
       "        vertical-align: top;\n",
       "    }\n",
       "\n",
       "    .dataframe thead th {\n",
       "        text-align: right;\n",
       "    }\n",
       "</style>\n",
       "<table border=\"1\" class=\"dataframe\">\n",
       "  <thead>\n",
       "    <tr style=\"text-align: right;\">\n",
       "      <th></th>\n",
       "      <th>PRODUCT_ID</th>\n",
       "      <th>TITLE</th>\n",
       "      <th>BULLET_POINTS</th>\n",
       "      <th>DESCRIPTION</th>\n",
       "      <th>PRODUCT_TYPE_ID</th>\n",
       "      <th>PRODUCT_LENGTH</th>\n",
       "      <th>size_title</th>\n",
       "      <th>size_point</th>\n",
       "      <th>size_description</th>\n",
       "      <th>measure</th>\n",
       "    </tr>\n",
       "  </thead>\n",
       "  <tbody>\n",
       "  </tbody>\n",
       "</table>\n",
       "</div>"
      ],
      "text/plain": [
       "Empty DataFrame\n",
       "Columns: [PRODUCT_ID, TITLE, BULLET_POINTS, DESCRIPTION, PRODUCT_TYPE_ID, PRODUCT_LENGTH, size_title, size_point, size_description, measure]\n",
       "Index: []"
      ]
     },
     "execution_count": 48,
     "metadata": {},
     "output_type": "execute_result"
    }
   ],
   "source": [
    "df[df['TITLE']=='Honey']"
   ]
  },
  {
   "cell_type": "markdown",
   "id": "86195d97",
   "metadata": {
    "papermill": {
     "duration": 0.02287,
     "end_time": "2023-05-05T05:31:41.378604",
     "exception": false,
     "start_time": "2023-05-05T05:31:41.355734",
     "status": "completed"
    },
    "tags": []
   },
   "source": [
    "`same product have diffrent product lenght and product_type_id`"
   ]
  },
  {
   "cell_type": "code",
   "execution_count": 49,
   "id": "f374ccb6",
   "metadata": {
    "execution": {
     "iopub.execute_input": "2023-05-05T05:31:41.426136Z",
     "iopub.status.busy": "2023-05-05T05:31:41.425679Z",
     "iopub.status.idle": "2023-05-05T05:31:42.361182Z",
     "shell.execute_reply": "2023-05-05T05:31:42.359904Z"
    },
    "papermill": {
     "duration": 0.962309,
     "end_time": "2023-05-05T05:31:42.363680",
     "exception": false,
     "start_time": "2023-05-05T05:31:41.401371",
     "status": "completed"
    },
    "tags": []
   },
   "outputs": [
    {
     "data": {
      "text/plain": [
       "count    2.249686e+06\n",
       "mean     8.674493e+01\n",
       "std      4.909457e+01\n",
       "min      0.000000e+00\n",
       "25%      5.000000e+01\n",
       "50%      7.800000e+01\n",
       "75%      1.170000e+02\n",
       "max      5.030000e+02\n",
       "Name: TITLE, dtype: float64"
      ]
     },
     "execution_count": 49,
     "metadata": {},
     "output_type": "execute_result"
    }
   ],
   "source": [
    "df['TITLE'].str.len().describe()"
   ]
  },
  {
   "cell_type": "code",
   "execution_count": 50,
   "id": "7a53fb47",
   "metadata": {
    "execution": {
     "iopub.execute_input": "2023-05-05T05:31:42.412337Z",
     "iopub.status.busy": "2023-05-05T05:31:42.411646Z",
     "iopub.status.idle": "2023-05-05T05:31:42.521884Z",
     "shell.execute_reply": "2023-05-05T05:31:42.520711Z"
    },
    "papermill": {
     "duration": 0.137129,
     "end_time": "2023-05-05T05:31:42.524472",
     "exception": false,
     "start_time": "2023-05-05T05:31:42.387343",
     "status": "completed"
    },
    "tags": []
   },
   "outputs": [],
   "source": [
    "df_title=df[['PRODUCT_ID','TITLE']].copy()"
   ]
  },
  {
   "cell_type": "code",
   "execution_count": 51,
   "id": "65a0ced2",
   "metadata": {
    "execution": {
     "iopub.execute_input": "2023-05-05T05:31:42.572831Z",
     "iopub.status.busy": "2023-05-05T05:31:42.572255Z",
     "iopub.status.idle": "2023-05-05T05:31:43.632366Z",
     "shell.execute_reply": "2023-05-05T05:31:43.631233Z"
    },
    "papermill": {
     "duration": 1.087074,
     "end_time": "2023-05-05T05:31:43.634994",
     "exception": false,
     "start_time": "2023-05-05T05:31:42.547920",
     "status": "completed"
    },
    "tags": []
   },
   "outputs": [],
   "source": [
    "df_title['TITLE']=df_title['TITLE'].str.lower()"
   ]
  },
  {
   "cell_type": "markdown",
   "id": "b29ddf10",
   "metadata": {
    "papermill": {
     "duration": 0.022895,
     "end_time": "2023-05-05T05:31:43.681058",
     "exception": false,
     "start_time": "2023-05-05T05:31:43.658163",
     "status": "completed"
    },
    "tags": []
   },
   "source": [
    "- `error while assuming title to be string as it contain null value`"
   ]
  },
  {
   "cell_type": "code",
   "execution_count": 52,
   "id": "e8eefff7",
   "metadata": {
    "execution": {
     "iopub.execute_input": "2023-05-05T05:31:43.729986Z",
     "iopub.status.busy": "2023-05-05T05:31:43.729544Z",
     "iopub.status.idle": "2023-05-05T05:31:43.735532Z",
     "shell.execute_reply": "2023-05-05T05:31:43.734465Z"
    },
    "papermill": {
     "duration": 0.033164,
     "end_time": "2023-05-05T05:31:43.737859",
     "exception": false,
     "start_time": "2023-05-05T05:31:43.704695",
     "status": "completed"
    },
    "tags": []
   },
   "outputs": [],
   "source": [
    "def title_bracket(s):\n",
    "    s=str(s)\n",
    "    # s=s.lower()\n",
    "    pattern=re.compile(\"[\\[({].*?[})\\]]\")\n",
    "    l=pattern.findall(s)\n",
    "    if(len(l)):\n",
    "        ans=\"\"\n",
    "        for i in l:\n",
    "            ans=ans+\" \"+i[1:-2]\n",
    "        return ans\n",
    "    return np.nan"
   ]
  },
  {
   "cell_type": "code",
   "execution_count": 53,
   "id": "10084c6c",
   "metadata": {
    "execution": {
     "iopub.execute_input": "2023-05-05T05:31:43.785735Z",
     "iopub.status.busy": "2023-05-05T05:31:43.785369Z",
     "iopub.status.idle": "2023-05-05T05:31:48.552650Z",
     "shell.execute_reply": "2023-05-05T05:31:48.551523Z"
    },
    "papermill": {
     "duration": 4.794138,
     "end_time": "2023-05-05T05:31:48.555125",
     "exception": false,
     "start_time": "2023-05-05T05:31:43.760987",
     "status": "completed"
    },
    "tags": []
   },
   "outputs": [],
   "source": [
    "df_title['bracket']=df_title['TITLE'].apply(title_bracket)"
   ]
  },
  {
   "cell_type": "code",
   "execution_count": 54,
   "id": "6fc5ce9d",
   "metadata": {
    "execution": {
     "iopub.execute_input": "2023-05-05T05:31:48.604525Z",
     "iopub.status.busy": "2023-05-05T05:31:48.604135Z",
     "iopub.status.idle": "2023-05-05T05:31:48.610571Z",
     "shell.execute_reply": "2023-05-05T05:31:48.609344Z"
    },
    "papermill": {
     "duration": 0.033716,
     "end_time": "2023-05-05T05:31:48.612867",
     "exception": false,
     "start_time": "2023-05-05T05:31:48.579151",
     "status": "completed"
    },
    "tags": []
   },
   "outputs": [],
   "source": [
    "def title_transform(txt):\n",
    "    txt=str(txt)\n",
    "    # remove data of bracket\n",
    "    pattern1=re.compile(\"[\\[({].*?[})\\]]\")\n",
    "    txt=pattern1.sub(r'',txt)\n",
    "    # # remove trademark and registered \n",
    "    # pattern2=re.compile(\"\\\\u00AE|\\\\u00a9|\\\\u2122\")\n",
    "    # txt=pattern2.sub(r'',txt)\n",
    "    # remove punctuations\n",
    "    punc='!\"#$%\\'()*+-.<=>?@[\\\\]^_`{|}~'\n",
    "    txt=txt.translate(str.maketrans('','',punc))\n",
    "    # # replace & with and\n",
    "    # txt = re.sub(r\"&\", \" and\", txt)\n",
    "    # split string\n",
    "    return re.split(\"[||,/]\", txt)"
   ]
  },
  {
   "cell_type": "code",
   "execution_count": 55,
   "id": "acbad4be",
   "metadata": {
    "execution": {
     "iopub.execute_input": "2023-05-05T05:31:48.660667Z",
     "iopub.status.busy": "2023-05-05T05:31:48.660301Z",
     "iopub.status.idle": "2023-05-05T05:31:48.795071Z",
     "shell.execute_reply": "2023-05-05T05:31:48.793800Z"
    },
    "papermill": {
     "duration": 0.161709,
     "end_time": "2023-05-05T05:31:48.797716",
     "exception": false,
     "start_time": "2023-05-05T05:31:48.636007",
     "status": "completed"
    },
    "tags": []
   },
   "outputs": [],
   "source": [
    "df_title['TITLE'].fillna(\"missing title\",inplace=True)"
   ]
  },
  {
   "cell_type": "code",
   "execution_count": 56,
   "id": "ac991d22",
   "metadata": {
    "execution": {
     "iopub.execute_input": "2023-05-05T05:31:48.845485Z",
     "iopub.status.busy": "2023-05-05T05:31:48.845080Z",
     "iopub.status.idle": "2023-05-05T05:31:48.875641Z",
     "shell.execute_reply": "2023-05-05T05:31:48.874823Z"
    },
    "papermill": {
     "duration": 0.056762,
     "end_time": "2023-05-05T05:31:48.877461",
     "exception": false,
     "start_time": "2023-05-05T05:31:48.820699",
     "status": "completed"
    },
    "tags": []
   },
   "outputs": [],
   "source": [
    "def title_transform(txt):\n",
    "    txt=str(txt)\n",
    "    # remove data of bracket\n",
    "    pattern1=re.compile(\"[\\[({].*?[})\\]]\")\n",
    "    txt=pattern1.sub(r'',txt)\n",
    "    # remove punctuations\n",
    "    punc='!\"#$%\\'()*+-.<=>?@[\\\\]^_`{|}~'\n",
    "    txt=txt.translate(str.maketrans('','',punc))\n",
    "    # split string\n",
    "    l=re.split(\"[||,/]\", txt)\n",
    "    value=[]\n",
    "    for text in l:\n",
    "        text=remove_stopwords(text)\n",
    "        text=lemmatization(text)\n",
    "        text=keep_alpha(text)\n",
    "        value.extend(text)\n",
    "    return value\n",
    "    "
   ]
  },
  {
   "cell_type": "code",
   "execution_count": 57,
   "id": "725b282c",
   "metadata": {
    "execution": {
     "iopub.execute_input": "2023-05-05T05:31:48.925801Z",
     "iopub.status.busy": "2023-05-05T05:31:48.924708Z",
     "iopub.status.idle": "2023-05-05T05:32:19.978935Z",
     "shell.execute_reply": "2023-05-05T05:32:19.977750Z"
    },
    "papermill": {
     "duration": 31.081231,
     "end_time": "2023-05-05T05:32:19.981645",
     "exception": false,
     "start_time": "2023-05-05T05:31:48.900414",
     "status": "completed"
    },
    "tags": []
   },
   "outputs": [],
   "source": [
    "from collections import Counter\n",
    "from itertools import chain\n",
    "\n",
    "# split words into lists\n",
    "v = df_title['TITLE'].str.split().tolist()\n",
    "# compute global word frequency\n",
    "c = Counter(chain.from_iterable(v))\n",
    "# filter, join, and re-assign\n",
    "df_title['split_TITLE']=[' '.join([j for j in i if c[j] > 3]) for i in v]"
   ]
  },
  {
   "cell_type": "code",
   "execution_count": 58,
   "id": "d4ae8ba8",
   "metadata": {
    "execution": {
     "iopub.execute_input": "2023-05-05T05:32:20.029636Z",
     "iopub.status.busy": "2023-05-05T05:32:20.028965Z",
     "iopub.status.idle": "2023-05-05T05:32:20.038009Z",
     "shell.execute_reply": "2023-05-05T05:32:20.036932Z"
    },
    "papermill": {
     "duration": 0.03561,
     "end_time": "2023-05-05T05:32:20.040491",
     "exception": false,
     "start_time": "2023-05-05T05:32:20.004881",
     "status": "completed"
    },
    "tags": []
   },
   "outputs": [
    {
     "data": {
      "text/plain": [
       "0          artzfolio tulip flowers blackout curtain for d...\n",
       "1                       marks and spencer girls' pyjama sets\n",
       "2          priknik horn red electric air horn compressor ...\n",
       "3          alishah women is cotton ankle length leggings ...\n",
       "4          the united empire loyalists: a chronicle of th...\n",
       "                                 ...                        \n",
       "2249693    nike women is as w ny df swsh hn kh bra smoke ...\n",
       "2249694    (3pcs) goose game cute cartoon enamel pins, fu...\n",
       "2249695    kangroo sweep movement printed wooden wall clo...\n",
       "2249696         electro voice | wall mount bracket for black\n",
       "2249697    skyjacker component box for 4 inch lift incl. ...\n",
       "Name: split_TITLE, Length: 2249698, dtype: object"
      ]
     },
     "execution_count": 58,
     "metadata": {},
     "output_type": "execute_result"
    }
   ],
   "source": [
    "df_title['split_TITLE']"
   ]
  },
  {
   "cell_type": "code",
   "execution_count": 59,
   "id": "c294a0f3",
   "metadata": {
    "execution": {
     "iopub.execute_input": "2023-05-05T05:32:20.089856Z",
     "iopub.status.busy": "2023-05-05T05:32:20.089456Z",
     "iopub.status.idle": "2023-05-05T05:42:01.567710Z",
     "shell.execute_reply": "2023-05-05T05:42:01.566576Z"
    },
    "papermill": {
     "duration": 581.528837,
     "end_time": "2023-05-05T05:42:01.592732",
     "exception": false,
     "start_time": "2023-05-05T05:32:20.063895",
     "status": "completed"
    },
    "tags": []
   },
   "outputs": [
    {
     "data": {
      "text/plain": [
       "0          [artzfolio, tulip, flower, blackout, curtain, ...\n",
       "1                         [mark, spencer, girl, pyjama, set]\n",
       "2          [priknik, horn, red, electric, air, horn, comp...\n",
       "3          [alishah, woman, cotton, ankle, length, leggin...\n",
       "4          [united, empire, loyalist, chronicle, great, m...\n",
       "                                 ...                        \n",
       "2249693    [nike, woman, w, ny, df, swsh, hn, kh, bra, sm...\n",
       "2249694    [goose, game, cute, cartoon, enamel, pin, funn...\n",
       "2249695    [kangroo, sweep, movement, printed, wooden, wa...\n",
       "2249696        [electro, voice, wall, mount, bracket, black]\n",
       "2249697    [skyjacker, component, box, inch, lift, incl, ...\n",
       "Name: split_TITLE, Length: 2249698, dtype: object"
      ]
     },
     "execution_count": 59,
     "metadata": {},
     "output_type": "execute_result"
    }
   ],
   "source": [
    "s=df_title['split_TITLE'].apply(title_transform)\n",
    "s"
   ]
  },
  {
   "cell_type": "code",
   "execution_count": 60,
   "id": "d7918345",
   "metadata": {
    "execution": {
     "iopub.execute_input": "2023-05-05T05:42:01.640577Z",
     "iopub.status.busy": "2023-05-05T05:42:01.640190Z",
     "iopub.status.idle": "2023-05-05T05:42:01.685647Z",
     "shell.execute_reply": "2023-05-05T05:42:01.684734Z"
    },
    "papermill": {
     "duration": 0.072395,
     "end_time": "2023-05-05T05:42:01.687996",
     "exception": false,
     "start_time": "2023-05-05T05:42:01.615601",
     "status": "completed"
    },
    "tags": []
   },
   "outputs": [],
   "source": [
    "df_title['split_TITLE']=s\n",
    "del s"
   ]
  },
  {
   "cell_type": "code",
   "execution_count": 61,
   "id": "f1a9089e",
   "metadata": {
    "execution": {
     "iopub.execute_input": "2023-05-05T05:42:01.738542Z",
     "iopub.status.busy": "2023-05-05T05:42:01.737942Z",
     "iopub.status.idle": "2023-05-05T05:42:01.835379Z",
     "shell.execute_reply": "2023-05-05T05:42:01.834339Z"
    },
    "papermill": {
     "duration": 0.125112,
     "end_time": "2023-05-05T05:42:01.837551",
     "exception": false,
     "start_time": "2023-05-05T05:42:01.712439",
     "status": "completed"
    },
    "tags": []
   },
   "outputs": [
    {
     "data": {
      "text/plain": [
       "771025"
      ]
     },
     "execution_count": 61,
     "metadata": {},
     "output_type": "execute_result"
    }
   ],
   "source": [
    "df.shape[0]-df_title['bracket'].isnull().sum()"
   ]
  },
  {
   "cell_type": "markdown",
   "id": "edf48c57",
   "metadata": {
    "papermill": {
     "duration": 0.022764,
     "end_time": "2023-05-05T05:42:01.883557",
     "exception": false,
     "start_time": "2023-05-05T05:42:01.860793",
     "status": "completed"
    },
    "tags": []
   },
   "source": [
    "## Bullet_points"
   ]
  },
  {
   "cell_type": "code",
   "execution_count": 62,
   "id": "6b6c7c1b",
   "metadata": {
    "execution": {
     "iopub.execute_input": "2023-05-05T05:42:01.931948Z",
     "iopub.status.busy": "2023-05-05T05:42:01.931548Z",
     "iopub.status.idle": "2023-05-05T05:42:01.942438Z",
     "shell.execute_reply": "2023-05-05T05:42:01.941543Z"
    },
    "papermill": {
     "duration": 0.03844,
     "end_time": "2023-05-05T05:42:01.945170",
     "exception": false,
     "start_time": "2023-05-05T05:42:01.906730",
     "status": "completed"
    },
    "tags": []
   },
   "outputs": [
    {
     "name": "stdout",
     "output_type": "stream",
     "text": [
      "<class 'pandas.core.frame.DataFrame'>\n",
      "RangeIndex: 2249698 entries, 0 to 2249697\n",
      "Data columns (total 10 columns):\n",
      " #   Column            Dtype   \n",
      "---  ------            -----   \n",
      " 0   PRODUCT_ID        int32   \n",
      " 1   TITLE             object  \n",
      " 2   BULLET_POINTS     object  \n",
      " 3   DESCRIPTION       object  \n",
      " 4   PRODUCT_TYPE_ID   category\n",
      " 5   PRODUCT_LENGTH    float64 \n",
      " 6   size_title        object  \n",
      " 7   size_point        object  \n",
      " 8   size_description  object  \n",
      " 9   measure           float64 \n",
      "dtypes: category(1), float64(2), int32(1), object(6)\n",
      "memory usage: 150.8+ MB\n"
     ]
    }
   ],
   "source": [
    "df.info()"
   ]
  },
  {
   "cell_type": "code",
   "execution_count": 63,
   "id": "92149e86",
   "metadata": {
    "execution": {
     "iopub.execute_input": "2023-05-05T05:42:01.994818Z",
     "iopub.status.busy": "2023-05-05T05:42:01.993141Z",
     "iopub.status.idle": "2023-05-05T05:42:02.453694Z",
     "shell.execute_reply": "2023-05-05T05:42:02.452529Z"
    },
    "papermill": {
     "duration": 0.487757,
     "end_time": "2023-05-05T05:42:02.456233",
     "exception": false,
     "start_time": "2023-05-05T05:42:01.968476",
     "status": "completed"
    },
    "tags": []
   },
   "outputs": [],
   "source": [
    "df_points=df[['PRODUCT_ID','BULLET_POINTS']].copy()"
   ]
  },
  {
   "cell_type": "code",
   "execution_count": 64,
   "id": "229fb601",
   "metadata": {
    "execution": {
     "iopub.execute_input": "2023-05-05T05:42:02.504931Z",
     "iopub.status.busy": "2023-05-05T05:42:02.504547Z",
     "iopub.status.idle": "2023-05-05T05:42:11.126734Z",
     "shell.execute_reply": "2023-05-05T05:42:11.125616Z"
    },
    "papermill": {
     "duration": 8.649517,
     "end_time": "2023-05-05T05:42:11.129329",
     "exception": false,
     "start_time": "2023-05-05T05:42:02.479812",
     "status": "completed"
    },
    "tags": []
   },
   "outputs": [],
   "source": [
    "# as BULLET_POINTS column contain missing values\n",
    "def evaluate(txt): \n",
    "    if type(txt) ==str :\n",
    "        return txt.strip('[]').split(',')   \n",
    "    else:\n",
    "        return np.nan\n",
    "df_points['BULLET_POINTS']=df_points['BULLET_POINTS'].apply(evaluate)"
   ]
  },
  {
   "cell_type": "code",
   "execution_count": 65,
   "id": "a46db71a",
   "metadata": {
    "execution": {
     "iopub.execute_input": "2023-05-05T05:42:11.179274Z",
     "iopub.status.busy": "2023-05-05T05:42:11.178339Z",
     "iopub.status.idle": "2023-05-05T05:42:11.191843Z",
     "shell.execute_reply": "2023-05-05T05:42:11.190909Z"
    },
    "papermill": {
     "duration": 0.040719,
     "end_time": "2023-05-05T05:42:11.194088",
     "exception": false,
     "start_time": "2023-05-05T05:42:11.153369",
     "status": "completed"
    },
    "tags": []
   },
   "outputs": [
    {
     "data": {
      "text/html": [
       "<div>\n",
       "<style scoped>\n",
       "    .dataframe tbody tr th:only-of-type {\n",
       "        vertical-align: middle;\n",
       "    }\n",
       "\n",
       "    .dataframe tbody tr th {\n",
       "        vertical-align: top;\n",
       "    }\n",
       "\n",
       "    .dataframe thead th {\n",
       "        text-align: right;\n",
       "    }\n",
       "</style>\n",
       "<table border=\"1\" class=\"dataframe\">\n",
       "  <thead>\n",
       "    <tr style=\"text-align: right;\">\n",
       "      <th></th>\n",
       "      <th>PRODUCT_ID</th>\n",
       "      <th>BULLET_POINTS</th>\n",
       "    </tr>\n",
       "  </thead>\n",
       "  <tbody>\n",
       "    <tr>\n",
       "      <th>0</th>\n",
       "      <td>1925202</td>\n",
       "      <td>[luxurious and appealing: beautiful custom-mad...</td>\n",
       "    </tr>\n",
       "    <tr>\n",
       "      <th>1</th>\n",
       "      <td>2673191</td>\n",
       "      <td>[harry potter hedwig pyjamas (6-16 yrs), 100% ...</td>\n",
       "    </tr>\n",
       "    <tr>\n",
       "      <th>2</th>\n",
       "      <td>2765088</td>\n",
       "      <td>[loud dual tone trumpet horn,  compatible with...</td>\n",
       "    </tr>\n",
       "    <tr>\n",
       "      <th>3</th>\n",
       "      <td>1594019</td>\n",
       "      <td>[made by 95%cotton and 5% lycra which gives yo...</td>\n",
       "    </tr>\n",
       "    <tr>\n",
       "      <th>4</th>\n",
       "      <td>283658</td>\n",
       "      <td>NaN</td>\n",
       "    </tr>\n",
       "    <tr>\n",
       "      <th>...</th>\n",
       "      <td>...</td>\n",
       "      <td>...</td>\n",
       "    </tr>\n",
       "    <tr>\n",
       "      <th>2249693</th>\n",
       "      <td>2422167</td>\n",
       "      <td>[material : polyester]</td>\n",
       "    </tr>\n",
       "    <tr>\n",
       "      <th>2249694</th>\n",
       "      <td>2766635</td>\n",
       "      <td>[ [inspiration] inspired by the untitled goose...</td>\n",
       "    </tr>\n",
       "    <tr>\n",
       "      <th>2249695</th>\n",
       "      <td>1987786</td>\n",
       "      <td>[dial size: 12 inch in diameter, big,  clear r...</td>\n",
       "    </tr>\n",
       "    <tr>\n",
       "      <th>2249696</th>\n",
       "      <td>1165754</td>\n",
       "      <td>NaN</td>\n",
       "    </tr>\n",
       "    <tr>\n",
       "      <th>2249697</th>\n",
       "      <td>1072666</td>\n",
       "      <td>[component box for pn[c7360pk], 4 inch lift, i...</td>\n",
       "    </tr>\n",
       "  </tbody>\n",
       "</table>\n",
       "<p>2249698 rows × 2 columns</p>\n",
       "</div>"
      ],
      "text/plain": [
       "         PRODUCT_ID                                      BULLET_POINTS\n",
       "0           1925202  [luxurious and appealing: beautiful custom-mad...\n",
       "1           2673191  [harry potter hedwig pyjamas (6-16 yrs), 100% ...\n",
       "2           2765088  [loud dual tone trumpet horn,  compatible with...\n",
       "3           1594019  [made by 95%cotton and 5% lycra which gives yo...\n",
       "4            283658                                                NaN\n",
       "...             ...                                                ...\n",
       "2249693     2422167                             [material : polyester]\n",
       "2249694     2766635  [ [inspiration] inspired by the untitled goose...\n",
       "2249695     1987786  [dial size: 12 inch in diameter, big,  clear r...\n",
       "2249696     1165754                                                NaN\n",
       "2249697     1072666  [component box for pn[c7360pk], 4 inch lift, i...\n",
       "\n",
       "[2249698 rows x 2 columns]"
      ]
     },
     "execution_count": 65,
     "metadata": {},
     "output_type": "execute_result"
    }
   ],
   "source": [
    "df_points"
   ]
  },
  {
   "cell_type": "code",
   "execution_count": 66,
   "id": "4668d6c3",
   "metadata": {
    "execution": {
     "iopub.execute_input": "2023-05-05T05:42:11.243531Z",
     "iopub.status.busy": "2023-05-05T05:42:11.242588Z",
     "iopub.status.idle": "2023-05-05T05:42:11.248948Z",
     "shell.execute_reply": "2023-05-05T05:42:11.248139Z"
    },
    "papermill": {
     "duration": 0.033409,
     "end_time": "2023-05-05T05:42:11.251050",
     "exception": false,
     "start_time": "2023-05-05T05:42:11.217641",
     "status": "completed"
    },
    "tags": []
   },
   "outputs": [],
   "source": [
    "def point_transfrom(l):\n",
    "    if type(l)==list:\n",
    "        value=[]\n",
    "        for txt in l:\n",
    "            txt=txt.lower()\n",
    "            txt=remove_emojize(txt)\n",
    "            txt=remove_brackets(txt)\n",
    "            txt=remove_html(txt)\n",
    "            txt=remove_url(txt)\n",
    "            txt=remove_email(txt)\n",
    "            txt=decontraction(txt)\n",
    "            txt=remove_special(txt)\n",
    "            txt=remove_escape_sequences(txt)\n",
    "            txt=remove_punct(txt)\n",
    "            value.append(txt)\n",
    "        return value\n",
    "    return np.nan"
   ]
  },
  {
   "cell_type": "code",
   "execution_count": 67,
   "id": "e260f336",
   "metadata": {
    "execution": {
     "iopub.execute_input": "2023-05-05T05:42:11.300128Z",
     "iopub.status.busy": "2023-05-05T05:42:11.299405Z",
     "iopub.status.idle": "2023-05-05T05:42:11.305231Z",
     "shell.execute_reply": "2023-05-05T05:42:11.304141Z"
    },
    "papermill": {
     "duration": 0.033086,
     "end_time": "2023-05-05T05:42:11.307677",
     "exception": false,
     "start_time": "2023-05-05T05:42:11.274591",
     "status": "completed"
    },
    "tags": []
   },
   "outputs": [],
   "source": [
    "def point_feature(l):\n",
    "    if type(l)==list: \n",
    "        value=[]\n",
    "        for i in l:\n",
    "            value.append(i.split(':')[0])\n",
    "        return value\n",
    "    return np.nan"
   ]
  },
  {
   "cell_type": "code",
   "execution_count": 68,
   "id": "783488ae",
   "metadata": {
    "execution": {
     "iopub.execute_input": "2023-05-05T05:42:11.356486Z",
     "iopub.status.busy": "2023-05-05T05:42:11.356014Z",
     "iopub.status.idle": "2023-05-05T05:42:11.362792Z",
     "shell.execute_reply": "2023-05-05T05:42:11.361787Z"
    },
    "papermill": {
     "duration": 0.033285,
     "end_time": "2023-05-05T05:42:11.364679",
     "exception": false,
     "start_time": "2023-05-05T05:42:11.331394",
     "status": "completed"
    },
    "tags": []
   },
   "outputs": [],
   "source": [
    "def point_size(l):\n",
    "    if type(l)==list: \n",
    "        value=[]\n",
    "        for txt in l:\n",
    "            txt=txt.lower()\n",
    "            if any(substring in txt for substring in ['in.','inch','cm','cms','m']):\n",
    "                value.append(txt)\n",
    "                continue\n",
    "            val=txt.split(':')[0]\n",
    "            if any(substring in val for substring in ['size','dimension','dimensions','package']):\n",
    "                value.append(txt)\n",
    "        if len(value)>0:\n",
    "            return value\n",
    "    return np.nan"
   ]
  },
  {
   "cell_type": "code",
   "execution_count": 69,
   "id": "bbd43e6d",
   "metadata": {
    "execution": {
     "iopub.execute_input": "2023-05-05T05:42:11.413041Z",
     "iopub.status.busy": "2023-05-05T05:42:11.412629Z",
     "iopub.status.idle": "2023-05-05T05:42:21.812017Z",
     "shell.execute_reply": "2023-05-05T05:42:21.811258Z"
    },
    "papermill": {
     "duration": 10.426173,
     "end_time": "2023-05-05T05:42:21.814135",
     "exception": false,
     "start_time": "2023-05-05T05:42:11.387962",
     "status": "completed"
    },
    "tags": []
   },
   "outputs": [
    {
     "data": {
      "text/plain": [
       "0          [luxurious and appealing, material,  cotton ca...\n",
       "1          [harry potter hedwig pyjamas (6-16 yrs), 100% ...\n",
       "2          [loud dual tone trumpet horn,  compatible with...\n",
       "3          [made by 95%cotton and 5% lycra which gives yo...\n",
       "4                                                        NaN\n",
       "                                 ...                        \n",
       "2249693                                          [material ]\n",
       "2249694    [ [inspiration] inspired by the untitled goose...\n",
       "2249695    [dial size, big,  clear representation of the ...\n",
       "2249696                                                  NaN\n",
       "2249697    [component box for pn[c7360pk], 4 inch lift, i...\n",
       "Name: BULLET_POINTS, Length: 2249698, dtype: object"
      ]
     },
     "execution_count": 69,
     "metadata": {},
     "output_type": "execute_result"
    }
   ],
   "source": [
    "df_points['BULLET_POINTS'].apply(point_feature)"
   ]
  },
  {
   "cell_type": "code",
   "execution_count": 70,
   "id": "fa163ddc",
   "metadata": {
    "execution": {
     "iopub.execute_input": "2023-05-05T05:42:21.865623Z",
     "iopub.status.busy": "2023-05-05T05:42:21.864984Z",
     "iopub.status.idle": "2023-05-05T05:51:48.343973Z",
     "shell.execute_reply": "2023-05-05T05:51:48.343049Z"
    },
    "papermill": {
     "duration": 566.506521,
     "end_time": "2023-05-05T05:51:48.346339",
     "exception": false,
     "start_time": "2023-05-05T05:42:21.839818",
     "status": "completed"
    },
    "tags": []
   },
   "outputs": [],
   "source": [
    "df_points['transform']=df_points['BULLET_POINTS'].apply(point_transfrom)"
   ]
  },
  {
   "cell_type": "code",
   "execution_count": 71,
   "id": "1d8ced13",
   "metadata": {
    "execution": {
     "iopub.execute_input": "2023-05-05T05:51:48.461381Z",
     "iopub.status.busy": "2023-05-05T05:51:48.460993Z",
     "iopub.status.idle": "2023-05-05T05:52:23.396387Z",
     "shell.execute_reply": "2023-05-05T05:52:23.395241Z"
    },
    "papermill": {
     "duration": 34.986826,
     "end_time": "2023-05-05T05:52:23.422899",
     "exception": false,
     "start_time": "2023-05-05T05:51:48.436073",
     "status": "completed"
    },
    "tags": []
   },
   "outputs": [
    {
     "data": {
      "text/plain": [
       "0          [luxurious and appealing: beautiful custom-mad...\n",
       "1          [harry potter hedwig pyjamas (6-16 yrs), 100% ...\n",
       "2          [loud dual tone trumpet horn,  compatible with...\n",
       "3          [made by 95%cotton and 5% lycra which gives yo...\n",
       "4                                                        NaN\n",
       "                                 ...                        \n",
       "2249693                               [material : polyester]\n",
       "2249694    [ [inspiration] inspired by the untitled goose...\n",
       "2249695    [dial size: 12 inch in diameter,  clear repres...\n",
       "2249696                                                  NaN\n",
       "2249697         [component box for pn[c7360pk], 4 inch lift]\n",
       "Name: BULLET_POINTS, Length: 2249698, dtype: object"
      ]
     },
     "execution_count": 71,
     "metadata": {},
     "output_type": "execute_result"
    }
   ],
   "source": [
    "df_points['BULLET_POINTS'].apply(point_size) # split has some errors"
   ]
  },
  {
   "cell_type": "code",
   "execution_count": 72,
   "id": "8b53f146",
   "metadata": {
    "execution": {
     "iopub.execute_input": "2023-05-05T05:52:23.472942Z",
     "iopub.status.busy": "2023-05-05T05:52:23.472166Z",
     "iopub.status.idle": "2023-05-05T05:52:23.477054Z",
     "shell.execute_reply": "2023-05-05T05:52:23.476272Z"
    },
    "papermill": {
     "duration": 0.032492,
     "end_time": "2023-05-05T05:52:23.479251",
     "exception": false,
     "start_time": "2023-05-05T05:52:23.446759",
     "status": "completed"
    },
    "tags": []
   },
   "outputs": [],
   "source": [
    "def to_1D(series):\n",
    " return pd.Series([x for _list in series for x in _list])"
   ]
  },
  {
   "cell_type": "code",
   "execution_count": 73,
   "id": "a2b0b071",
   "metadata": {
    "execution": {
     "iopub.execute_input": "2023-05-05T05:52:23.530207Z",
     "iopub.status.busy": "2023-05-05T05:52:23.529440Z",
     "iopub.status.idle": "2023-05-05T05:52:23.534791Z",
     "shell.execute_reply": "2023-05-05T05:52:23.534079Z"
    },
    "papermill": {
     "duration": 0.033048,
     "end_time": "2023-05-05T05:52:23.536910",
     "exception": false,
     "start_time": "2023-05-05T05:52:23.503862",
     "status": "completed"
    },
    "tags": []
   },
   "outputs": [],
   "source": [
    "def boolean_df(item_lists, unique_items):\n",
    "# Create empty dict\n",
    "    bool_dict = {}\n",
    "    \n",
    "    # Loop through all the tags\n",
    "    for i, item in enumerate(unique_items):\n",
    "        \n",
    "        # Apply boolean mask\n",
    "        bool_dict[item] = item_lists.apply(lambda x: item in x)\n",
    "            \n",
    "    # Return the results as a dataframe\n",
    "    return pd.DataFrame(bool_dict)"
   ]
  },
  {
   "cell_type": "code",
   "execution_count": 74,
   "id": "93f96562",
   "metadata": {
    "execution": {
     "iopub.execute_input": "2023-05-05T05:52:23.587665Z",
     "iopub.status.busy": "2023-05-05T05:52:23.587274Z",
     "iopub.status.idle": "2023-05-05T05:52:23.593131Z",
     "shell.execute_reply": "2023-05-05T05:52:23.592250Z"
    },
    "papermill": {
     "duration": 0.033352,
     "end_time": "2023-05-05T05:52:23.595052",
     "exception": false,
     "start_time": "2023-05-05T05:52:23.561700",
     "status": "completed"
    },
    "tags": []
   },
   "outputs": [],
   "source": [
    "def check(x,d):\n",
    "    for i in x:\n",
    "        if i in d:\n",
    "            return True\n",
    "    return False\n",
    "\n",
    "def oheplatform(s,d):\n",
    "    bool_dict = {}\n",
    "    for k in d.keys():\n",
    "        bool_dict[k]= s.apply(lambda x: check(x,d[k]))\n",
    "    return pd.DataFrame(bool_dict)\n",
    "                    "
   ]
  },
  {
   "cell_type": "markdown",
   "id": "87c8efeb",
   "metadata": {
    "papermill": {
     "duration": 0.023565,
     "end_time": "2023-05-05T05:52:23.642985",
     "exception": false,
     "start_time": "2023-05-05T05:52:23.619420",
     "status": "completed"
    },
    "tags": []
   },
   "source": [
    "## preprocessed Data"
   ]
  },
  {
   "cell_type": "code",
   "execution_count": 75,
   "id": "61aab0de",
   "metadata": {
    "execution": {
     "iopub.execute_input": "2023-05-05T05:52:23.692901Z",
     "iopub.status.busy": "2023-05-05T05:52:23.692228Z",
     "iopub.status.idle": "2023-05-05T05:52:23.714911Z",
     "shell.execute_reply": "2023-05-05T05:52:23.713847Z"
    },
    "papermill": {
     "duration": 0.050315,
     "end_time": "2023-05-05T05:52:23.717412",
     "exception": false,
     "start_time": "2023-05-05T05:52:23.667097",
     "status": "completed"
    },
    "tags": []
   },
   "outputs": [
    {
     "data": {
      "text/html": [
       "<div>\n",
       "<style scoped>\n",
       "    .dataframe tbody tr th:only-of-type {\n",
       "        vertical-align: middle;\n",
       "    }\n",
       "\n",
       "    .dataframe tbody tr th {\n",
       "        vertical-align: top;\n",
       "    }\n",
       "\n",
       "    .dataframe thead th {\n",
       "        text-align: right;\n",
       "    }\n",
       "</style>\n",
       "<table border=\"1\" class=\"dataframe\">\n",
       "  <thead>\n",
       "    <tr style=\"text-align: right;\">\n",
       "      <th></th>\n",
       "      <th>PRODUCT_ID</th>\n",
       "      <th>TITLE</th>\n",
       "      <th>BULLET_POINTS</th>\n",
       "      <th>DESCRIPTION</th>\n",
       "      <th>PRODUCT_TYPE_ID</th>\n",
       "      <th>PRODUCT_LENGTH</th>\n",
       "      <th>size_title</th>\n",
       "      <th>size_point</th>\n",
       "      <th>size_description</th>\n",
       "      <th>measure</th>\n",
       "    </tr>\n",
       "  </thead>\n",
       "  <tbody>\n",
       "    <tr>\n",
       "      <th>0</th>\n",
       "      <td>1925202</td>\n",
       "      <td>artzfolio tulip flowers blackout curtain for d...</td>\n",
       "      <td>[luxurious and appealing: beautiful custom-mad...</td>\n",
       "      <td>NaN</td>\n",
       "      <td>1650</td>\n",
       "      <td>2125.980000</td>\n",
       "      <td>[4.5feet, 54inch, 5 feet, 60 inch]</td>\n",
       "      <td>[4.5feet, 54inch, 5 feet, 60 inch]</td>\n",
       "      <td>NaN</td>\n",
       "      <td>3.0</td>\n",
       "    </tr>\n",
       "    <tr>\n",
       "      <th>1</th>\n",
       "      <td>2673191</td>\n",
       "      <td>marks and spencer girls' pyjama sets t86_2561c...</td>\n",
       "      <td>[harry potter hedwig pyjamas (6-16 yrs),100% c...</td>\n",
       "      <td>NaN</td>\n",
       "      <td>2755</td>\n",
       "      <td>393.700000</td>\n",
       "      <td>NaN</td>\n",
       "      <td>NaN</td>\n",
       "      <td>NaN</td>\n",
       "      <td>NaN</td>\n",
       "    </tr>\n",
       "    <tr>\n",
       "      <th>2</th>\n",
       "      <td>2765088</td>\n",
       "      <td>priknik horn red electric air horn compressor ...</td>\n",
       "      <td>[loud dual tone trumpet horn, compatible with ...</td>\n",
       "      <td>specifications: color: red, material: aluminiu...</td>\n",
       "      <td>7537</td>\n",
       "      <td>748.031495</td>\n",
       "      <td>NaN</td>\n",
       "      <td>NaN</td>\n",
       "      <td>NaN</td>\n",
       "      <td>NaN</td>\n",
       "    </tr>\n",
       "    <tr>\n",
       "      <th>3</th>\n",
       "      <td>1594019</td>\n",
       "      <td>alishah women is cotton ankle length leggings ...</td>\n",
       "      <td>[made by 95%cotton and 5% lycra which gives yo...</td>\n",
       "      <td>aishah women is lycra cotton ankel leggings. b...</td>\n",
       "      <td>2996</td>\n",
       "      <td>787.401574</td>\n",
       "      <td>NaN</td>\n",
       "      <td>NaN</td>\n",
       "      <td>[30 inch, 32 inch, 34 inch, 38 inch]</td>\n",
       "      <td>NaN</td>\n",
       "    </tr>\n",
       "    <tr>\n",
       "      <th>4</th>\n",
       "      <td>283658</td>\n",
       "      <td>the united empire loyalists: a chronicle of th...</td>\n",
       "      <td>NaN</td>\n",
       "      <td>NaN</td>\n",
       "      <td>6112</td>\n",
       "      <td>598.424000</td>\n",
       "      <td>NaN</td>\n",
       "      <td>NaN</td>\n",
       "      <td>NaN</td>\n",
       "      <td>NaN</td>\n",
       "    </tr>\n",
       "    <tr>\n",
       "      <th>...</th>\n",
       "      <td>...</td>\n",
       "      <td>...</td>\n",
       "      <td>...</td>\n",
       "      <td>...</td>\n",
       "      <td>...</td>\n",
       "      <td>...</td>\n",
       "      <td>...</td>\n",
       "      <td>...</td>\n",
       "      <td>...</td>\n",
       "      <td>...</td>\n",
       "    </tr>\n",
       "    <tr>\n",
       "      <th>2249693</th>\n",
       "      <td>2422167</td>\n",
       "      <td>nike women is as w ny df swsh hn kh bra (cz761...</td>\n",
       "      <td>material : polyester</td>\n",
       "      <td>NaN</td>\n",
       "      <td>3009</td>\n",
       "      <td>1181.100000</td>\n",
       "      <td>NaN</td>\n",
       "      <td>NaN</td>\n",
       "      <td>NaN</td>\n",
       "      <td>NaN</td>\n",
       "    </tr>\n",
       "    <tr>\n",
       "      <th>2249694</th>\n",
       "      <td>2766635</td>\n",
       "      <td>(3pcs) goose game cute cartoon enamel pins, fu...</td>\n",
       "      <td>[ [inspiration] inspired by the untitled goose...</td>\n",
       "      <td>[brand]: xvieonr  [product name]: fashion cute...</td>\n",
       "      <td>3413</td>\n",
       "      <td>125.984252</td>\n",
       "      <td>NaN</td>\n",
       "      <td>NaN</td>\n",
       "      <td>NaN</td>\n",
       "      <td>NaN</td>\n",
       "    </tr>\n",
       "    <tr>\n",
       "      <th>2249695</th>\n",
       "      <td>1987786</td>\n",
       "      <td>kangroo sweep movement printed wooden wall clo...</td>\n",
       "      <td>[dial size: 12 inch in diameter,big, clear rep...</td>\n",
       "      <td>wall clocks are very attractive in looks and e...</td>\n",
       "      <td>1574</td>\n",
       "      <td>1200.000000</td>\n",
       "      <td>[12 x 12 i]</td>\n",
       "      <td>[12 inch]</td>\n",
       "      <td>NaN</td>\n",
       "      <td>3.0</td>\n",
       "    </tr>\n",
       "    <tr>\n",
       "      <th>2249696</th>\n",
       "      <td>1165754</td>\n",
       "      <td>electro voice ekx-brkt15 | wall mount bracket ...</td>\n",
       "      <td>NaN</td>\n",
       "      <td>NaN</td>\n",
       "      <td>592</td>\n",
       "      <td>2900.000000</td>\n",
       "      <td>NaN</td>\n",
       "      <td>NaN</td>\n",
       "      <td>NaN</td>\n",
       "      <td>NaN</td>\n",
       "    </tr>\n",
       "    <tr>\n",
       "      <th>2249697</th>\n",
       "      <td>1072666</td>\n",
       "      <td>skyjacker c7360sp component box for pn[c7360pk...</td>\n",
       "      <td>[component box for pn[c7360pk],4 inch lift,inc...</td>\n",
       "      <td>skyjacker c7360sp component box for pn[c7360pk...</td>\n",
       "      <td>7367</td>\n",
       "      <td>2000.000000</td>\n",
       "      <td>[4 inch]</td>\n",
       "      <td>[4 inch]</td>\n",
       "      <td>NaN</td>\n",
       "      <td>NaN</td>\n",
       "    </tr>\n",
       "  </tbody>\n",
       "</table>\n",
       "<p>2249698 rows × 10 columns</p>\n",
       "</div>"
      ],
      "text/plain": [
       "         PRODUCT_ID                                              TITLE  \\\n",
       "0           1925202  artzfolio tulip flowers blackout curtain for d...   \n",
       "1           2673191  marks and spencer girls' pyjama sets t86_2561c...   \n",
       "2           2765088  priknik horn red electric air horn compressor ...   \n",
       "3           1594019  alishah women is cotton ankle length leggings ...   \n",
       "4            283658  the united empire loyalists: a chronicle of th...   \n",
       "...             ...                                                ...   \n",
       "2249693     2422167  nike women is as w ny df swsh hn kh bra (cz761...   \n",
       "2249694     2766635  (3pcs) goose game cute cartoon enamel pins, fu...   \n",
       "2249695     1987786  kangroo sweep movement printed wooden wall clo...   \n",
       "2249696     1165754  electro voice ekx-brkt15 | wall mount bracket ...   \n",
       "2249697     1072666  skyjacker c7360sp component box for pn[c7360pk...   \n",
       "\n",
       "                                             BULLET_POINTS  \\\n",
       "0        [luxurious and appealing: beautiful custom-mad...   \n",
       "1        [harry potter hedwig pyjamas (6-16 yrs),100% c...   \n",
       "2        [loud dual tone trumpet horn, compatible with ...   \n",
       "3        [made by 95%cotton and 5% lycra which gives yo...   \n",
       "4                                                      NaN   \n",
       "...                                                    ...   \n",
       "2249693                               material : polyester   \n",
       "2249694  [ [inspiration] inspired by the untitled goose...   \n",
       "2249695  [dial size: 12 inch in diameter,big, clear rep...   \n",
       "2249696                                                NaN   \n",
       "2249697  [component box for pn[c7360pk],4 inch lift,inc...   \n",
       "\n",
       "                                               DESCRIPTION PRODUCT_TYPE_ID  \\\n",
       "0                                                      NaN            1650   \n",
       "1                                                      NaN            2755   \n",
       "2        specifications: color: red, material: aluminiu...            7537   \n",
       "3        aishah women is lycra cotton ankel leggings. b...            2996   \n",
       "4                                                      NaN            6112   \n",
       "...                                                    ...             ...   \n",
       "2249693                                                NaN            3009   \n",
       "2249694  [brand]: xvieonr  [product name]: fashion cute...            3413   \n",
       "2249695  wall clocks are very attractive in looks and e...            1574   \n",
       "2249696                                                NaN             592   \n",
       "2249697  skyjacker c7360sp component box for pn[c7360pk...            7367   \n",
       "\n",
       "         PRODUCT_LENGTH                          size_title  \\\n",
       "0           2125.980000  [4.5feet, 54inch, 5 feet, 60 inch]   \n",
       "1            393.700000                                 NaN   \n",
       "2            748.031495                                 NaN   \n",
       "3            787.401574                                 NaN   \n",
       "4            598.424000                                 NaN   \n",
       "...                 ...                                 ...   \n",
       "2249693     1181.100000                                 NaN   \n",
       "2249694      125.984252                                 NaN   \n",
       "2249695     1200.000000                         [12 x 12 i]   \n",
       "2249696     2900.000000                                 NaN   \n",
       "2249697     2000.000000                            [4 inch]   \n",
       "\n",
       "                                 size_point  \\\n",
       "0        [4.5feet, 54inch, 5 feet, 60 inch]   \n",
       "1                                       NaN   \n",
       "2                                       NaN   \n",
       "3                                       NaN   \n",
       "4                                       NaN   \n",
       "...                                     ...   \n",
       "2249693                                 NaN   \n",
       "2249694                                 NaN   \n",
       "2249695                           [12 inch]   \n",
       "2249696                                 NaN   \n",
       "2249697                            [4 inch]   \n",
       "\n",
       "                             size_description  measure  \n",
       "0                                         NaN      3.0  \n",
       "1                                         NaN      NaN  \n",
       "2                                         NaN      NaN  \n",
       "3        [30 inch, 32 inch, 34 inch, 38 inch]      NaN  \n",
       "4                                         NaN      NaN  \n",
       "...                                       ...      ...  \n",
       "2249693                                   NaN      NaN  \n",
       "2249694                                   NaN      NaN  \n",
       "2249695                                   NaN      3.0  \n",
       "2249696                                   NaN      NaN  \n",
       "2249697                                   NaN      NaN  \n",
       "\n",
       "[2249698 rows x 10 columns]"
      ]
     },
     "execution_count": 75,
     "metadata": {},
     "output_type": "execute_result"
    }
   ],
   "source": [
    "df"
   ]
  }
 ],
 "metadata": {
  "kernelspec": {
   "display_name": "Python 3",
   "language": "python",
   "name": "python3"
  },
  "language_info": {
   "codemirror_mode": {
    "name": "ipython",
    "version": 3
   },
   "file_extension": ".py",
   "mimetype": "text/x-python",
   "name": "python",
   "nbconvert_exporter": "python",
   "pygments_lexer": "ipython3",
   "version": "3.10.10"
  },
  "papermill": {
   "default_parameters": {},
   "duration": 2213.135325,
   "end_time": "2023-05-05T05:52:27.371742",
   "environment_variables": {},
   "exception": null,
   "input_path": "__notebook__.ipynb",
   "output_path": "__notebook__.ipynb",
   "parameters": {},
   "start_time": "2023-05-05T05:15:34.236417",
   "version": "2.4.0"
  }
 },
 "nbformat": 4,
 "nbformat_minor": 5
}
